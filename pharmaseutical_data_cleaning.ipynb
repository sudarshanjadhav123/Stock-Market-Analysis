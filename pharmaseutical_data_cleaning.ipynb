{
  "nbformat": 4,
  "nbformat_minor": 0,
  "metadata": {
    "colab": {
      "provenance": []
    },
    "kernelspec": {
      "name": "python3",
      "display_name": "Python 3"
    },
    "language_info": {
      "name": "python"
    }
  },
  "cells": [
    {
      "cell_type": "code",
      "execution_count": null,
      "metadata": {
        "id": "nQrW611GijUf"
      },
      "outputs": [],
      "source": []
    },
    {
      "cell_type": "code",
      "execution_count": null,
      "metadata": {
        "id": "cpRkEjNdVwtD"
      },
      "outputs": [],
      "source": [
        "import pandas as pd\n",
        "import numpy as np\n",
        "import seaborn as sns\n"
      ]
    },
    {
      "cell_type": "code",
      "source": [],
      "metadata": {
        "id": "o0E4Ooqqi54L"
      },
      "execution_count": null,
      "outputs": []
    },
    {
      "cell_type": "code",
      "source": [
        "df=pd.read_csv(\"/content/pharma.csv\")\n",
        "df"
      ],
      "metadata": {
        "colab": {
          "base_uri": "https://localhost:8080/",
          "height": 852
        },
        "id": "jTJwHjA6WBiJ",
        "outputId": "ed3ce221-e091-49dd-b75b-8826f33a2f0b"
      },
      "execution_count": null,
      "outputs": [
        {
          "output_type": "execute_result",
          "data": {
            "text/plain": [
              "       Unnamed: 0                   Sector                   Company  \\\n",
              "0               0  Pharmaceuticals & Drugs  Aurobindo Pharma Limited   \n",
              "1               1  Pharmaceuticals & Drugs  Aurobindo Pharma Limited   \n",
              "2               2  Pharmaceuticals & Drugs  Aurobindo Pharma Limited   \n",
              "3               3  Pharmaceuticals & Drugs  Aurobindo Pharma Limited   \n",
              "4               4  Pharmaceuticals & Drugs  Aurobindo Pharma Limited   \n",
              "...           ...                      ...                       ...   \n",
              "27574       27574  Pharmaceuticals & Drugs     NATURAL CAPSULES LTD    \n",
              "27575       27575  Pharmaceuticals & Drugs     NATURAL CAPSULES LTD    \n",
              "27576       27576  Pharmaceuticals & Drugs     NATURAL CAPSULES LTD    \n",
              "27577       27577  Pharmaceuticals & Drugs     NATURAL CAPSULES LTD    \n",
              "27578       27578  Pharmaceuticals & Drugs     NATURAL CAPSULES LTD    \n",
              "\n",
              "                 BSE        Date        Open        High         Low  \\\n",
              "0      AUROPHARMA.BO  2012-01-02   43.000000   43.450001   42.525002   \n",
              "1      AUROPHARMA.BO  2012-01-03   43.525002   45.875000   43.450001   \n",
              "2      AUROPHARMA.BO  2012-01-04   45.500000   45.625000   44.250000   \n",
              "3      AUROPHARMA.BO  2012-01-05   44.974998   46.174999   44.950001   \n",
              "4      AUROPHARMA.BO  2012-01-06   45.825001   46.750000   44.674999   \n",
              "...              ...         ...         ...         ...         ...   \n",
              "27574   NATCAPSUQ.BO  2023-02-28  400.000000  408.799988  389.000000   \n",
              "27575   NATCAPSUQ.BO  2023-03-01  401.750000  418.000000  395.000000   \n",
              "27576   NATCAPSUQ.BO  2023-03-02  404.000000  414.000000  397.000000   \n",
              "27577   NATCAPSUQ.BO  2023-03-03  400.000000  411.899994  397.000000   \n",
              "27578   NATCAPSUQ.BO  2023-03-06  404.899994  411.000000  400.000000   \n",
              "\n",
              "            Close   Adj Close  Volume  Low_52  High_52   PE_Ratio  \\\n",
              "0       43.075001   39.915485  113202  281.15   1023.1   9.185602   \n",
              "1       45.500000   42.162613  282046  281.15   1023.1   9.185602   \n",
              "2       44.924999   41.629787  113702  281.15   1023.1   9.185602   \n",
              "3       45.849998   42.486942  113886  281.15   1023.1   9.185602   \n",
              "4       45.025002   41.722450  322172  281.15   1023.1   9.185602   \n",
              "...           ...         ...     ...     ...      ...        ...   \n",
              "27574  393.850006  393.850006    5340   32.65    411.0  84.715240   \n",
              "27575  400.899994  400.899994    8926   32.65    411.0  84.715240   \n",
              "27576  405.700012  405.700012    7911   32.65    411.0  84.715240   \n",
              "27577  398.750000  398.750000   18686   32.65    411.0  84.715240   \n",
              "27578  404.600006  404.600006    6126   32.65    411.0  84.715240   \n",
              "\n",
              "       Total_Revenue  Gross_Profit    Market_Cap   Net_Company  \n",
              "0       1.922593e+11  1.051329e+11  273374609408  2.364730e+10  \n",
              "1       1.922593e+11  1.051329e+11  273374609408  2.364730e+10  \n",
              "2       1.922593e+11  1.051329e+11  273374609408  2.364730e+10  \n",
              "3       1.922593e+11  1.051329e+11  273374609408  2.364730e+10  \n",
              "4       1.922593e+11  1.051329e+11  273374609408  2.364730e+10  \n",
              "...              ...           ...           ...           ...  \n",
              "27574   1.762950e+09  9.653280e+08    2521750528  2.090390e+08  \n",
              "27575   1.762950e+09  9.653280e+08    2521750528  2.090390e+08  \n",
              "27576   1.762950e+09  9.653280e+08    2521750528  2.090390e+08  \n",
              "27577   1.762950e+09  9.653280e+08    2521750528  2.090390e+08  \n",
              "27578   1.762950e+09  9.653280e+08    2521750528  2.090390e+08  \n",
              "\n",
              "[27579 rows x 18 columns]"
            ],
            "text/html": [
              "\n",
              "  <div id=\"df-486d1714-15f4-42d2-a7a4-1f000ef1c312\">\n",
              "    <div class=\"colab-df-container\">\n",
              "      <div>\n",
              "<style scoped>\n",
              "    .dataframe tbody tr th:only-of-type {\n",
              "        vertical-align: middle;\n",
              "    }\n",
              "\n",
              "    .dataframe tbody tr th {\n",
              "        vertical-align: top;\n",
              "    }\n",
              "\n",
              "    .dataframe thead th {\n",
              "        text-align: right;\n",
              "    }\n",
              "</style>\n",
              "<table border=\"1\" class=\"dataframe\">\n",
              "  <thead>\n",
              "    <tr style=\"text-align: right;\">\n",
              "      <th></th>\n",
              "      <th>Unnamed: 0</th>\n",
              "      <th>Sector</th>\n",
              "      <th>Company</th>\n",
              "      <th>BSE</th>\n",
              "      <th>Date</th>\n",
              "      <th>Open</th>\n",
              "      <th>High</th>\n",
              "      <th>Low</th>\n",
              "      <th>Close</th>\n",
              "      <th>Adj Close</th>\n",
              "      <th>Volume</th>\n",
              "      <th>Low_52</th>\n",
              "      <th>High_52</th>\n",
              "      <th>PE_Ratio</th>\n",
              "      <th>Total_Revenue</th>\n",
              "      <th>Gross_Profit</th>\n",
              "      <th>Market_Cap</th>\n",
              "      <th>Net_Company</th>\n",
              "    </tr>\n",
              "  </thead>\n",
              "  <tbody>\n",
              "    <tr>\n",
              "      <th>0</th>\n",
              "      <td>0</td>\n",
              "      <td>Pharmaceuticals &amp; Drugs</td>\n",
              "      <td>Aurobindo Pharma Limited</td>\n",
              "      <td>AUROPHARMA.BO</td>\n",
              "      <td>2012-01-02</td>\n",
              "      <td>43.000000</td>\n",
              "      <td>43.450001</td>\n",
              "      <td>42.525002</td>\n",
              "      <td>43.075001</td>\n",
              "      <td>39.915485</td>\n",
              "      <td>113202</td>\n",
              "      <td>281.15</td>\n",
              "      <td>1023.1</td>\n",
              "      <td>9.185602</td>\n",
              "      <td>1.922593e+11</td>\n",
              "      <td>1.051329e+11</td>\n",
              "      <td>273374609408</td>\n",
              "      <td>2.364730e+10</td>\n",
              "    </tr>\n",
              "    <tr>\n",
              "      <th>1</th>\n",
              "      <td>1</td>\n",
              "      <td>Pharmaceuticals &amp; Drugs</td>\n",
              "      <td>Aurobindo Pharma Limited</td>\n",
              "      <td>AUROPHARMA.BO</td>\n",
              "      <td>2012-01-03</td>\n",
              "      <td>43.525002</td>\n",
              "      <td>45.875000</td>\n",
              "      <td>43.450001</td>\n",
              "      <td>45.500000</td>\n",
              "      <td>42.162613</td>\n",
              "      <td>282046</td>\n",
              "      <td>281.15</td>\n",
              "      <td>1023.1</td>\n",
              "      <td>9.185602</td>\n",
              "      <td>1.922593e+11</td>\n",
              "      <td>1.051329e+11</td>\n",
              "      <td>273374609408</td>\n",
              "      <td>2.364730e+10</td>\n",
              "    </tr>\n",
              "    <tr>\n",
              "      <th>2</th>\n",
              "      <td>2</td>\n",
              "      <td>Pharmaceuticals &amp; Drugs</td>\n",
              "      <td>Aurobindo Pharma Limited</td>\n",
              "      <td>AUROPHARMA.BO</td>\n",
              "      <td>2012-01-04</td>\n",
              "      <td>45.500000</td>\n",
              "      <td>45.625000</td>\n",
              "      <td>44.250000</td>\n",
              "      <td>44.924999</td>\n",
              "      <td>41.629787</td>\n",
              "      <td>113702</td>\n",
              "      <td>281.15</td>\n",
              "      <td>1023.1</td>\n",
              "      <td>9.185602</td>\n",
              "      <td>1.922593e+11</td>\n",
              "      <td>1.051329e+11</td>\n",
              "      <td>273374609408</td>\n",
              "      <td>2.364730e+10</td>\n",
              "    </tr>\n",
              "    <tr>\n",
              "      <th>3</th>\n",
              "      <td>3</td>\n",
              "      <td>Pharmaceuticals &amp; Drugs</td>\n",
              "      <td>Aurobindo Pharma Limited</td>\n",
              "      <td>AUROPHARMA.BO</td>\n",
              "      <td>2012-01-05</td>\n",
              "      <td>44.974998</td>\n",
              "      <td>46.174999</td>\n",
              "      <td>44.950001</td>\n",
              "      <td>45.849998</td>\n",
              "      <td>42.486942</td>\n",
              "      <td>113886</td>\n",
              "      <td>281.15</td>\n",
              "      <td>1023.1</td>\n",
              "      <td>9.185602</td>\n",
              "      <td>1.922593e+11</td>\n",
              "      <td>1.051329e+11</td>\n",
              "      <td>273374609408</td>\n",
              "      <td>2.364730e+10</td>\n",
              "    </tr>\n",
              "    <tr>\n",
              "      <th>4</th>\n",
              "      <td>4</td>\n",
              "      <td>Pharmaceuticals &amp; Drugs</td>\n",
              "      <td>Aurobindo Pharma Limited</td>\n",
              "      <td>AUROPHARMA.BO</td>\n",
              "      <td>2012-01-06</td>\n",
              "      <td>45.825001</td>\n",
              "      <td>46.750000</td>\n",
              "      <td>44.674999</td>\n",
              "      <td>45.025002</td>\n",
              "      <td>41.722450</td>\n",
              "      <td>322172</td>\n",
              "      <td>281.15</td>\n",
              "      <td>1023.1</td>\n",
              "      <td>9.185602</td>\n",
              "      <td>1.922593e+11</td>\n",
              "      <td>1.051329e+11</td>\n",
              "      <td>273374609408</td>\n",
              "      <td>2.364730e+10</td>\n",
              "    </tr>\n",
              "    <tr>\n",
              "      <th>...</th>\n",
              "      <td>...</td>\n",
              "      <td>...</td>\n",
              "      <td>...</td>\n",
              "      <td>...</td>\n",
              "      <td>...</td>\n",
              "      <td>...</td>\n",
              "      <td>...</td>\n",
              "      <td>...</td>\n",
              "      <td>...</td>\n",
              "      <td>...</td>\n",
              "      <td>...</td>\n",
              "      <td>...</td>\n",
              "      <td>...</td>\n",
              "      <td>...</td>\n",
              "      <td>...</td>\n",
              "      <td>...</td>\n",
              "      <td>...</td>\n",
              "      <td>...</td>\n",
              "    </tr>\n",
              "    <tr>\n",
              "      <th>27574</th>\n",
              "      <td>27574</td>\n",
              "      <td>Pharmaceuticals &amp; Drugs</td>\n",
              "      <td>NATURAL CAPSULES LTD</td>\n",
              "      <td>NATCAPSUQ.BO</td>\n",
              "      <td>2023-02-28</td>\n",
              "      <td>400.000000</td>\n",
              "      <td>408.799988</td>\n",
              "      <td>389.000000</td>\n",
              "      <td>393.850006</td>\n",
              "      <td>393.850006</td>\n",
              "      <td>5340</td>\n",
              "      <td>32.65</td>\n",
              "      <td>411.0</td>\n",
              "      <td>84.715240</td>\n",
              "      <td>1.762950e+09</td>\n",
              "      <td>9.653280e+08</td>\n",
              "      <td>2521750528</td>\n",
              "      <td>2.090390e+08</td>\n",
              "    </tr>\n",
              "    <tr>\n",
              "      <th>27575</th>\n",
              "      <td>27575</td>\n",
              "      <td>Pharmaceuticals &amp; Drugs</td>\n",
              "      <td>NATURAL CAPSULES LTD</td>\n",
              "      <td>NATCAPSUQ.BO</td>\n",
              "      <td>2023-03-01</td>\n",
              "      <td>401.750000</td>\n",
              "      <td>418.000000</td>\n",
              "      <td>395.000000</td>\n",
              "      <td>400.899994</td>\n",
              "      <td>400.899994</td>\n",
              "      <td>8926</td>\n",
              "      <td>32.65</td>\n",
              "      <td>411.0</td>\n",
              "      <td>84.715240</td>\n",
              "      <td>1.762950e+09</td>\n",
              "      <td>9.653280e+08</td>\n",
              "      <td>2521750528</td>\n",
              "      <td>2.090390e+08</td>\n",
              "    </tr>\n",
              "    <tr>\n",
              "      <th>27576</th>\n",
              "      <td>27576</td>\n",
              "      <td>Pharmaceuticals &amp; Drugs</td>\n",
              "      <td>NATURAL CAPSULES LTD</td>\n",
              "      <td>NATCAPSUQ.BO</td>\n",
              "      <td>2023-03-02</td>\n",
              "      <td>404.000000</td>\n",
              "      <td>414.000000</td>\n",
              "      <td>397.000000</td>\n",
              "      <td>405.700012</td>\n",
              "      <td>405.700012</td>\n",
              "      <td>7911</td>\n",
              "      <td>32.65</td>\n",
              "      <td>411.0</td>\n",
              "      <td>84.715240</td>\n",
              "      <td>1.762950e+09</td>\n",
              "      <td>9.653280e+08</td>\n",
              "      <td>2521750528</td>\n",
              "      <td>2.090390e+08</td>\n",
              "    </tr>\n",
              "    <tr>\n",
              "      <th>27577</th>\n",
              "      <td>27577</td>\n",
              "      <td>Pharmaceuticals &amp; Drugs</td>\n",
              "      <td>NATURAL CAPSULES LTD</td>\n",
              "      <td>NATCAPSUQ.BO</td>\n",
              "      <td>2023-03-03</td>\n",
              "      <td>400.000000</td>\n",
              "      <td>411.899994</td>\n",
              "      <td>397.000000</td>\n",
              "      <td>398.750000</td>\n",
              "      <td>398.750000</td>\n",
              "      <td>18686</td>\n",
              "      <td>32.65</td>\n",
              "      <td>411.0</td>\n",
              "      <td>84.715240</td>\n",
              "      <td>1.762950e+09</td>\n",
              "      <td>9.653280e+08</td>\n",
              "      <td>2521750528</td>\n",
              "      <td>2.090390e+08</td>\n",
              "    </tr>\n",
              "    <tr>\n",
              "      <th>27578</th>\n",
              "      <td>27578</td>\n",
              "      <td>Pharmaceuticals &amp; Drugs</td>\n",
              "      <td>NATURAL CAPSULES LTD</td>\n",
              "      <td>NATCAPSUQ.BO</td>\n",
              "      <td>2023-03-06</td>\n",
              "      <td>404.899994</td>\n",
              "      <td>411.000000</td>\n",
              "      <td>400.000000</td>\n",
              "      <td>404.600006</td>\n",
              "      <td>404.600006</td>\n",
              "      <td>6126</td>\n",
              "      <td>32.65</td>\n",
              "      <td>411.0</td>\n",
              "      <td>84.715240</td>\n",
              "      <td>1.762950e+09</td>\n",
              "      <td>9.653280e+08</td>\n",
              "      <td>2521750528</td>\n",
              "      <td>2.090390e+08</td>\n",
              "    </tr>\n",
              "  </tbody>\n",
              "</table>\n",
              "<p>27579 rows × 18 columns</p>\n",
              "</div>\n",
              "      <button class=\"colab-df-convert\" onclick=\"convertToInteractive('df-486d1714-15f4-42d2-a7a4-1f000ef1c312')\"\n",
              "              title=\"Convert this dataframe to an interactive table.\"\n",
              "              style=\"display:none;\">\n",
              "        \n",
              "  <svg xmlns=\"http://www.w3.org/2000/svg\" height=\"24px\"viewBox=\"0 0 24 24\"\n",
              "       width=\"24px\">\n",
              "    <path d=\"M0 0h24v24H0V0z\" fill=\"none\"/>\n",
              "    <path d=\"M18.56 5.44l.94 2.06.94-2.06 2.06-.94-2.06-.94-.94-2.06-.94 2.06-2.06.94zm-11 1L8.5 8.5l.94-2.06 2.06-.94-2.06-.94L8.5 2.5l-.94 2.06-2.06.94zm10 10l.94 2.06.94-2.06 2.06-.94-2.06-.94-.94-2.06-.94 2.06-2.06.94z\"/><path d=\"M17.41 7.96l-1.37-1.37c-.4-.4-.92-.59-1.43-.59-.52 0-1.04.2-1.43.59L10.3 9.45l-7.72 7.72c-.78.78-.78 2.05 0 2.83L4 21.41c.39.39.9.59 1.41.59.51 0 1.02-.2 1.41-.59l7.78-7.78 2.81-2.81c.8-.78.8-2.07 0-2.86zM5.41 20L4 18.59l7.72-7.72 1.47 1.35L5.41 20z\"/>\n",
              "  </svg>\n",
              "      </button>\n",
              "      \n",
              "  <style>\n",
              "    .colab-df-container {\n",
              "      display:flex;\n",
              "      flex-wrap:wrap;\n",
              "      gap: 12px;\n",
              "    }\n",
              "\n",
              "    .colab-df-convert {\n",
              "      background-color: #E8F0FE;\n",
              "      border: none;\n",
              "      border-radius: 50%;\n",
              "      cursor: pointer;\n",
              "      display: none;\n",
              "      fill: #1967D2;\n",
              "      height: 32px;\n",
              "      padding: 0 0 0 0;\n",
              "      width: 32px;\n",
              "    }\n",
              "\n",
              "    .colab-df-convert:hover {\n",
              "      background-color: #E2EBFA;\n",
              "      box-shadow: 0px 1px 2px rgba(60, 64, 67, 0.3), 0px 1px 3px 1px rgba(60, 64, 67, 0.15);\n",
              "      fill: #174EA6;\n",
              "    }\n",
              "\n",
              "    [theme=dark] .colab-df-convert {\n",
              "      background-color: #3B4455;\n",
              "      fill: #D2E3FC;\n",
              "    }\n",
              "\n",
              "    [theme=dark] .colab-df-convert:hover {\n",
              "      background-color: #434B5C;\n",
              "      box-shadow: 0px 1px 3px 1px rgba(0, 0, 0, 0.15);\n",
              "      filter: drop-shadow(0px 1px 2px rgba(0, 0, 0, 0.3));\n",
              "      fill: #FFFFFF;\n",
              "    }\n",
              "  </style>\n",
              "\n",
              "      <script>\n",
              "        const buttonEl =\n",
              "          document.querySelector('#df-486d1714-15f4-42d2-a7a4-1f000ef1c312 button.colab-df-convert');\n",
              "        buttonEl.style.display =\n",
              "          google.colab.kernel.accessAllowed ? 'block' : 'none';\n",
              "\n",
              "        async function convertToInteractive(key) {\n",
              "          const element = document.querySelector('#df-486d1714-15f4-42d2-a7a4-1f000ef1c312');\n",
              "          const dataTable =\n",
              "            await google.colab.kernel.invokeFunction('convertToInteractive',\n",
              "                                                     [key], {});\n",
              "          if (!dataTable) return;\n",
              "\n",
              "          const docLinkHtml = 'Like what you see? Visit the ' +\n",
              "            '<a target=\"_blank\" href=https://colab.research.google.com/notebooks/data_table.ipynb>data table notebook</a>'\n",
              "            + ' to learn more about interactive tables.';\n",
              "          element.innerHTML = '';\n",
              "          dataTable['output_type'] = 'display_data';\n",
              "          await google.colab.output.renderOutput(dataTable, element);\n",
              "          const docLink = document.createElement('div');\n",
              "          docLink.innerHTML = docLinkHtml;\n",
              "          element.appendChild(docLink);\n",
              "        }\n",
              "      </script>\n",
              "    </div>\n",
              "  </div>\n",
              "  "
            ]
          },
          "metadata": {},
          "execution_count": 22
        }
      ]
    },
    {
      "cell_type": "code",
      "source": [],
      "metadata": {
        "id": "0RNd05W2jOas"
      },
      "execution_count": null,
      "outputs": []
    },
    {
      "cell_type": "code",
      "source": [
        "df.info()"
      ],
      "metadata": {
        "colab": {
          "base_uri": "https://localhost:8080/"
        },
        "id": "DF8q0AhwXZvH",
        "outputId": "e4abcf95-3eaa-4cbf-e10c-8ae3fdb2e9b0"
      },
      "execution_count": null,
      "outputs": [
        {
          "output_type": "stream",
          "name": "stdout",
          "text": [
            "<class 'pandas.core.frame.DataFrame'>\n",
            "RangeIndex: 27579 entries, 0 to 27578\n",
            "Data columns (total 18 columns):\n",
            " #   Column         Non-Null Count  Dtype  \n",
            "---  ------         --------------  -----  \n",
            " 0   Unnamed: 0     27579 non-null  int64  \n",
            " 1   Sector         27579 non-null  object \n",
            " 2   Company        27579 non-null  object \n",
            " 3   BSE            27579 non-null  object \n",
            " 4   Date           27579 non-null  object \n",
            " 5   Open           27579 non-null  float64\n",
            " 6   High           27579 non-null  float64\n",
            " 7   Low            27579 non-null  float64\n",
            " 8   Close          27579 non-null  float64\n",
            " 9   Adj Close      27579 non-null  float64\n",
            " 10  Volume         27579 non-null  int64  \n",
            " 11  Low_52         27579 non-null  float64\n",
            " 12  High_52        27579 non-null  float64\n",
            " 13  PE_Ratio       22063 non-null  float64\n",
            " 14  Total_Revenue  27579 non-null  float64\n",
            " 15  Gross_Profit   27579 non-null  float64\n",
            " 16  Market_Cap     27579 non-null  int64  \n",
            " 17  Net_Company    27579 non-null  float64\n",
            "dtypes: float64(11), int64(3), object(4)\n",
            "memory usage: 3.8+ MB\n"
          ]
        }
      ]
    },
    {
      "cell_type": "code",
      "source": [],
      "metadata": {
        "id": "fGp69bFGjWuy"
      },
      "execution_count": null,
      "outputs": []
    },
    {
      "cell_type": "code",
      "source": [
        "df.isnull().sum()"
      ],
      "metadata": {
        "colab": {
          "base_uri": "https://localhost:8080/"
        },
        "id": "FAy_OI7wWWen",
        "outputId": "a044b5ee-0cf6-49e7-e886-8a1ff5bcffda"
      },
      "execution_count": null,
      "outputs": [
        {
          "output_type": "execute_result",
          "data": {
            "text/plain": [
              "Unnamed: 0          0\n",
              "Sector              0\n",
              "Company             0\n",
              "BSE                 0\n",
              "Date                0\n",
              "Open                0\n",
              "High                0\n",
              "Low                 0\n",
              "Close               0\n",
              "Adj Close           0\n",
              "Volume              0\n",
              "Low_52              0\n",
              "High_52             0\n",
              "PE_Ratio         5516\n",
              "Total_Revenue       0\n",
              "Gross_Profit        0\n",
              "Market_Cap          0\n",
              "Net_Company         0\n",
              "dtype: int64"
            ]
          },
          "metadata": {},
          "execution_count": 24
        }
      ]
    },
    {
      "cell_type": "code",
      "source": [],
      "metadata": {
        "id": "ZPmuZ0ePjcZV"
      },
      "execution_count": null,
      "outputs": []
    },
    {
      "cell_type": "code",
      "source": [],
      "metadata": {
        "id": "vMZNdE1ylhxV"
      },
      "execution_count": null,
      "outputs": []
    },
    {
      "cell_type": "code",
      "source": [
        "#treating missing value\n",
        "numerical_columns=[\"PE_Ratio\"]\n",
        "\n",
        "\n",
        "from sklearn.impute import SimpleImputer\n",
        "imputer=SimpleImputer(missing_values=np.nan,strategy=\"mean\")\n",
        "df[numerical_columns]=imputer.fit_transform(df[numerical_columns])\n"
      ],
      "metadata": {
        "id": "XTjEkmpOWUQx"
      },
      "execution_count": null,
      "outputs": []
    },
    {
      "cell_type": "code",
      "source": [],
      "metadata": {
        "id": "yWoaWsG8jehK"
      },
      "execution_count": null,
      "outputs": []
    },
    {
      "cell_type": "code",
      "source": [
        "df.isnull().sum()"
      ],
      "metadata": {
        "colab": {
          "base_uri": "https://localhost:8080/"
        },
        "id": "8mh7OxC3W5va",
        "outputId": "94505600-9533-4522-8d52-be4efa84c945"
      },
      "execution_count": null,
      "outputs": [
        {
          "output_type": "execute_result",
          "data": {
            "text/plain": [
              "Unnamed: 0       0\n",
              "Sector           0\n",
              "Company          0\n",
              "BSE              0\n",
              "Date             0\n",
              "Open             0\n",
              "High             0\n",
              "Low              0\n",
              "Close            0\n",
              "Adj Close        0\n",
              "Volume           0\n",
              "Low_52           0\n",
              "High_52          0\n",
              "PE_Ratio         0\n",
              "Total_Revenue    0\n",
              "Gross_Profit     0\n",
              "Market_Cap       0\n",
              "Net_Company      0\n",
              "dtype: int64"
            ]
          },
          "metadata": {},
          "execution_count": 26
        }
      ]
    },
    {
      "cell_type": "code",
      "source": [
        "df"
      ],
      "metadata": {
        "colab": {
          "base_uri": "https://localhost:8080/",
          "height": 852
        },
        "id": "c5FawS5iji0z",
        "outputId": "e335c360-3a3d-4ed0-898b-bfd4224a1408"
      },
      "execution_count": null,
      "outputs": [
        {
          "output_type": "execute_result",
          "data": {
            "text/plain": [
              "       Unnamed: 0                   Sector                   Company  \\\n",
              "0               0  Pharmaceuticals & Drugs  Aurobindo Pharma Limited   \n",
              "1               1  Pharmaceuticals & Drugs  Aurobindo Pharma Limited   \n",
              "2               2  Pharmaceuticals & Drugs  Aurobindo Pharma Limited   \n",
              "3               3  Pharmaceuticals & Drugs  Aurobindo Pharma Limited   \n",
              "4               4  Pharmaceuticals & Drugs  Aurobindo Pharma Limited   \n",
              "...           ...                      ...                       ...   \n",
              "27574       27574  Pharmaceuticals & Drugs     NATURAL CAPSULES LTD    \n",
              "27575       27575  Pharmaceuticals & Drugs     NATURAL CAPSULES LTD    \n",
              "27576       27576  Pharmaceuticals & Drugs     NATURAL CAPSULES LTD    \n",
              "27577       27577  Pharmaceuticals & Drugs     NATURAL CAPSULES LTD    \n",
              "27578       27578  Pharmaceuticals & Drugs     NATURAL CAPSULES LTD    \n",
              "\n",
              "                 BSE        Date        Open        High         Low  \\\n",
              "0      AUROPHARMA.BO  2012-01-02   43.000000   43.450001   42.525002   \n",
              "1      AUROPHARMA.BO  2012-01-03   43.525002   45.875000   43.450001   \n",
              "2      AUROPHARMA.BO  2012-01-04   45.500000   45.625000   44.250000   \n",
              "3      AUROPHARMA.BO  2012-01-05   44.974998   46.174999   44.950001   \n",
              "4      AUROPHARMA.BO  2012-01-06   45.825001   46.750000   44.674999   \n",
              "...              ...         ...         ...         ...         ...   \n",
              "27574   NATCAPSUQ.BO  2023-02-28  400.000000  408.799988  389.000000   \n",
              "27575   NATCAPSUQ.BO  2023-03-01  401.750000  418.000000  395.000000   \n",
              "27576   NATCAPSUQ.BO  2023-03-02  404.000000  414.000000  397.000000   \n",
              "27577   NATCAPSUQ.BO  2023-03-03  400.000000  411.899994  397.000000   \n",
              "27578   NATCAPSUQ.BO  2023-03-06  404.899994  411.000000  400.000000   \n",
              "\n",
              "            Close   Adj Close  Volume  Low_52  High_52   PE_Ratio  \\\n",
              "0       43.075001   39.915485  113202  281.15   1023.1   9.185602   \n",
              "1       45.500000   42.162613  282046  281.15   1023.1   9.185602   \n",
              "2       44.924999   41.629787  113702  281.15   1023.1   9.185602   \n",
              "3       45.849998   42.486942  113886  281.15   1023.1   9.185602   \n",
              "4       45.025002   41.722450  322172  281.15   1023.1   9.185602   \n",
              "...           ...         ...     ...     ...      ...        ...   \n",
              "27574  393.850006  393.850006    5340   32.65    411.0  84.715240   \n",
              "27575  400.899994  400.899994    8926   32.65    411.0  84.715240   \n",
              "27576  405.700012  405.700012    7911   32.65    411.0  84.715240   \n",
              "27577  398.750000  398.750000   18686   32.65    411.0  84.715240   \n",
              "27578  404.600006  404.600006    6126   32.65    411.0  84.715240   \n",
              "\n",
              "       Total_Revenue  Gross_Profit    Market_Cap   Net_Company  \n",
              "0       1.922593e+11  1.051329e+11  273374609408  2.364730e+10  \n",
              "1       1.922593e+11  1.051329e+11  273374609408  2.364730e+10  \n",
              "2       1.922593e+11  1.051329e+11  273374609408  2.364730e+10  \n",
              "3       1.922593e+11  1.051329e+11  273374609408  2.364730e+10  \n",
              "4       1.922593e+11  1.051329e+11  273374609408  2.364730e+10  \n",
              "...              ...           ...           ...           ...  \n",
              "27574   1.762950e+09  9.653280e+08    2521750528  2.090390e+08  \n",
              "27575   1.762950e+09  9.653280e+08    2521750528  2.090390e+08  \n",
              "27576   1.762950e+09  9.653280e+08    2521750528  2.090390e+08  \n",
              "27577   1.762950e+09  9.653280e+08    2521750528  2.090390e+08  \n",
              "27578   1.762950e+09  9.653280e+08    2521750528  2.090390e+08  \n",
              "\n",
              "[27579 rows x 18 columns]"
            ],
            "text/html": [
              "\n",
              "  <div id=\"df-805c3411-3c19-4fd4-9ba4-501ec581160e\">\n",
              "    <div class=\"colab-df-container\">\n",
              "      <div>\n",
              "<style scoped>\n",
              "    .dataframe tbody tr th:only-of-type {\n",
              "        vertical-align: middle;\n",
              "    }\n",
              "\n",
              "    .dataframe tbody tr th {\n",
              "        vertical-align: top;\n",
              "    }\n",
              "\n",
              "    .dataframe thead th {\n",
              "        text-align: right;\n",
              "    }\n",
              "</style>\n",
              "<table border=\"1\" class=\"dataframe\">\n",
              "  <thead>\n",
              "    <tr style=\"text-align: right;\">\n",
              "      <th></th>\n",
              "      <th>Unnamed: 0</th>\n",
              "      <th>Sector</th>\n",
              "      <th>Company</th>\n",
              "      <th>BSE</th>\n",
              "      <th>Date</th>\n",
              "      <th>Open</th>\n",
              "      <th>High</th>\n",
              "      <th>Low</th>\n",
              "      <th>Close</th>\n",
              "      <th>Adj Close</th>\n",
              "      <th>Volume</th>\n",
              "      <th>Low_52</th>\n",
              "      <th>High_52</th>\n",
              "      <th>PE_Ratio</th>\n",
              "      <th>Total_Revenue</th>\n",
              "      <th>Gross_Profit</th>\n",
              "      <th>Market_Cap</th>\n",
              "      <th>Net_Company</th>\n",
              "    </tr>\n",
              "  </thead>\n",
              "  <tbody>\n",
              "    <tr>\n",
              "      <th>0</th>\n",
              "      <td>0</td>\n",
              "      <td>Pharmaceuticals &amp; Drugs</td>\n",
              "      <td>Aurobindo Pharma Limited</td>\n",
              "      <td>AUROPHARMA.BO</td>\n",
              "      <td>2012-01-02</td>\n",
              "      <td>43.000000</td>\n",
              "      <td>43.450001</td>\n",
              "      <td>42.525002</td>\n",
              "      <td>43.075001</td>\n",
              "      <td>39.915485</td>\n",
              "      <td>113202</td>\n",
              "      <td>281.15</td>\n",
              "      <td>1023.1</td>\n",
              "      <td>9.185602</td>\n",
              "      <td>1.922593e+11</td>\n",
              "      <td>1.051329e+11</td>\n",
              "      <td>273374609408</td>\n",
              "      <td>2.364730e+10</td>\n",
              "    </tr>\n",
              "    <tr>\n",
              "      <th>1</th>\n",
              "      <td>1</td>\n",
              "      <td>Pharmaceuticals &amp; Drugs</td>\n",
              "      <td>Aurobindo Pharma Limited</td>\n",
              "      <td>AUROPHARMA.BO</td>\n",
              "      <td>2012-01-03</td>\n",
              "      <td>43.525002</td>\n",
              "      <td>45.875000</td>\n",
              "      <td>43.450001</td>\n",
              "      <td>45.500000</td>\n",
              "      <td>42.162613</td>\n",
              "      <td>282046</td>\n",
              "      <td>281.15</td>\n",
              "      <td>1023.1</td>\n",
              "      <td>9.185602</td>\n",
              "      <td>1.922593e+11</td>\n",
              "      <td>1.051329e+11</td>\n",
              "      <td>273374609408</td>\n",
              "      <td>2.364730e+10</td>\n",
              "    </tr>\n",
              "    <tr>\n",
              "      <th>2</th>\n",
              "      <td>2</td>\n",
              "      <td>Pharmaceuticals &amp; Drugs</td>\n",
              "      <td>Aurobindo Pharma Limited</td>\n",
              "      <td>AUROPHARMA.BO</td>\n",
              "      <td>2012-01-04</td>\n",
              "      <td>45.500000</td>\n",
              "      <td>45.625000</td>\n",
              "      <td>44.250000</td>\n",
              "      <td>44.924999</td>\n",
              "      <td>41.629787</td>\n",
              "      <td>113702</td>\n",
              "      <td>281.15</td>\n",
              "      <td>1023.1</td>\n",
              "      <td>9.185602</td>\n",
              "      <td>1.922593e+11</td>\n",
              "      <td>1.051329e+11</td>\n",
              "      <td>273374609408</td>\n",
              "      <td>2.364730e+10</td>\n",
              "    </tr>\n",
              "    <tr>\n",
              "      <th>3</th>\n",
              "      <td>3</td>\n",
              "      <td>Pharmaceuticals &amp; Drugs</td>\n",
              "      <td>Aurobindo Pharma Limited</td>\n",
              "      <td>AUROPHARMA.BO</td>\n",
              "      <td>2012-01-05</td>\n",
              "      <td>44.974998</td>\n",
              "      <td>46.174999</td>\n",
              "      <td>44.950001</td>\n",
              "      <td>45.849998</td>\n",
              "      <td>42.486942</td>\n",
              "      <td>113886</td>\n",
              "      <td>281.15</td>\n",
              "      <td>1023.1</td>\n",
              "      <td>9.185602</td>\n",
              "      <td>1.922593e+11</td>\n",
              "      <td>1.051329e+11</td>\n",
              "      <td>273374609408</td>\n",
              "      <td>2.364730e+10</td>\n",
              "    </tr>\n",
              "    <tr>\n",
              "      <th>4</th>\n",
              "      <td>4</td>\n",
              "      <td>Pharmaceuticals &amp; Drugs</td>\n",
              "      <td>Aurobindo Pharma Limited</td>\n",
              "      <td>AUROPHARMA.BO</td>\n",
              "      <td>2012-01-06</td>\n",
              "      <td>45.825001</td>\n",
              "      <td>46.750000</td>\n",
              "      <td>44.674999</td>\n",
              "      <td>45.025002</td>\n",
              "      <td>41.722450</td>\n",
              "      <td>322172</td>\n",
              "      <td>281.15</td>\n",
              "      <td>1023.1</td>\n",
              "      <td>9.185602</td>\n",
              "      <td>1.922593e+11</td>\n",
              "      <td>1.051329e+11</td>\n",
              "      <td>273374609408</td>\n",
              "      <td>2.364730e+10</td>\n",
              "    </tr>\n",
              "    <tr>\n",
              "      <th>...</th>\n",
              "      <td>...</td>\n",
              "      <td>...</td>\n",
              "      <td>...</td>\n",
              "      <td>...</td>\n",
              "      <td>...</td>\n",
              "      <td>...</td>\n",
              "      <td>...</td>\n",
              "      <td>...</td>\n",
              "      <td>...</td>\n",
              "      <td>...</td>\n",
              "      <td>...</td>\n",
              "      <td>...</td>\n",
              "      <td>...</td>\n",
              "      <td>...</td>\n",
              "      <td>...</td>\n",
              "      <td>...</td>\n",
              "      <td>...</td>\n",
              "      <td>...</td>\n",
              "    </tr>\n",
              "    <tr>\n",
              "      <th>27574</th>\n",
              "      <td>27574</td>\n",
              "      <td>Pharmaceuticals &amp; Drugs</td>\n",
              "      <td>NATURAL CAPSULES LTD</td>\n",
              "      <td>NATCAPSUQ.BO</td>\n",
              "      <td>2023-02-28</td>\n",
              "      <td>400.000000</td>\n",
              "      <td>408.799988</td>\n",
              "      <td>389.000000</td>\n",
              "      <td>393.850006</td>\n",
              "      <td>393.850006</td>\n",
              "      <td>5340</td>\n",
              "      <td>32.65</td>\n",
              "      <td>411.0</td>\n",
              "      <td>84.715240</td>\n",
              "      <td>1.762950e+09</td>\n",
              "      <td>9.653280e+08</td>\n",
              "      <td>2521750528</td>\n",
              "      <td>2.090390e+08</td>\n",
              "    </tr>\n",
              "    <tr>\n",
              "      <th>27575</th>\n",
              "      <td>27575</td>\n",
              "      <td>Pharmaceuticals &amp; Drugs</td>\n",
              "      <td>NATURAL CAPSULES LTD</td>\n",
              "      <td>NATCAPSUQ.BO</td>\n",
              "      <td>2023-03-01</td>\n",
              "      <td>401.750000</td>\n",
              "      <td>418.000000</td>\n",
              "      <td>395.000000</td>\n",
              "      <td>400.899994</td>\n",
              "      <td>400.899994</td>\n",
              "      <td>8926</td>\n",
              "      <td>32.65</td>\n",
              "      <td>411.0</td>\n",
              "      <td>84.715240</td>\n",
              "      <td>1.762950e+09</td>\n",
              "      <td>9.653280e+08</td>\n",
              "      <td>2521750528</td>\n",
              "      <td>2.090390e+08</td>\n",
              "    </tr>\n",
              "    <tr>\n",
              "      <th>27576</th>\n",
              "      <td>27576</td>\n",
              "      <td>Pharmaceuticals &amp; Drugs</td>\n",
              "      <td>NATURAL CAPSULES LTD</td>\n",
              "      <td>NATCAPSUQ.BO</td>\n",
              "      <td>2023-03-02</td>\n",
              "      <td>404.000000</td>\n",
              "      <td>414.000000</td>\n",
              "      <td>397.000000</td>\n",
              "      <td>405.700012</td>\n",
              "      <td>405.700012</td>\n",
              "      <td>7911</td>\n",
              "      <td>32.65</td>\n",
              "      <td>411.0</td>\n",
              "      <td>84.715240</td>\n",
              "      <td>1.762950e+09</td>\n",
              "      <td>9.653280e+08</td>\n",
              "      <td>2521750528</td>\n",
              "      <td>2.090390e+08</td>\n",
              "    </tr>\n",
              "    <tr>\n",
              "      <th>27577</th>\n",
              "      <td>27577</td>\n",
              "      <td>Pharmaceuticals &amp; Drugs</td>\n",
              "      <td>NATURAL CAPSULES LTD</td>\n",
              "      <td>NATCAPSUQ.BO</td>\n",
              "      <td>2023-03-03</td>\n",
              "      <td>400.000000</td>\n",
              "      <td>411.899994</td>\n",
              "      <td>397.000000</td>\n",
              "      <td>398.750000</td>\n",
              "      <td>398.750000</td>\n",
              "      <td>18686</td>\n",
              "      <td>32.65</td>\n",
              "      <td>411.0</td>\n",
              "      <td>84.715240</td>\n",
              "      <td>1.762950e+09</td>\n",
              "      <td>9.653280e+08</td>\n",
              "      <td>2521750528</td>\n",
              "      <td>2.090390e+08</td>\n",
              "    </tr>\n",
              "    <tr>\n",
              "      <th>27578</th>\n",
              "      <td>27578</td>\n",
              "      <td>Pharmaceuticals &amp; Drugs</td>\n",
              "      <td>NATURAL CAPSULES LTD</td>\n",
              "      <td>NATCAPSUQ.BO</td>\n",
              "      <td>2023-03-06</td>\n",
              "      <td>404.899994</td>\n",
              "      <td>411.000000</td>\n",
              "      <td>400.000000</td>\n",
              "      <td>404.600006</td>\n",
              "      <td>404.600006</td>\n",
              "      <td>6126</td>\n",
              "      <td>32.65</td>\n",
              "      <td>411.0</td>\n",
              "      <td>84.715240</td>\n",
              "      <td>1.762950e+09</td>\n",
              "      <td>9.653280e+08</td>\n",
              "      <td>2521750528</td>\n",
              "      <td>2.090390e+08</td>\n",
              "    </tr>\n",
              "  </tbody>\n",
              "</table>\n",
              "<p>27579 rows × 18 columns</p>\n",
              "</div>\n",
              "      <button class=\"colab-df-convert\" onclick=\"convertToInteractive('df-805c3411-3c19-4fd4-9ba4-501ec581160e')\"\n",
              "              title=\"Convert this dataframe to an interactive table.\"\n",
              "              style=\"display:none;\">\n",
              "        \n",
              "  <svg xmlns=\"http://www.w3.org/2000/svg\" height=\"24px\"viewBox=\"0 0 24 24\"\n",
              "       width=\"24px\">\n",
              "    <path d=\"M0 0h24v24H0V0z\" fill=\"none\"/>\n",
              "    <path d=\"M18.56 5.44l.94 2.06.94-2.06 2.06-.94-2.06-.94-.94-2.06-.94 2.06-2.06.94zm-11 1L8.5 8.5l.94-2.06 2.06-.94-2.06-.94L8.5 2.5l-.94 2.06-2.06.94zm10 10l.94 2.06.94-2.06 2.06-.94-2.06-.94-.94-2.06-.94 2.06-2.06.94z\"/><path d=\"M17.41 7.96l-1.37-1.37c-.4-.4-.92-.59-1.43-.59-.52 0-1.04.2-1.43.59L10.3 9.45l-7.72 7.72c-.78.78-.78 2.05 0 2.83L4 21.41c.39.39.9.59 1.41.59.51 0 1.02-.2 1.41-.59l7.78-7.78 2.81-2.81c.8-.78.8-2.07 0-2.86zM5.41 20L4 18.59l7.72-7.72 1.47 1.35L5.41 20z\"/>\n",
              "  </svg>\n",
              "      </button>\n",
              "      \n",
              "  <style>\n",
              "    .colab-df-container {\n",
              "      display:flex;\n",
              "      flex-wrap:wrap;\n",
              "      gap: 12px;\n",
              "    }\n",
              "\n",
              "    .colab-df-convert {\n",
              "      background-color: #E8F0FE;\n",
              "      border: none;\n",
              "      border-radius: 50%;\n",
              "      cursor: pointer;\n",
              "      display: none;\n",
              "      fill: #1967D2;\n",
              "      height: 32px;\n",
              "      padding: 0 0 0 0;\n",
              "      width: 32px;\n",
              "    }\n",
              "\n",
              "    .colab-df-convert:hover {\n",
              "      background-color: #E2EBFA;\n",
              "      box-shadow: 0px 1px 2px rgba(60, 64, 67, 0.3), 0px 1px 3px 1px rgba(60, 64, 67, 0.15);\n",
              "      fill: #174EA6;\n",
              "    }\n",
              "\n",
              "    [theme=dark] .colab-df-convert {\n",
              "      background-color: #3B4455;\n",
              "      fill: #D2E3FC;\n",
              "    }\n",
              "\n",
              "    [theme=dark] .colab-df-convert:hover {\n",
              "      background-color: #434B5C;\n",
              "      box-shadow: 0px 1px 3px 1px rgba(0, 0, 0, 0.15);\n",
              "      filter: drop-shadow(0px 1px 2px rgba(0, 0, 0, 0.3));\n",
              "      fill: #FFFFFF;\n",
              "    }\n",
              "  </style>\n",
              "\n",
              "      <script>\n",
              "        const buttonEl =\n",
              "          document.querySelector('#df-805c3411-3c19-4fd4-9ba4-501ec581160e button.colab-df-convert');\n",
              "        buttonEl.style.display =\n",
              "          google.colab.kernel.accessAllowed ? 'block' : 'none';\n",
              "\n",
              "        async function convertToInteractive(key) {\n",
              "          const element = document.querySelector('#df-805c3411-3c19-4fd4-9ba4-501ec581160e');\n",
              "          const dataTable =\n",
              "            await google.colab.kernel.invokeFunction('convertToInteractive',\n",
              "                                                     [key], {});\n",
              "          if (!dataTable) return;\n",
              "\n",
              "          const docLinkHtml = 'Like what you see? Visit the ' +\n",
              "            '<a target=\"_blank\" href=https://colab.research.google.com/notebooks/data_table.ipynb>data table notebook</a>'\n",
              "            + ' to learn more about interactive tables.';\n",
              "          element.innerHTML = '';\n",
              "          dataTable['output_type'] = 'display_data';\n",
              "          await google.colab.output.renderOutput(dataTable, element);\n",
              "          const docLink = document.createElement('div');\n",
              "          docLink.innerHTML = docLinkHtml;\n",
              "          element.appendChild(docLink);\n",
              "        }\n",
              "      </script>\n",
              "    </div>\n",
              "  </div>\n",
              "  "
            ]
          },
          "metadata": {},
          "execution_count": 27
        }
      ]
    },
    {
      "cell_type": "code",
      "source": [],
      "metadata": {
        "id": "jwjnA5cujpgQ"
      },
      "execution_count": null,
      "outputs": []
    },
    {
      "cell_type": "code",
      "source": [
        "df.isnull().sum()"
      ],
      "metadata": {
        "colab": {
          "base_uri": "https://localhost:8080/"
        },
        "outputId": "f2e0399a-5c9c-40b4-d68e-c9645dcb5c16",
        "id": "xqD4-mHEjp7M"
      },
      "execution_count": null,
      "outputs": [
        {
          "output_type": "execute_result",
          "data": {
            "text/plain": [
              "Unnamed: 0       0\n",
              "Sector           0\n",
              "Company          0\n",
              "BSE              0\n",
              "Date             0\n",
              "Open             0\n",
              "High             0\n",
              "Low              0\n",
              "Close            0\n",
              "Adj Close        0\n",
              "Volume           0\n",
              "Low_52           0\n",
              "High_52          0\n",
              "PE_Ratio         0\n",
              "Total_Revenue    0\n",
              "Gross_Profit     0\n",
              "Market_Cap       0\n",
              "Net_Company      0\n",
              "dtype: int64"
            ]
          },
          "metadata": {},
          "execution_count": 28
        }
      ]
    },
    {
      "cell_type": "code",
      "source": [],
      "metadata": {
        "id": "qY7-uqiajui2"
      },
      "execution_count": null,
      "outputs": []
    },
    {
      "cell_type": "code",
      "source": [
        "sns.boxplot(df[\"Open\"])"
      ],
      "metadata": {
        "colab": {
          "base_uri": "https://localhost:8080/",
          "height": 351
        },
        "id": "NE8Dc2qlbLKu",
        "outputId": "c4aa497d-6b27-490b-92d9-2990a530eddc"
      },
      "execution_count": null,
      "outputs": [
        {
          "output_type": "stream",
          "name": "stderr",
          "text": [
            "/usr/local/lib/python3.8/dist-packages/seaborn/_decorators.py:36: FutureWarning: Pass the following variable as a keyword arg: x. From version 0.12, the only valid positional argument will be `data`, and passing other arguments without an explicit keyword will result in an error or misinterpretation.\n",
            "  warnings.warn(\n"
          ]
        },
        {
          "output_type": "execute_result",
          "data": {
            "text/plain": [
              "<AxesSubplot:xlabel='Open'>"
            ]
          },
          "metadata": {},
          "execution_count": 29
        },
        {
          "output_type": "display_data",
          "data": {
            "text/plain": [
              "<Figure size 432x288 with 1 Axes>"
            ],
            "image/png": "[encoded data removed]"
          },
          "metadata": {
            "needs_background": "light"
          }
        }
      ]
    },
    {
      "cell_type": "code",
      "source": [],
      "metadata": {
        "id": "isz9wHFUm5AM"
      },
      "execution_count": null,
      "outputs": []
    },
    {
      "cell_type": "code",
      "source": [
        "sns.boxplot(df[\"Low\"])"
      ],
      "metadata": {
        "colab": {
          "base_uri": "https://localhost:8080/",
          "height": 351
        },
        "outputId": "0389aca8-4cd2-4921-8c60-7cebf0f19429",
        "id": "EENUcwNYm6Tu"
      },
      "execution_count": null,
      "outputs": [
        {
          "output_type": "stream",
          "name": "stderr",
          "text": [
            "/usr/local/lib/python3.8/dist-packages/seaborn/_decorators.py:36: FutureWarning: Pass the following variable as a keyword arg: x. From version 0.12, the only valid positional argument will be `data`, and passing other arguments without an explicit keyword will result in an error or misinterpretation.\n",
            "  warnings.warn(\n"
          ]
        },
        {
          "output_type": "execute_result",
          "data": {
            "text/plain": [
              "<AxesSubplot:xlabel='Low'>"
            ]
          },
          "metadata": {},
          "execution_count": 32
        },
        {
          "output_type": "display_data",
          "data": {
            "text/plain": [
              "<Figure size 432x288 with 1 Axes>"
            ],
            "image/png": "[encoded data removed]"
          },
          "metadata": {
            "needs_background": "light"
          }
        }
      ]
    },
    {
      "cell_type": "code",
      "source": [],
      "metadata": {
        "id": "o0x-WNF8jy_C"
      },
      "execution_count": null,
      "outputs": []
    },
    {
      "cell_type": "code",
      "source": [
        "df.round(2)"
      ],
      "metadata": {
        "colab": {
          "base_uri": "https://localhost:8080/",
          "height": 852
        },
        "id": "5Ng5vDQpgzFG",
        "outputId": "a6c03771-4121-447b-c870-d60808f54500"
      },
      "execution_count": null,
      "outputs": [
        {
          "output_type": "execute_result",
          "data": {
            "text/plain": [
              "       Unnamed: 0                   Sector                   Company  \\\n",
              "0               0  Pharmaceuticals & Drugs  Aurobindo Pharma Limited   \n",
              "1               1  Pharmaceuticals & Drugs  Aurobindo Pharma Limited   \n",
              "2               2  Pharmaceuticals & Drugs  Aurobindo Pharma Limited   \n",
              "3               3  Pharmaceuticals & Drugs  Aurobindo Pharma Limited   \n",
              "4               4  Pharmaceuticals & Drugs  Aurobindo Pharma Limited   \n",
              "...           ...                      ...                       ...   \n",
              "27574       27574  Pharmaceuticals & Drugs     NATURAL CAPSULES LTD    \n",
              "27575       27575  Pharmaceuticals & Drugs     NATURAL CAPSULES LTD    \n",
              "27576       27576  Pharmaceuticals & Drugs     NATURAL CAPSULES LTD    \n",
              "27577       27577  Pharmaceuticals & Drugs     NATURAL CAPSULES LTD    \n",
              "27578       27578  Pharmaceuticals & Drugs     NATURAL CAPSULES LTD    \n",
              "\n",
              "                 BSE        Date    Open    High     Low   Close  Adj Close  \\\n",
              "0      AUROPHARMA.BO  2012-01-02   43.00   43.45   42.53   43.08      39.92   \n",
              "1      AUROPHARMA.BO  2012-01-03   43.53   45.88   43.45   45.50      42.16   \n",
              "2      AUROPHARMA.BO  2012-01-04   45.50   45.62   44.25   44.92      41.63   \n",
              "3      AUROPHARMA.BO  2012-01-05   44.97   46.17   44.95   45.85      42.49   \n",
              "4      AUROPHARMA.BO  2012-01-06   45.83   46.75   44.67   45.03      41.72   \n",
              "...              ...         ...     ...     ...     ...     ...        ...   \n",
              "27574   NATCAPSUQ.BO  2023-02-28  400.00  408.80  389.00  393.85     393.85   \n",
              "27575   NATCAPSUQ.BO  2023-03-01  401.75  418.00  395.00  400.90     400.90   \n",
              "27576   NATCAPSUQ.BO  2023-03-02  404.00  414.00  397.00  405.70     405.70   \n",
              "27577   NATCAPSUQ.BO  2023-03-03  400.00  411.90  397.00  398.75     398.75   \n",
              "27578   NATCAPSUQ.BO  2023-03-06  404.90  411.00  400.00  404.60     404.60   \n",
              "\n",
              "       Volume  Low_52  High_52  PE_Ratio  Total_Revenue  Gross_Profit  \\\n",
              "0      113202  281.15   1023.1      9.19   1.922593e+11  1.051329e+11   \n",
              "1      282046  281.15   1023.1      9.19   1.922593e+11  1.051329e+11   \n",
              "2      113702  281.15   1023.1      9.19   1.922593e+11  1.051329e+11   \n",
              "3      113886  281.15   1023.1      9.19   1.922593e+11  1.051329e+11   \n",
              "4      322172  281.15   1023.1      9.19   1.922593e+11  1.051329e+11   \n",
              "...       ...     ...      ...       ...            ...           ...   \n",
              "27574    5340   32.65    411.0     84.72   1.762950e+09  9.653280e+08   \n",
              "27575    8926   32.65    411.0     84.72   1.762950e+09  9.653280e+08   \n",
              "27576    7911   32.65    411.0     84.72   1.762950e+09  9.653280e+08   \n",
              "27577   18686   32.65    411.0     84.72   1.762950e+09  9.653280e+08   \n",
              "27578    6126   32.65    411.0     84.72   1.762950e+09  9.653280e+08   \n",
              "\n",
              "         Market_Cap   Net_Company  \n",
              "0      273374609408  2.364730e+10  \n",
              "1      273374609408  2.364730e+10  \n",
              "2      273374609408  2.364730e+10  \n",
              "3      273374609408  2.364730e+10  \n",
              "4      273374609408  2.364730e+10  \n",
              "...             ...           ...  \n",
              "27574    2521750528  2.090390e+08  \n",
              "27575    2521750528  2.090390e+08  \n",
              "27576    2521750528  2.090390e+08  \n",
              "27577    2521750528  2.090390e+08  \n",
              "27578    2521750528  2.090390e+08  \n",
              "\n",
              "[27579 rows x 18 columns]"
            ],
            "text/html": [
              "\n",
              "  <div id=\"df-2f95161c-84fc-4654-a621-0f433b184ecf\">\n",
              "    <div class=\"colab-df-container\">\n",
              "      <div>\n",
              "<style scoped>\n",
              "    .dataframe tbody tr th:only-of-type {\n",
              "        vertical-align: middle;\n",
              "    }\n",
              "\n",
              "    .dataframe tbody tr th {\n",
              "        vertical-align: top;\n",
              "    }\n",
              "\n",
              "    .dataframe thead th {\n",
              "        text-align: right;\n",
              "    }\n",
              "</style>\n",
              "<table border=\"1\" class=\"dataframe\">\n",
              "  <thead>\n",
              "    <tr style=\"text-align: right;\">\n",
              "      <th></th>\n",
              "      <th>Unnamed: 0</th>\n",
              "      <th>Sector</th>\n",
              "      <th>Company</th>\n",
              "      <th>BSE</th>\n",
              "      <th>Date</th>\n",
              "      <th>Open</th>\n",
              "      <th>High</th>\n",
              "      <th>Low</th>\n",
              "      <th>Close</th>\n",
              "      <th>Adj Close</th>\n",
              "      <th>Volume</th>\n",
              "      <th>Low_52</th>\n",
              "      <th>High_52</th>\n",
              "      <th>PE_Ratio</th>\n",
              "      <th>Total_Revenue</th>\n",
              "      <th>Gross_Profit</th>\n",
              "      <th>Market_Cap</th>\n",
              "      <th>Net_Company</th>\n",
              "    </tr>\n",
              "  </thead>\n",
              "  <tbody>\n",
              "    <tr>\n",
              "      <th>0</th>\n",
              "      <td>0</td>\n",
              "      <td>Pharmaceuticals &amp; Drugs</td>\n",
              "      <td>Aurobindo Pharma Limited</td>\n",
              "      <td>AUROPHARMA.BO</td>\n",
              "      <td>2012-01-02</td>\n",
              "      <td>43.00</td>\n",
              "      <td>43.45</td>\n",
              "      <td>42.53</td>\n",
              "      <td>43.08</td>\n",
              "      <td>39.92</td>\n",
              "      <td>113202</td>\n",
              "      <td>281.15</td>\n",
              "      <td>1023.1</td>\n",
              "      <td>9.19</td>\n",
              "      <td>1.922593e+11</td>\n",
              "      <td>1.051329e+11</td>\n",
              "      <td>273374609408</td>\n",
              "      <td>2.364730e+10</td>\n",
              "    </tr>\n",
              "    <tr>\n",
              "      <th>1</th>\n",
              "      <td>1</td>\n",
              "      <td>Pharmaceuticals &amp; Drugs</td>\n",
              "      <td>Aurobindo Pharma Limited</td>\n",
              "      <td>AUROPHARMA.BO</td>\n",
              "      <td>2012-01-03</td>\n",
              "      <td>43.53</td>\n",
              "      <td>45.88</td>\n",
              "      <td>43.45</td>\n",
              "      <td>45.50</td>\n",
              "      <td>42.16</td>\n",
              "      <td>282046</td>\n",
              "      <td>281.15</td>\n",
              "      <td>1023.1</td>\n",
              "      <td>9.19</td>\n",
              "      <td>1.922593e+11</td>\n",
              "      <td>1.051329e+11</td>\n",
              "      <td>273374609408</td>\n",
              "      <td>2.364730e+10</td>\n",
              "    </tr>\n",
              "    <tr>\n",
              "      <th>2</th>\n",
              "      <td>2</td>\n",
              "      <td>Pharmaceuticals &amp; Drugs</td>\n",
              "      <td>Aurobindo Pharma Limited</td>\n",
              "      <td>AUROPHARMA.BO</td>\n",
              "      <td>2012-01-04</td>\n",
              "      <td>45.50</td>\n",
              "      <td>45.62</td>\n",
              "      <td>44.25</td>\n",
              "      <td>44.92</td>\n",
              "      <td>41.63</td>\n",
              "      <td>113702</td>\n",
              "      <td>281.15</td>\n",
              "      <td>1023.1</td>\n",
              "      <td>9.19</td>\n",
              "      <td>1.922593e+11</td>\n",
              "      <td>1.051329e+11</td>\n",
              "      <td>273374609408</td>\n",
              "      <td>2.364730e+10</td>\n",
              "    </tr>\n",
              "    <tr>\n",
              "      <th>3</th>\n",
              "      <td>3</td>\n",
              "      <td>Pharmaceuticals &amp; Drugs</td>\n",
              "      <td>Aurobindo Pharma Limited</td>\n",
              "      <td>AUROPHARMA.BO</td>\n",
              "      <td>2012-01-05</td>\n",
              "      <td>44.97</td>\n",
              "      <td>46.17</td>\n",
              "      <td>44.95</td>\n",
              "      <td>45.85</td>\n",
              "      <td>42.49</td>\n",
              "      <td>113886</td>\n",
              "      <td>281.15</td>\n",
              "      <td>1023.1</td>\n",
              "      <td>9.19</td>\n",
              "      <td>1.922593e+11</td>\n",
              "      <td>1.051329e+11</td>\n",
              "      <td>273374609408</td>\n",
              "      <td>2.364730e+10</td>\n",
              "    </tr>\n",
              "    <tr>\n",
              "      <th>4</th>\n",
              "      <td>4</td>\n",
              "      <td>Pharmaceuticals &amp; Drugs</td>\n",
              "      <td>Aurobindo Pharma Limited</td>\n",
              "      <td>AUROPHARMA.BO</td>\n",
              "      <td>2012-01-06</td>\n",
              "      <td>45.83</td>\n",
              "      <td>46.75</td>\n",
              "      <td>44.67</td>\n",
              "      <td>45.03</td>\n",
              "      <td>41.72</td>\n",
              "      <td>322172</td>\n",
              "      <td>281.15</td>\n",
              "      <td>1023.1</td>\n",
              "      <td>9.19</td>\n",
              "      <td>1.922593e+11</td>\n",
              "      <td>1.051329e+11</td>\n",
              "      <td>273374609408</td>\n",
              "      <td>2.364730e+10</td>\n",
              "    </tr>\n",
              "    <tr>\n",
              "      <th>...</th>\n",
              "      <td>...</td>\n",
              "      <td>...</td>\n",
              "      <td>...</td>\n",
              "      <td>...</td>\n",
              "      <td>...</td>\n",
              "      <td>...</td>\n",
              "      <td>...</td>\n",
              "      <td>...</td>\n",
              "      <td>...</td>\n",
              "      <td>...</td>\n",
              "      <td>...</td>\n",
              "      <td>...</td>\n",
              "      <td>...</td>\n",
              "      <td>...</td>\n",
              "      <td>...</td>\n",
              "      <td>...</td>\n",
              "      <td>...</td>\n",
              "      <td>...</td>\n",
              "    </tr>\n",
              "    <tr>\n",
              "      <th>27574</th>\n",
              "      <td>27574</td>\n",
              "      <td>Pharmaceuticals &amp; Drugs</td>\n",
              "      <td>NATURAL CAPSULES LTD</td>\n",
              "      <td>NATCAPSUQ.BO</td>\n",
              "      <td>2023-02-28</td>\n",
              "      <td>400.00</td>\n",
              "      <td>408.80</td>\n",
              "      <td>389.00</td>\n",
              "      <td>393.85</td>\n",
              "      <td>393.85</td>\n",
              "      <td>5340</td>\n",
              "      <td>32.65</td>\n",
              "      <td>411.0</td>\n",
              "      <td>84.72</td>\n",
              "      <td>1.762950e+09</td>\n",
              "      <td>9.653280e+08</td>\n",
              "      <td>2521750528</td>\n",
              "      <td>2.090390e+08</td>\n",
              "    </tr>\n",
              "    <tr>\n",
              "      <th>27575</th>\n",
              "      <td>27575</td>\n",
              "      <td>Pharmaceuticals &amp; Drugs</td>\n",
              "      <td>NATURAL CAPSULES LTD</td>\n",
              "      <td>NATCAPSUQ.BO</td>\n",
              "      <td>2023-03-01</td>\n",
              "      <td>401.75</td>\n",
              "      <td>418.00</td>\n",
              "      <td>395.00</td>\n",
              "      <td>400.90</td>\n",
              "      <td>400.90</td>\n",
              "      <td>8926</td>\n",
              "      <td>32.65</td>\n",
              "      <td>411.0</td>\n",
              "      <td>84.72</td>\n",
              "      <td>1.762950e+09</td>\n",
              "      <td>9.653280e+08</td>\n",
              "      <td>2521750528</td>\n",
              "      <td>2.090390e+08</td>\n",
              "    </tr>\n",
              "    <tr>\n",
              "      <th>27576</th>\n",
              "      <td>27576</td>\n",
              "      <td>Pharmaceuticals &amp; Drugs</td>\n",
              "      <td>NATURAL CAPSULES LTD</td>\n",
              "      <td>NATCAPSUQ.BO</td>\n",
              "      <td>2023-03-02</td>\n",
              "      <td>404.00</td>\n",
              "      <td>414.00</td>\n",
              "      <td>397.00</td>\n",
              "      <td>405.70</td>\n",
              "      <td>405.70</td>\n",
              "      <td>7911</td>\n",
              "      <td>32.65</td>\n",
              "      <td>411.0</td>\n",
              "      <td>84.72</td>\n",
              "      <td>1.762950e+09</td>\n",
              "      <td>9.653280e+08</td>\n",
              "      <td>2521750528</td>\n",
              "      <td>2.090390e+08</td>\n",
              "    </tr>\n",
              "    <tr>\n",
              "      <th>27577</th>\n",
              "      <td>27577</td>\n",
              "      <td>Pharmaceuticals &amp; Drugs</td>\n",
              "      <td>NATURAL CAPSULES LTD</td>\n",
              "      <td>NATCAPSUQ.BO</td>\n",
              "      <td>2023-03-03</td>\n",
              "      <td>400.00</td>\n",
              "      <td>411.90</td>\n",
              "      <td>397.00</td>\n",
              "      <td>398.75</td>\n",
              "      <td>398.75</td>\n",
              "      <td>18686</td>\n",
              "      <td>32.65</td>\n",
              "      <td>411.0</td>\n",
              "      <td>84.72</td>\n",
              "      <td>1.762950e+09</td>\n",
              "      <td>9.653280e+08</td>\n",
              "      <td>2521750528</td>\n",
              "      <td>2.090390e+08</td>\n",
              "    </tr>\n",
              "    <tr>\n",
              "      <th>27578</th>\n",
              "      <td>27578</td>\n",
              "      <td>Pharmaceuticals &amp; Drugs</td>\n",
              "      <td>NATURAL CAPSULES LTD</td>\n",
              "      <td>NATCAPSUQ.BO</td>\n",
              "      <td>2023-03-06</td>\n",
              "      <td>404.90</td>\n",
              "      <td>411.00</td>\n",
              "      <td>400.00</td>\n",
              "      <td>404.60</td>\n",
              "      <td>404.60</td>\n",
              "      <td>6126</td>\n",
              "      <td>32.65</td>\n",
              "      <td>411.0</td>\n",
              "      <td>84.72</td>\n",
              "      <td>1.762950e+09</td>\n",
              "      <td>9.653280e+08</td>\n",
              "      <td>2521750528</td>\n",
              "      <td>2.090390e+08</td>\n",
              "    </tr>\n",
              "  </tbody>\n",
              "</table>\n",
              "<p>27579 rows × 18 columns</p>\n",
              "</div>\n",
              "      <button class=\"colab-df-convert\" onclick=\"convertToInteractive('df-2f95161c-84fc-4654-a621-0f433b184ecf')\"\n",
              "              title=\"Convert this dataframe to an interactive table.\"\n",
              "              style=\"display:none;\">\n",
              "        \n",
              "  <svg xmlns=\"http://www.w3.org/2000/svg\" height=\"24px\"viewBox=\"0 0 24 24\"\n",
              "       width=\"24px\">\n",
              "    <path d=\"M0 0h24v24H0V0z\" fill=\"none\"/>\n",
              "    <path d=\"M18.56 5.44l.94 2.06.94-2.06 2.06-.94-2.06-.94-.94-2.06-.94 2.06-2.06.94zm-11 1L8.5 8.5l.94-2.06 2.06-.94-2.06-.94L8.5 2.5l-.94 2.06-2.06.94zm10 10l.94 2.06.94-2.06 2.06-.94-2.06-.94-.94-2.06-.94 2.06-2.06.94z\"/><path d=\"M17.41 7.96l-1.37-1.37c-.4-.4-.92-.59-1.43-.59-.52 0-1.04.2-1.43.59L10.3 9.45l-7.72 7.72c-.78.78-.78 2.05 0 2.83L4 21.41c.39.39.9.59 1.41.59.51 0 1.02-.2 1.41-.59l7.78-7.78 2.81-2.81c.8-.78.8-2.07 0-2.86zM5.41 20L4 18.59l7.72-7.72 1.47 1.35L5.41 20z\"/>\n",
              "  </svg>\n",
              "      </button>\n",
              "      \n",
              "  <style>\n",
              "    .colab-df-container {\n",
              "      display:flex;\n",
              "      flex-wrap:wrap;\n",
              "      gap: 12px;\n",
              "    }\n",
              "\n",
              "    .colab-df-convert {\n",
              "      background-color: #E8F0FE;\n",
              "      border: none;\n",
              "      border-radius: 50%;\n",
              "      cursor: pointer;\n",
              "      display: none;\n",
              "      fill: #1967D2;\n",
              "      height: 32px;\n",
              "      padding: 0 0 0 0;\n",
              "      width: 32px;\n",
              "    }\n",
              "\n",
              "    .colab-df-convert:hover {\n",
              "      background-color: #E2EBFA;\n",
              "      box-shadow: 0px 1px 2px rgba(60, 64, 67, 0.3), 0px 1px 3px 1px rgba(60, 64, 67, 0.15);\n",
              "      fill: #174EA6;\n",
              "    }\n",
              "\n",
              "    [theme=dark] .colab-df-convert {\n",
              "      background-color: #3B4455;\n",
              "      fill: #D2E3FC;\n",
              "    }\n",
              "\n",
              "    [theme=dark] .colab-df-convert:hover {\n",
              "      background-color: #434B5C;\n",
              "      box-shadow: 0px 1px 3px 1px rgba(0, 0, 0, 0.15);\n",
              "      filter: drop-shadow(0px 1px 2px rgba(0, 0, 0, 0.3));\n",
              "      fill: #FFFFFF;\n",
              "    }\n",
              "  </style>\n",
              "\n",
              "      <script>\n",
              "        const buttonEl =\n",
              "          document.querySelector('#df-2f95161c-84fc-4654-a621-0f433b184ecf button.colab-df-convert');\n",
              "        buttonEl.style.display =\n",
              "          google.colab.kernel.accessAllowed ? 'block' : 'none';\n",
              "\n",
              "        async function convertToInteractive(key) {\n",
              "          const element = document.querySelector('#df-2f95161c-84fc-4654-a621-0f433b184ecf');\n",
              "          const dataTable =\n",
              "            await google.colab.kernel.invokeFunction('convertToInteractive',\n",
              "                                                     [key], {});\n",
              "          if (!dataTable) return;\n",
              "\n",
              "          const docLinkHtml = 'Like what you see? Visit the ' +\n",
              "            '<a target=\"_blank\" href=https://colab.research.google.com/notebooks/data_table.ipynb>data table notebook</a>'\n",
              "            + ' to learn more about interactive tables.';\n",
              "          element.innerHTML = '';\n",
              "          dataTable['output_type'] = 'display_data';\n",
              "          await google.colab.output.renderOutput(dataTable, element);\n",
              "          const docLink = document.createElement('div');\n",
              "          docLink.innerHTML = docLinkHtml;\n",
              "          element.appendChild(docLink);\n",
              "        }\n",
              "      </script>\n",
              "    </div>\n",
              "  </div>\n",
              "  "
            ]
          },
          "metadata": {},
          "execution_count": 34
        }
      ]
    },
    {
      "cell_type": "code",
      "source": [],
      "metadata": {
        "id": "ZAheIjAjj3tM"
      },
      "execution_count": null,
      "outputs": []
    },
    {
      "cell_type": "code",
      "source": [
        "ncol=list(df.columns)\n",
        "del ncol[0:5]\n",
        "print(ncol)"
      ],
      "metadata": {
        "colab": {
          "base_uri": "https://localhost:8080/"
        },
        "id": "YLIVTl4YatSG",
        "outputId": "c12941dc-0d78-4fca-9cc4-6e26d8a41dc7"
      },
      "execution_count": null,
      "outputs": [
        {
          "output_type": "stream",
          "name": "stdout",
          "text": [
            "['Open', 'High', 'Low', 'Close', 'Adj Close', 'Volume', 'Low_52', 'High_52', 'PE_Ratio', 'Total_Revenue', 'Gross_Profit', 'Market_Cap', 'Net_Company']\n"
          ]
        }
      ]
    },
    {
      "cell_type": "code",
      "source": [],
      "metadata": {
        "id": "plQGLXMVj7XJ"
      },
      "execution_count": null,
      "outputs": []
    },
    {
      "cell_type": "code",
      "source": [
        "#removing outlier\n",
        "q1=df[\"Open\"].quantile(.25)\n",
        "q3=df[\"Open\"].quantile(.75)\n",
        "iqr=q3-q1\n",
        "upper_limit=q3+1.5*iqr\n",
        "lower_limit=q1-1.5*iqr\n",
        "def limit_imputer(value):\n",
        "  if value>upper_limit:\n",
        "    return upper_limit\n",
        "  if value<lower_limit:\n",
        "    return lower_limit\n",
        "  else:\n",
        "    return value\n",
        "df[\"Open\"]=df[\"Open\"].apply(limit_imputer)"
      ],
      "metadata": {
        "id": "VZmI4XdEa3CT"
      },
      "execution_count": null,
      "outputs": []
    },
    {
      "cell_type": "code",
      "source": [
        "#removing outlier\n",
        "q1=df[\"Low\"].quantile(.25)\n",
        "q3=df[\"Low\"].quantile(.75)\n",
        "iqr=q3-q1\n",
        "upper_limit=q3+1.5*iqr\n",
        "lower_limit=q1-1.5*iqr\n",
        "def limit_imputer(value):\n",
        "  if value>upper_limit:\n",
        "    return upper_limit\n",
        "  if value<lower_limit:\n",
        "    return lower_limit\n",
        "  else:\n",
        "    return value\n",
        "df[\"Low\"]=df[\"Low\"].apply(limit_imputer)"
      ],
      "metadata": {
        "id": "jWR46sTfpfqJ"
      },
      "execution_count": null,
      "outputs": []
    },
    {
      "cell_type": "code",
      "source": [
        "sns.boxplot(df[\"Open\"])"
      ],
      "metadata": {
        "colab": {
          "base_uri": "https://localhost:8080/",
          "height": 351
        },
        "id": "TKwT4IpLkObB",
        "outputId": "b09553b1-31f3-49cb-e660-007024d7d9bd"
      },
      "execution_count": null,
      "outputs": [
        {
          "output_type": "stream",
          "name": "stderr",
          "text": [
            "/usr/local/lib/python3.8/dist-packages/seaborn/_decorators.py:36: FutureWarning: Pass the following variable as a keyword arg: x. From version 0.12, the only valid positional argument will be `data`, and passing other arguments without an explicit keyword will result in an error or misinterpretation.\n",
            "  warnings.warn(\n"
          ]
        },
        {
          "output_type": "execute_result",
          "data": {
            "text/plain": [
              "<AxesSubplot:xlabel='Open'>"
            ]
          },
          "metadata": {},
          "execution_count": 13
        },
        {
          "output_type": "display_data",
          "data": {
            "text/plain": [
              "<Figure size 432x288 with 1 Axes>"
            ],
            "image/png": "[encoded data removed]"
          },
          "metadata": {
            "needs_background": "light"
          }
        }
      ]
    },
    {
      "cell_type": "code",
      "source": [],
      "metadata": {
        "id": "o1S4xT6ukekG"
      },
      "execution_count": null,
      "outputs": []
    },
    {
      "cell_type": "code",
      "source": [
        "sns.boxplot(df[\"Low\"])"
      ],
      "metadata": {
        "colab": {
          "base_uri": "https://localhost:8080/",
          "height": 351
        },
        "outputId": "e846bcde-d94b-4b1b-89c2-00da265e6c60",
        "id": "k6KIq6K2mZ5j"
      },
      "execution_count": null,
      "outputs": [
        {
          "output_type": "stream",
          "name": "stderr",
          "text": [
            "/usr/local/lib/python3.8/dist-packages/seaborn/_decorators.py:36: FutureWarning: Pass the following variable as a keyword arg: x. From version 0.12, the only valid positional argument will be `data`, and passing other arguments without an explicit keyword will result in an error or misinterpretation.\n",
            "  warnings.warn(\n"
          ]
        },
        {
          "output_type": "execute_result",
          "data": {
            "text/plain": [
              "<AxesSubplot:xlabel='Low'>"
            ]
          },
          "metadata": {},
          "execution_count": 37
        },
        {
          "output_type": "display_data",
          "data": {
            "text/plain": [
              "<Figure size 432x288 with 1 Axes>"
            ],
            "image/png": "[encoded data removed]"
          },
          "metadata": {
            "needs_background": "light"
          }
        }
      ]
    },
    {
      "cell_type": "code",
      "source": [],
      "metadata": {
        "id": "149CrxfYptpc"
      },
      "execution_count": null,
      "outputs": []
    },
    {
      "cell_type": "markdown",
      "source": [
        "High cloumn"
      ],
      "metadata": {
        "id": "5JI72Sg8qftY"
      }
    },
    {
      "cell_type": "code",
      "source": [
        "sns.boxplot(df[\"High\"])"
      ],
      "metadata": {
        "colab": {
          "base_uri": "https://localhost:8080/",
          "height": 351
        },
        "id": "TwleIm1_qjBj",
        "outputId": "cfbe070a-d565-4615-e3fd-e4bfb79a3c2c"
      },
      "execution_count": null,
      "outputs": [
        {
          "output_type": "stream",
          "name": "stderr",
          "text": [
            "/usr/local/lib/python3.8/dist-packages/seaborn/_decorators.py:36: FutureWarning: Pass the following variable as a keyword arg: x. From version 0.12, the only valid positional argument will be `data`, and passing other arguments without an explicit keyword will result in an error or misinterpretation.\n",
            "  warnings.warn(\n"
          ]
        },
        {
          "output_type": "execute_result",
          "data": {
            "text/plain": [
              "<AxesSubplot:xlabel='High'>"
            ]
          },
          "metadata": {},
          "execution_count": 38
        },
        {
          "output_type": "display_data",
          "data": {
            "text/plain": [
              "<Figure size 432x288 with 1 Axes>"
            ],
            "image/png": "[encoded data removed]"
          },
          "metadata": {
            "needs_background": "light"
          }
        }
      ]
    },
    {
      "cell_type": "code",
      "source": [
        "df.round(2)"
      ],
      "metadata": {
        "colab": {
          "base_uri": "https://localhost:8080/",
          "height": 852
        },
        "id": "q5Y-AN4rq2VC",
        "outputId": "542c2033-5c02-4a03-dfa2-f2a9fa108b94"
      },
      "execution_count": null,
      "outputs": [
        {
          "output_type": "execute_result",
          "data": {
            "text/plain": [
              "       Unnamed: 0                   Sector                   Company  \\\n",
              "0               0  Pharmaceuticals & Drugs  Aurobindo Pharma Limited   \n",
              "1               1  Pharmaceuticals & Drugs  Aurobindo Pharma Limited   \n",
              "2               2  Pharmaceuticals & Drugs  Aurobindo Pharma Limited   \n",
              "3               3  Pharmaceuticals & Drugs  Aurobindo Pharma Limited   \n",
              "4               4  Pharmaceuticals & Drugs  Aurobindo Pharma Limited   \n",
              "...           ...                      ...                       ...   \n",
              "27574       27574  Pharmaceuticals & Drugs     NATURAL CAPSULES LTD    \n",
              "27575       27575  Pharmaceuticals & Drugs     NATURAL CAPSULES LTD    \n",
              "27576       27576  Pharmaceuticals & Drugs     NATURAL CAPSULES LTD    \n",
              "27577       27577  Pharmaceuticals & Drugs     NATURAL CAPSULES LTD    \n",
              "27578       27578  Pharmaceuticals & Drugs     NATURAL CAPSULES LTD    \n",
              "\n",
              "                 BSE        Date    Open    High     Low   Close  Adj Close  \\\n",
              "0      AUROPHARMA.BO  2012-01-02   43.00   43.45   42.53   43.08      39.92   \n",
              "1      AUROPHARMA.BO  2012-01-03   43.53   45.88   43.45   45.50      42.16   \n",
              "2      AUROPHARMA.BO  2012-01-04   45.50   45.62   44.25   44.92      41.63   \n",
              "3      AUROPHARMA.BO  2012-01-05   44.97   46.17   44.95   45.85      42.49   \n",
              "4      AUROPHARMA.BO  2012-01-06   45.83   46.75   44.67   45.03      41.72   \n",
              "...              ...         ...     ...     ...     ...     ...        ...   \n",
              "27574   NATCAPSUQ.BO  2023-02-28  400.00  408.80  389.00  393.85     393.85   \n",
              "27575   NATCAPSUQ.BO  2023-03-01  401.75  418.00  395.00  400.90     400.90   \n",
              "27576   NATCAPSUQ.BO  2023-03-02  404.00  414.00  397.00  405.70     405.70   \n",
              "27577   NATCAPSUQ.BO  2023-03-03  400.00  411.90  397.00  398.75     398.75   \n",
              "27578   NATCAPSUQ.BO  2023-03-06  404.90  411.00  400.00  404.60     404.60   \n",
              "\n",
              "       Volume  Low_52  High_52  PE_Ratio  Total_Revenue  Gross_Profit  \\\n",
              "0      113202  281.15   1023.1      9.19   1.922593e+11  1.051329e+11   \n",
              "1      282046  281.15   1023.1      9.19   1.922593e+11  1.051329e+11   \n",
              "2      113702  281.15   1023.1      9.19   1.922593e+11  1.051329e+11   \n",
              "3      113886  281.15   1023.1      9.19   1.922593e+11  1.051329e+11   \n",
              "4      322172  281.15   1023.1      9.19   1.922593e+11  1.051329e+11   \n",
              "...       ...     ...      ...       ...            ...           ...   \n",
              "27574    5340   32.65    411.0     84.72   1.762950e+09  9.653280e+08   \n",
              "27575    8926   32.65    411.0     84.72   1.762950e+09  9.653280e+08   \n",
              "27576    7911   32.65    411.0     84.72   1.762950e+09  9.653280e+08   \n",
              "27577   18686   32.65    411.0     84.72   1.762950e+09  9.653280e+08   \n",
              "27578    6126   32.65    411.0     84.72   1.762950e+09  9.653280e+08   \n",
              "\n",
              "         Market_Cap   Net_Company  \n",
              "0      273374609408  2.364730e+10  \n",
              "1      273374609408  2.364730e+10  \n",
              "2      273374609408  2.364730e+10  \n",
              "3      273374609408  2.364730e+10  \n",
              "4      273374609408  2.364730e+10  \n",
              "...             ...           ...  \n",
              "27574    2521750528  2.090390e+08  \n",
              "27575    2521750528  2.090390e+08  \n",
              "27576    2521750528  2.090390e+08  \n",
              "27577    2521750528  2.090390e+08  \n",
              "27578    2521750528  2.090390e+08  \n",
              "\n",
              "[27579 rows x 18 columns]"
            ],
            "text/html": [
              "\n",
              "  <div id=\"df-bdce2e9b-57a1-45cb-8e88-7b308874b0bc\">\n",
              "    <div class=\"colab-df-container\">\n",
              "      <div>\n",
              "<style scoped>\n",
              "    .dataframe tbody tr th:only-of-type {\n",
              "        vertical-align: middle;\n",
              "    }\n",
              "\n",
              "    .dataframe tbody tr th {\n",
              "        vertical-align: top;\n",
              "    }\n",
              "\n",
              "    .dataframe thead th {\n",
              "        text-align: right;\n",
              "    }\n",
              "</style>\n",
              "<table border=\"1\" class=\"dataframe\">\n",
              "  <thead>\n",
              "    <tr style=\"text-align: right;\">\n",
              "      <th></th>\n",
              "      <th>Unnamed: 0</th>\n",
              "      <th>Sector</th>\n",
              "      <th>Company</th>\n",
              "      <th>BSE</th>\n",
              "      <th>Date</th>\n",
              "      <th>Open</th>\n",
              "      <th>High</th>\n",
              "      <th>Low</th>\n",
              "      <th>Close</th>\n",
              "      <th>Adj Close</th>\n",
              "      <th>Volume</th>\n",
              "      <th>Low_52</th>\n",
              "      <th>High_52</th>\n",
              "      <th>PE_Ratio</th>\n",
              "      <th>Total_Revenue</th>\n",
              "      <th>Gross_Profit</th>\n",
              "      <th>Market_Cap</th>\n",
              "      <th>Net_Company</th>\n",
              "    </tr>\n",
              "  </thead>\n",
              "  <tbody>\n",
              "    <tr>\n",
              "      <th>0</th>\n",
              "      <td>0</td>\n",
              "      <td>Pharmaceuticals &amp; Drugs</td>\n",
              "      <td>Aurobindo Pharma Limited</td>\n",
              "      <td>AUROPHARMA.BO</td>\n",
              "      <td>2012-01-02</td>\n",
              "      <td>43.00</td>\n",
              "      <td>43.45</td>\n",
              "      <td>42.53</td>\n",
              "      <td>43.08</td>\n",
              "      <td>39.92</td>\n",
              "      <td>113202</td>\n",
              "      <td>281.15</td>\n",
              "      <td>1023.1</td>\n",
              "      <td>9.19</td>\n",
              "      <td>1.922593e+11</td>\n",
              "      <td>1.051329e+11</td>\n",
              "      <td>273374609408</td>\n",
              "      <td>2.364730e+10</td>\n",
              "    </tr>\n",
              "    <tr>\n",
              "      <th>1</th>\n",
              "      <td>1</td>\n",
              "      <td>Pharmaceuticals &amp; Drugs</td>\n",
              "      <td>Aurobindo Pharma Limited</td>\n",
              "      <td>AUROPHARMA.BO</td>\n",
              "      <td>2012-01-03</td>\n",
              "      <td>43.53</td>\n",
              "      <td>45.88</td>\n",
              "      <td>43.45</td>\n",
              "      <td>45.50</td>\n",
              "      <td>42.16</td>\n",
              "      <td>282046</td>\n",
              "      <td>281.15</td>\n",
              "      <td>1023.1</td>\n",
              "      <td>9.19</td>\n",
              "      <td>1.922593e+11</td>\n",
              "      <td>1.051329e+11</td>\n",
              "      <td>273374609408</td>\n",
              "      <td>2.364730e+10</td>\n",
              "    </tr>\n",
              "    <tr>\n",
              "      <th>2</th>\n",
              "      <td>2</td>\n",
              "      <td>Pharmaceuticals &amp; Drugs</td>\n",
              "      <td>Aurobindo Pharma Limited</td>\n",
              "      <td>AUROPHARMA.BO</td>\n",
              "      <td>2012-01-04</td>\n",
              "      <td>45.50</td>\n",
              "      <td>45.62</td>\n",
              "      <td>44.25</td>\n",
              "      <td>44.92</td>\n",
              "      <td>41.63</td>\n",
              "      <td>113702</td>\n",
              "      <td>281.15</td>\n",
              "      <td>1023.1</td>\n",
              "      <td>9.19</td>\n",
              "      <td>1.922593e+11</td>\n",
              "      <td>1.051329e+11</td>\n",
              "      <td>273374609408</td>\n",
              "      <td>2.364730e+10</td>\n",
              "    </tr>\n",
              "    <tr>\n",
              "      <th>3</th>\n",
              "      <td>3</td>\n",
              "      <td>Pharmaceuticals &amp; Drugs</td>\n",
              "      <td>Aurobindo Pharma Limited</td>\n",
              "      <td>AUROPHARMA.BO</td>\n",
              "      <td>2012-01-05</td>\n",
              "      <td>44.97</td>\n",
              "      <td>46.17</td>\n",
              "      <td>44.95</td>\n",
              "      <td>45.85</td>\n",
              "      <td>42.49</td>\n",
              "      <td>113886</td>\n",
              "      <td>281.15</td>\n",
              "      <td>1023.1</td>\n",
              "      <td>9.19</td>\n",
              "      <td>1.922593e+11</td>\n",
              "      <td>1.051329e+11</td>\n",
              "      <td>273374609408</td>\n",
              "      <td>2.364730e+10</td>\n",
              "    </tr>\n",
              "    <tr>\n",
              "      <th>4</th>\n",
              "      <td>4</td>\n",
              "      <td>Pharmaceuticals &amp; Drugs</td>\n",
              "      <td>Aurobindo Pharma Limited</td>\n",
              "      <td>AUROPHARMA.BO</td>\n",
              "      <td>2012-01-06</td>\n",
              "      <td>45.83</td>\n",
              "      <td>46.75</td>\n",
              "      <td>44.67</td>\n",
              "      <td>45.03</td>\n",
              "      <td>41.72</td>\n",
              "      <td>322172</td>\n",
              "      <td>281.15</td>\n",
              "      <td>1023.1</td>\n",
              "      <td>9.19</td>\n",
              "      <td>1.922593e+11</td>\n",
              "      <td>1.051329e+11</td>\n",
              "      <td>273374609408</td>\n",
              "      <td>2.364730e+10</td>\n",
              "    </tr>\n",
              "    <tr>\n",
              "      <th>...</th>\n",
              "      <td>...</td>\n",
              "      <td>...</td>\n",
              "      <td>...</td>\n",
              "      <td>...</td>\n",
              "      <td>...</td>\n",
              "      <td>...</td>\n",
              "      <td>...</td>\n",
              "      <td>...</td>\n",
              "      <td>...</td>\n",
              "      <td>...</td>\n",
              "      <td>...</td>\n",
              "      <td>...</td>\n",
              "      <td>...</td>\n",
              "      <td>...</td>\n",
              "      <td>...</td>\n",
              "      <td>...</td>\n",
              "      <td>...</td>\n",
              "      <td>...</td>\n",
              "    </tr>\n",
              "    <tr>\n",
              "      <th>27574</th>\n",
              "      <td>27574</td>\n",
              "      <td>Pharmaceuticals &amp; Drugs</td>\n",
              "      <td>NATURAL CAPSULES LTD</td>\n",
              "      <td>NATCAPSUQ.BO</td>\n",
              "      <td>2023-02-28</td>\n",
              "      <td>400.00</td>\n",
              "      <td>408.80</td>\n",
              "      <td>389.00</td>\n",
              "      <td>393.85</td>\n",
              "      <td>393.85</td>\n",
              "      <td>5340</td>\n",
              "      <td>32.65</td>\n",
              "      <td>411.0</td>\n",
              "      <td>84.72</td>\n",
              "      <td>1.762950e+09</td>\n",
              "      <td>9.653280e+08</td>\n",
              "      <td>2521750528</td>\n",
              "      <td>2.090390e+08</td>\n",
              "    </tr>\n",
              "    <tr>\n",
              "      <th>27575</th>\n",
              "      <td>27575</td>\n",
              "      <td>Pharmaceuticals &amp; Drugs</td>\n",
              "      <td>NATURAL CAPSULES LTD</td>\n",
              "      <td>NATCAPSUQ.BO</td>\n",
              "      <td>2023-03-01</td>\n",
              "      <td>401.75</td>\n",
              "      <td>418.00</td>\n",
              "      <td>395.00</td>\n",
              "      <td>400.90</td>\n",
              "      <td>400.90</td>\n",
              "      <td>8926</td>\n",
              "      <td>32.65</td>\n",
              "      <td>411.0</td>\n",
              "      <td>84.72</td>\n",
              "      <td>1.762950e+09</td>\n",
              "      <td>9.653280e+08</td>\n",
              "      <td>2521750528</td>\n",
              "      <td>2.090390e+08</td>\n",
              "    </tr>\n",
              "    <tr>\n",
              "      <th>27576</th>\n",
              "      <td>27576</td>\n",
              "      <td>Pharmaceuticals &amp; Drugs</td>\n",
              "      <td>NATURAL CAPSULES LTD</td>\n",
              "      <td>NATCAPSUQ.BO</td>\n",
              "      <td>2023-03-02</td>\n",
              "      <td>404.00</td>\n",
              "      <td>414.00</td>\n",
              "      <td>397.00</td>\n",
              "      <td>405.70</td>\n",
              "      <td>405.70</td>\n",
              "      <td>7911</td>\n",
              "      <td>32.65</td>\n",
              "      <td>411.0</td>\n",
              "      <td>84.72</td>\n",
              "      <td>1.762950e+09</td>\n",
              "      <td>9.653280e+08</td>\n",
              "      <td>2521750528</td>\n",
              "      <td>2.090390e+08</td>\n",
              "    </tr>\n",
              "    <tr>\n",
              "      <th>27577</th>\n",
              "      <td>27577</td>\n",
              "      <td>Pharmaceuticals &amp; Drugs</td>\n",
              "      <td>NATURAL CAPSULES LTD</td>\n",
              "      <td>NATCAPSUQ.BO</td>\n",
              "      <td>2023-03-03</td>\n",
              "      <td>400.00</td>\n",
              "      <td>411.90</td>\n",
              "      <td>397.00</td>\n",
              "      <td>398.75</td>\n",
              "      <td>398.75</td>\n",
              "      <td>18686</td>\n",
              "      <td>32.65</td>\n",
              "      <td>411.0</td>\n",
              "      <td>84.72</td>\n",
              "      <td>1.762950e+09</td>\n",
              "      <td>9.653280e+08</td>\n",
              "      <td>2521750528</td>\n",
              "      <td>2.090390e+08</td>\n",
              "    </tr>\n",
              "    <tr>\n",
              "      <th>27578</th>\n",
              "      <td>27578</td>\n",
              "      <td>Pharmaceuticals &amp; Drugs</td>\n",
              "      <td>NATURAL CAPSULES LTD</td>\n",
              "      <td>NATCAPSUQ.BO</td>\n",
              "      <td>2023-03-06</td>\n",
              "      <td>404.90</td>\n",
              "      <td>411.00</td>\n",
              "      <td>400.00</td>\n",
              "      <td>404.60</td>\n",
              "      <td>404.60</td>\n",
              "      <td>6126</td>\n",
              "      <td>32.65</td>\n",
              "      <td>411.0</td>\n",
              "      <td>84.72</td>\n",
              "      <td>1.762950e+09</td>\n",
              "      <td>9.653280e+08</td>\n",
              "      <td>2521750528</td>\n",
              "      <td>2.090390e+08</td>\n",
              "    </tr>\n",
              "  </tbody>\n",
              "</table>\n",
              "<p>27579 rows × 18 columns</p>\n",
              "</div>\n",
              "      <button class=\"colab-df-convert\" onclick=\"convertToInteractive('df-bdce2e9b-57a1-45cb-8e88-7b308874b0bc')\"\n",
              "              title=\"Convert this dataframe to an interactive table.\"\n",
              "              style=\"display:none;\">\n",
              "        \n",
              "  <svg xmlns=\"http://www.w3.org/2000/svg\" height=\"24px\"viewBox=\"0 0 24 24\"\n",
              "       width=\"24px\">\n",
              "    <path d=\"M0 0h24v24H0V0z\" fill=\"none\"/>\n",
              "    <path d=\"M18.56 5.44l.94 2.06.94-2.06 2.06-.94-2.06-.94-.94-2.06-.94 2.06-2.06.94zm-11 1L8.5 8.5l.94-2.06 2.06-.94-2.06-.94L8.5 2.5l-.94 2.06-2.06.94zm10 10l.94 2.06.94-2.06 2.06-.94-2.06-.94-.94-2.06-.94 2.06-2.06.94z\"/><path d=\"M17.41 7.96l-1.37-1.37c-.4-.4-.92-.59-1.43-.59-.52 0-1.04.2-1.43.59L10.3 9.45l-7.72 7.72c-.78.78-.78 2.05 0 2.83L4 21.41c.39.39.9.59 1.41.59.51 0 1.02-.2 1.41-.59l7.78-7.78 2.81-2.81c.8-.78.8-2.07 0-2.86zM5.41 20L4 18.59l7.72-7.72 1.47 1.35L5.41 20z\"/>\n",
              "  </svg>\n",
              "      </button>\n",
              "      \n",
              "  <style>\n",
              "    .colab-df-container {\n",
              "      display:flex;\n",
              "      flex-wrap:wrap;\n",
              "      gap: 12px;\n",
              "    }\n",
              "\n",
              "    .colab-df-convert {\n",
              "      background-color: #E8F0FE;\n",
              "      border: none;\n",
              "      border-radius: 50%;\n",
              "      cursor: pointer;\n",
              "      display: none;\n",
              "      fill: #1967D2;\n",
              "      height: 32px;\n",
              "      padding: 0 0 0 0;\n",
              "      width: 32px;\n",
              "    }\n",
              "\n",
              "    .colab-df-convert:hover {\n",
              "      background-color: #E2EBFA;\n",
              "      box-shadow: 0px 1px 2px rgba(60, 64, 67, 0.3), 0px 1px 3px 1px rgba(60, 64, 67, 0.15);\n",
              "      fill: #174EA6;\n",
              "    }\n",
              "\n",
              "    [theme=dark] .colab-df-convert {\n",
              "      background-color: #3B4455;\n",
              "      fill: #D2E3FC;\n",
              "    }\n",
              "\n",
              "    [theme=dark] .colab-df-convert:hover {\n",
              "      background-color: #434B5C;\n",
              "      box-shadow: 0px 1px 3px 1px rgba(0, 0, 0, 0.15);\n",
              "      filter: drop-shadow(0px 1px 2px rgba(0, 0, 0, 0.3));\n",
              "      fill: #FFFFFF;\n",
              "    }\n",
              "  </style>\n",
              "\n",
              "      <script>\n",
              "        const buttonEl =\n",
              "          document.querySelector('#df-bdce2e9b-57a1-45cb-8e88-7b308874b0bc button.colab-df-convert');\n",
              "        buttonEl.style.display =\n",
              "          google.colab.kernel.accessAllowed ? 'block' : 'none';\n",
              "\n",
              "        async function convertToInteractive(key) {\n",
              "          const element = document.querySelector('#df-bdce2e9b-57a1-45cb-8e88-7b308874b0bc');\n",
              "          const dataTable =\n",
              "            await google.colab.kernel.invokeFunction('convertToInteractive',\n",
              "                                                     [key], {});\n",
              "          if (!dataTable) return;\n",
              "\n",
              "          const docLinkHtml = 'Like what you see? Visit the ' +\n",
              "            '<a target=\"_blank\" href=https://colab.research.google.com/notebooks/data_table.ipynb>data table notebook</a>'\n",
              "            + ' to learn more about interactive tables.';\n",
              "          element.innerHTML = '';\n",
              "          dataTable['output_type'] = 'display_data';\n",
              "          await google.colab.output.renderOutput(dataTable, element);\n",
              "          const docLink = document.createElement('div');\n",
              "          docLink.innerHTML = docLinkHtml;\n",
              "          element.appendChild(docLink);\n",
              "        }\n",
              "      </script>\n",
              "    </div>\n",
              "  </div>\n",
              "  "
            ]
          },
          "metadata": {},
          "execution_count": 39
        }
      ]
    },
    {
      "cell_type": "code",
      "source": [
        "ncol=list(df.columns)\n",
        "del ncol[0:5]\n",
        "print(ncol)"
      ],
      "metadata": {
        "colab": {
          "base_uri": "https://localhost:8080/"
        },
        "id": "Yra0XRxgqteQ",
        "outputId": "fe770992-8997-406f-f40f-32133be2ddc7"
      },
      "execution_count": null,
      "outputs": [
        {
          "output_type": "stream",
          "name": "stdout",
          "text": [
            "['Open', 'High', 'Low', 'Close', 'Adj Close', 'Volume', 'Low_52', 'High_52', 'PE_Ratio', 'Total_Revenue', 'Gross_Profit', 'Market_Cap', 'Net_Company']\n"
          ]
        }
      ]
    },
    {
      "cell_type": "code",
      "source": [
        "#removing outlier\n",
        "q1=df[\"High\"].quantile(.25)\n",
        "q3=df[\"High\"].quantile(.75)\n",
        "iqr=q3-q1\n",
        "upper_limit=q3+1.5*iqr\n",
        "lower_limit=q1-1.5*iqr\n",
        "def limit_imputer(value):\n",
        "  if value>upper_limit:\n",
        "    return upper_limit\n",
        "  if value<lower_limit:\n",
        "    return lower_limit\n",
        "  else:\n",
        "    return value\n",
        "df[\"High\"]=df[\"High\"].apply(limit_imputer)"
      ],
      "metadata": {
        "id": "PqswbEP6quXg"
      },
      "execution_count": null,
      "outputs": []
    },
    {
      "cell_type": "code",
      "source": [
        "sns.boxplot(df[\"High\"])"
      ],
      "metadata": {
        "colab": {
          "base_uri": "https://localhost:8080/",
          "height": 351
        },
        "id": "CeFS2AvdqLS7",
        "outputId": "40c513c4-bbd3-4ae5-db05-64976320778b"
      },
      "execution_count": null,
      "outputs": [
        {
          "output_type": "stream",
          "name": "stderr",
          "text": [
            "/usr/local/lib/python3.8/dist-packages/seaborn/_decorators.py:36: FutureWarning: Pass the following variable as a keyword arg: x. From version 0.12, the only valid positional argument will be `data`, and passing other arguments without an explicit keyword will result in an error or misinterpretation.\n",
            "  warnings.warn(\n"
          ]
        },
        {
          "output_type": "execute_result",
          "data": {
            "text/plain": [
              "<AxesSubplot:xlabel='High'>"
            ]
          },
          "metadata": {},
          "execution_count": 42
        },
        {
          "output_type": "display_data",
          "data": {
            "text/plain": [
              "<Figure size 432x288 with 1 Axes>"
            ],
            "image/png": "[encoded data removed]"
          },
          "metadata": {
            "needs_background": "light"
          }
        }
      ]
    },
    {
      "cell_type": "markdown",
      "source": [
        "Close column"
      ],
      "metadata": {
        "id": "UKj3zWptrvHQ"
      }
    },
    {
      "cell_type": "code",
      "source": [
        "sns.boxplot(df[\"Close\"])"
      ],
      "metadata": {
        "colab": {
          "base_uri": "https://localhost:8080/",
          "height": 351
        },
        "id": "V2bIJF6zruQH",
        "outputId": "c927fe98-db83-4ea2-b356-06aa07d735c9"
      },
      "execution_count": null,
      "outputs": [
        {
          "output_type": "stream",
          "name": "stderr",
          "text": [
            "/usr/local/lib/python3.8/dist-packages/seaborn/_decorators.py:36: FutureWarning: Pass the following variable as a keyword arg: x. From version 0.12, the only valid positional argument will be `data`, and passing other arguments without an explicit keyword will result in an error or misinterpretation.\n",
            "  warnings.warn(\n"
          ]
        },
        {
          "output_type": "execute_result",
          "data": {
            "text/plain": [
              "<AxesSubplot:xlabel='Close'>"
            ]
          },
          "metadata": {},
          "execution_count": 43
        },
        {
          "output_type": "display_data",
          "data": {
            "text/plain": [
              "<Figure size 432x288 with 1 Axes>"
            ],
            "image/png": "[encoded data removed]"
          },
          "metadata": {
            "needs_background": "light"
          }
        }
      ]
    },
    {
      "cell_type": "code",
      "source": [
        "#removing outlier\n",
        "q1=df[\"Close\"].quantile(.25)\n",
        "q3=df[\"Close\"].quantile(.75)\n",
        "iqr=q3-q1\n",
        "upper_limit=q3+1.5*iqr\n",
        "lower_limit=q1-1.5*iqr\n",
        "def limit_imputer(value):\n",
        "  if value>upper_limit:\n",
        "    return upper_limit\n",
        "  if value<lower_limit:\n",
        "    return lower_limit\n",
        "  else:\n",
        "    return value\n",
        "df[\"Close\"]=df[\"Close\"].apply(limit_imputer)"
      ],
      "metadata": {
        "id": "fn0mrBbhsCJf"
      },
      "execution_count": null,
      "outputs": []
    },
    {
      "cell_type": "code",
      "source": [
        "sns.boxplot(df[\"High\"])"
      ],
      "metadata": {
        "colab": {
          "base_uri": "https://localhost:8080/",
          "height": 351
        },
        "id": "MsEAuTwGr02u",
        "outputId": "ec3cc5b9-e064-4738-c512-12bd7be91ed4"
      },
      "execution_count": null,
      "outputs": [
        {
          "output_type": "stream",
          "name": "stderr",
          "text": [
            "/usr/local/lib/python3.8/dist-packages/seaborn/_decorators.py:36: FutureWarning: Pass the following variable as a keyword arg: x. From version 0.12, the only valid positional argument will be `data`, and passing other arguments without an explicit keyword will result in an error or misinterpretation.\n",
            "  warnings.warn(\n"
          ]
        },
        {
          "output_type": "execute_result",
          "data": {
            "text/plain": [
              "<AxesSubplot:xlabel='High'>"
            ]
          },
          "metadata": {},
          "execution_count": 45
        },
        {
          "output_type": "display_data",
          "data": {
            "text/plain": [
              "<Figure size 432x288 with 1 Axes>"
            ],
            "image/png": "[encoded data removed]"
          },
          "metadata": {
            "needs_background": "light"
          }
        }
      ]
    },
    {
      "cell_type": "markdown",
      "source": [
        "Adj Close column"
      ],
      "metadata": {
        "id": "S6f4nZKmseev"
      }
    },
    {
      "cell_type": "markdown",
      "source": [],
      "metadata": {
        "id": "hqjjqtpKsOoo"
      }
    },
    {
      "cell_type": "code",
      "source": [
        "sns.boxplot(df[\"Adj Close\"])"
      ],
      "metadata": {
        "colab": {
          "base_uri": "https://localhost:8080/",
          "height": 351
        },
        "id": "7I53zm16sjHH",
        "outputId": "c214a587-6475-444d-f126-c4dc34dd1200"
      },
      "execution_count": null,
      "outputs": [
        {
          "output_type": "stream",
          "name": "stderr",
          "text": [
            "/usr/local/lib/python3.8/dist-packages/seaborn/_decorators.py:36: FutureWarning: Pass the following variable as a keyword arg: x. From version 0.12, the only valid positional argument will be `data`, and passing other arguments without an explicit keyword will result in an error or misinterpretation.\n",
            "  warnings.warn(\n"
          ]
        },
        {
          "output_type": "execute_result",
          "data": {
            "text/plain": [
              "<AxesSubplot:xlabel='Adj Close'>"
            ]
          },
          "metadata": {},
          "execution_count": 46
        },
        {
          "output_type": "display_data",
          "data": {
            "text/plain": [
              "<Figure size 432x288 with 1 Axes>"
            ],
            "image/png": "[encoded data removed]"
          },
          "metadata": {
            "needs_background": "light"
          }
        }
      ]
    },
    {
      "cell_type": "code",
      "source": [
        "#removing outlier\n",
        "q1=df[\"Adj Close\"].quantile(.25)\n",
        "q3=df[\"Adj Close\"].quantile(.75)\n",
        "iqr=q3-q1\n",
        "upper_limit=q3+1.5*iqr\n",
        "lower_limit=q1-1.5*iqr\n",
        "def limit_imputer(value):\n",
        "  if value>upper_limit:\n",
        "    return upper_limit\n",
        "  if value<lower_limit:\n",
        "    return lower_limit\n",
        "  else:\n",
        "    return value\n",
        "df[\"Adj Close\"]=df[\"Adj Close\"].apply(limit_imputer)"
      ],
      "metadata": {
        "id": "200twwdqssou"
      },
      "execution_count": null,
      "outputs": []
    },
    {
      "cell_type": "code",
      "source": [
        "sns.boxplot(df[\"Adj Close\"])"
      ],
      "metadata": {
        "colab": {
          "base_uri": "https://localhost:8080/",
          "height": 351
        },
        "id": "1NF75IQ5s0O2",
        "outputId": "f963b787-890a-4a70-afa0-15050d489a59"
      },
      "execution_count": null,
      "outputs": [
        {
          "output_type": "stream",
          "name": "stderr",
          "text": [
            "/usr/local/lib/python3.8/dist-packages/seaborn/_decorators.py:36: FutureWarning: Pass the following variable as a keyword arg: x. From version 0.12, the only valid positional argument will be `data`, and passing other arguments without an explicit keyword will result in an error or misinterpretation.\n",
            "  warnings.warn(\n"
          ]
        },
        {
          "output_type": "execute_result",
          "data": {
            "text/plain": [
              "<AxesSubplot:xlabel='Adj Close'>"
            ]
          },
          "metadata": {},
          "execution_count": 48
        },
        {
          "output_type": "display_data",
          "data": {
            "text/plain": [
              "<Figure size 432x288 with 1 Axes>"
            ],
            "image/png": "[encoded data removed]"
          },
          "metadata": {
            "needs_background": "light"
          }
        }
      ]
    },
    {
      "cell_type": "markdown",
      "source": [
        "  Volume Column"
      ],
      "metadata": {
        "id": "VNREpjFmtFBV"
      }
    },
    {
      "cell_type": "code",
      "source": [
        "sns.boxplot(df[\"Volume\"])"
      ],
      "metadata": {
        "colab": {
          "base_uri": "https://localhost:8080/",
          "height": 351
        },
        "id": "pAALuBQXtAIW",
        "outputId": "5a737e40-de3d-4188-e09f-c92f55e47ba2"
      },
      "execution_count": null,
      "outputs": [
        {
          "output_type": "stream",
          "name": "stderr",
          "text": [
            "/usr/local/lib/python3.8/dist-packages/seaborn/_decorators.py:36: FutureWarning: Pass the following variable as a keyword arg: x. From version 0.12, the only valid positional argument will be `data`, and passing other arguments without an explicit keyword will result in an error or misinterpretation.\n",
            "  warnings.warn(\n"
          ]
        },
        {
          "output_type": "execute_result",
          "data": {
            "text/plain": [
              "<AxesSubplot:xlabel='Volume'>"
            ]
          },
          "metadata": {},
          "execution_count": 49
        },
        {
          "output_type": "display_data",
          "data": {
            "text/plain": [
              "<Figure size 432x288 with 1 Axes>"
            ],
            "image/png": "[encoded data removed]"
          },
          "metadata": {
            "needs_background": "light"
          }
        }
      ]
    },
    {
      "cell_type": "code",
      "source": [
        "#removing outlier\n",
        "q1=df[\"Volume\"].quantile(.25)\n",
        "q3=df[\"Volume\"].quantile(.75)\n",
        "iqr=q3-q1\n",
        "upper_limit=q3+1.5*iqr\n",
        "lower_limit=q1-1.5*iqr\n",
        "def limit_imputer(value):\n",
        "  if value>upper_limit:\n",
        "    return upper_limit\n",
        "  if value<lower_limit:\n",
        "    return lower_limit\n",
        "  else:\n",
        "    return value\n",
        "df[\"Volume\"]=df[\"Volume\"].apply(limit_imputer)"
      ],
      "metadata": {
        "id": "q6FDtgwAtI8e"
      },
      "execution_count": null,
      "outputs": []
    },
    {
      "cell_type": "code",
      "source": [
        "sns.boxplot(df[\"Volume\"])"
      ],
      "metadata": {
        "colab": {
          "base_uri": "https://localhost:8080/",
          "height": 351
        },
        "id": "lGPQ7Vf1tccW",
        "outputId": "723aa0a9-ea55-4df1-c2db-f547fb5f71af"
      },
      "execution_count": null,
      "outputs": [
        {
          "output_type": "stream",
          "name": "stderr",
          "text": [
            "/usr/local/lib/python3.8/dist-packages/seaborn/_decorators.py:36: FutureWarning: Pass the following variable as a keyword arg: x. From version 0.12, the only valid positional argument will be `data`, and passing other arguments without an explicit keyword will result in an error or misinterpretation.\n",
            "  warnings.warn(\n"
          ]
        },
        {
          "output_type": "execute_result",
          "data": {
            "text/plain": [
              "<AxesSubplot:xlabel='Volume'>"
            ]
          },
          "metadata": {},
          "execution_count": 52
        },
        {
          "output_type": "display_data",
          "data": {
            "text/plain": [
              "<Figure size 432x288 with 1 Axes>"
            ],
            "image/png": "[encoded data removed]"
          },
          "metadata": {
            "needs_background": "light"
          }
        }
      ]
    },
    {
      "cell_type": "markdown",
      "source": [
        "Low_52 column"
      ],
      "metadata": {
        "id": "kkb-nNyCtezH"
      }
    },
    {
      "cell_type": "code",
      "source": [
        "sns.boxplot(df[\"Low_52\"])"
      ],
      "metadata": {
        "colab": {
          "base_uri": "https://localhost:8080/",
          "height": 352
        },
        "id": "Bb393jE3tiS9",
        "outputId": "5f43b3be-619e-4a21-9a30-d80f20607b44"
      },
      "execution_count": null,
      "outputs": [
        {
          "output_type": "stream",
          "name": "stderr",
          "text": [
            "/usr/local/lib/python3.8/dist-packages/seaborn/_decorators.py:36: FutureWarning: Pass the following variable as a keyword arg: x. From version 0.12, the only valid positional argument will be `data`, and passing other arguments without an explicit keyword will result in an error or misinterpretation.\n",
            "  warnings.warn(\n"
          ]
        },
        {
          "output_type": "execute_result",
          "data": {
            "text/plain": [
              "<AxesSubplot:xlabel='Low_52'>"
            ]
          },
          "metadata": {},
          "execution_count": 53
        },
        {
          "output_type": "display_data",
          "data": {
            "text/plain": [
              "<Figure size 432x288 with 1 Axes>"
            ],
            "image/png": "[encoded data removed]"
          },
          "metadata": {
            "needs_background": "light"
          }
        }
      ]
    },
    {
      "cell_type": "code",
      "source": [
        "#removing outlier\n",
        "q1=df[\"Low_52\"].quantile(.25)\n",
        "q3=df[\"Low_52\"].quantile(.75)\n",
        "iqr=q3-q1\n",
        "upper_limit=q3+1.5*iqr\n",
        "lower_limit=q1-1.5*iqr\n",
        "def limit_imputer(value):\n",
        "  if value>upper_limit:\n",
        "    return upper_limit\n",
        "  if value<lower_limit:\n",
        "    return lower_limit\n",
        "  else:\n",
        "    return value\n",
        "df[\"Low_52\"]=df[\"Low_52\"].apply(limit_imputer)"
      ],
      "metadata": {
        "id": "54HOWep2tr8F"
      },
      "execution_count": null,
      "outputs": []
    },
    {
      "cell_type": "code",
      "source": [
        "sns.boxplot(df[\"Low_52\"])"
      ],
      "metadata": {
        "colab": {
          "base_uri": "https://localhost:8080/",
          "height": 352
        },
        "id": "vCMFVwnOt2g9",
        "outputId": "417fbd03-b014-4a49-c50a-9d3640abb640"
      },
      "execution_count": null,
      "outputs": [
        {
          "output_type": "stream",
          "name": "stderr",
          "text": [
            "/usr/local/lib/python3.8/dist-packages/seaborn/_decorators.py:36: FutureWarning: Pass the following variable as a keyword arg: x. From version 0.12, the only valid positional argument will be `data`, and passing other arguments without an explicit keyword will result in an error or misinterpretation.\n",
            "  warnings.warn(\n"
          ]
        },
        {
          "output_type": "execute_result",
          "data": {
            "text/plain": [
              "<AxesSubplot:xlabel='Low_52'>"
            ]
          },
          "metadata": {},
          "execution_count": 55
        },
        {
          "output_type": "display_data",
          "data": {
            "text/plain": [
              "<Figure size 432x288 with 1 Axes>"
            ],
            "image/png": "[encoded data removed]"
          },
          "metadata": {
            "needs_background": "light"
          }
        }
      ]
    },
    {
      "cell_type": "markdown",
      "source": [
        "High_52 column"
      ],
      "metadata": {
        "id": "tWsagHctt_Zk"
      }
    },
    {
      "cell_type": "code",
      "source": [
        "sns.boxplot(df[\"High_52\"])"
      ],
      "metadata": {
        "id": "WyWrBeQ1uB5_"
      },
      "execution_count": null,
      "outputs": []
    },
    {
      "cell_type": "code",
      "source": [
        "#removing outlier\n",
        "q1=df[\"High_52\"].quantile(.25)\n",
        "q3=df[\"High_52\"].quantile(.75)\n",
        "iqr=q3-q1\n",
        "upper_limit=q3+1.5*iqr\n",
        "lower_limit=q1-1.5*iqr\n",
        "def limit_imputer(value):\n",
        "  if value>upper_limit:\n",
        "    return upper_limit\n",
        "  if value<lower_limit:\n",
        "    return lower_limit\n",
        "  else:\n",
        "    return value\n",
        "df[\"High_52\"]=df[\"High_52\"].apply(limit_imputer)"
      ],
      "metadata": {
        "id": "4aKM60-WuERG"
      },
      "execution_count": null,
      "outputs": []
    },
    {
      "cell_type": "code",
      "source": [
        "sns.boxplot(df[\"High_52\"])"
      ],
      "metadata": {
        "colab": {
          "base_uri": "https://localhost:8080/",
          "height": 352
        },
        "id": "N9uqoOeBuIKJ",
        "outputId": "882a076a-b623-45c8-e184-d98ec70ce1c1"
      },
      "execution_count": null,
      "outputs": [
        {
          "output_type": "stream",
          "name": "stderr",
          "text": [
            "/usr/local/lib/python3.8/dist-packages/seaborn/_decorators.py:36: FutureWarning: Pass the following variable as a keyword arg: x. From version 0.12, the only valid positional argument will be `data`, and passing other arguments without an explicit keyword will result in an error or misinterpretation.\n",
            "  warnings.warn(\n"
          ]
        },
        {
          "output_type": "execute_result",
          "data": {
            "text/plain": [
              "<AxesSubplot:xlabel='High_52'>"
            ]
          },
          "metadata": {},
          "execution_count": 58
        },
        {
          "output_type": "display_data",
          "data": {
            "text/plain": [
              "<Figure size 432x288 with 1 Axes>"
            ],
            "image/png": "[encoded data removed]"
          },
          "metadata": {
            "needs_background": "light"
          }
        }
      ]
    },
    {
      "cell_type": "markdown",
      "source": [
        "P-E Ratio"
      ],
      "metadata": {
        "id": "924Dq8stua9K"
      }
    },
    {
      "cell_type": "code",
      "source": [
        "sns.boxplot(df[\"PE_Ratio\"])"
      ],
      "metadata": {
        "colab": {
          "base_uri": "https://localhost:8080/",
          "height": 352
        },
        "id": "25hfEUoCufdl",
        "outputId": "ac5de663-cf8a-40c6-af17-62a0175310ee"
      },
      "execution_count": null,
      "outputs": [
        {
          "output_type": "stream",
          "name": "stderr",
          "text": [
            "/usr/local/lib/python3.8/dist-packages/seaborn/_decorators.py:36: FutureWarning: Pass the following variable as a keyword arg: x. From version 0.12, the only valid positional argument will be `data`, and passing other arguments without an explicit keyword will result in an error or misinterpretation.\n",
            "  warnings.warn(\n"
          ]
        },
        {
          "output_type": "execute_result",
          "data": {
            "text/plain": [
              "<AxesSubplot:xlabel='PE_Ratio'>"
            ]
          },
          "metadata": {},
          "execution_count": 59
        },
        {
          "output_type": "display_data",
          "data": {
            "text/plain": [
              "<Figure size 432x288 with 1 Axes>"
            ],
            "image/png": "[encoded data removed]"
          },
          "metadata": {
            "needs_background": "light"
          }
        }
      ]
    },
    {
      "cell_type": "code",
      "source": [
        "#removing outlier\n",
        "q1=df[\"PE_Ratio\"].quantile(.25)\n",
        "q3=df[\"PE_Ratio\"].quantile(.75)\n",
        "iqr=q3-q1\n",
        "upper_limit=q3+1.5*iqr\n",
        "lower_limit=q1-1.5*iqr\n",
        "def limit_imputer(value):\n",
        "  if value>upper_limit:\n",
        "    return upper_limit\n",
        "  if value<lower_limit:\n",
        "    return lower_limit\n",
        "  else:\n",
        "    return value\n",
        "df[\"PE_Ratio\"]=df[\"PE_Ratio\"].apply(limit_imputer)"
      ],
      "metadata": {
        "id": "LhCJ4NY8ulKg"
      },
      "execution_count": null,
      "outputs": []
    },
    {
      "cell_type": "code",
      "source": [
        "sns.boxplot(df[\"PE_Ratio\"])"
      ],
      "metadata": {
        "colab": {
          "base_uri": "https://localhost:8080/",
          "height": 352
        },
        "id": "Xa0NMZrUu51s",
        "outputId": "e925c77a-9c88-4a83-a595-5f24405266aa"
      },
      "execution_count": null,
      "outputs": [
        {
          "output_type": "stream",
          "name": "stderr",
          "text": [
            "/usr/local/lib/python3.8/dist-packages/seaborn/_decorators.py:36: FutureWarning: Pass the following variable as a keyword arg: x. From version 0.12, the only valid positional argument will be `data`, and passing other arguments without an explicit keyword will result in an error or misinterpretation.\n",
            "  warnings.warn(\n"
          ]
        },
        {
          "output_type": "execute_result",
          "data": {
            "text/plain": [
              "<AxesSubplot:xlabel='PE_Ratio'>"
            ]
          },
          "metadata": {},
          "execution_count": 61
        },
        {
          "output_type": "display_data",
          "data": {
            "text/plain": [
              "<Figure size 432x288 with 1 Axes>"
            ],
            "image/png": "[encoded data removed]"
          },
          "metadata": {
            "needs_background": "light"
          }
        }
      ]
    },
    {
      "cell_type": "markdown",
      "source": [
        "Total_Revenue"
      ],
      "metadata": {
        "id": "u1cDId8Au77k"
      }
    },
    {
      "cell_type": "code",
      "source": [
        "sns.boxplot(df[\"Total_Revenue\"])"
      ],
      "metadata": {
        "colab": {
          "base_uri": "https://localhost:8080/",
          "height": 352
        },
        "id": "eMehZjEpvAfk",
        "outputId": "e1651893-cb51-4d7b-9379-1b6aeb6cc973"
      },
      "execution_count": null,
      "outputs": [
        {
          "output_type": "stream",
          "name": "stderr",
          "text": [
            "/usr/local/lib/python3.8/dist-packages/seaborn/_decorators.py:36: FutureWarning: Pass the following variable as a keyword arg: x. From version 0.12, the only valid positional argument will be `data`, and passing other arguments without an explicit keyword will result in an error or misinterpretation.\n",
            "  warnings.warn(\n"
          ]
        },
        {
          "output_type": "execute_result",
          "data": {
            "text/plain": [
              "<AxesSubplot:xlabel='Total_Revenue'>"
            ]
          },
          "metadata": {},
          "execution_count": 62
        },
        {
          "output_type": "display_data",
          "data": {
            "text/plain": [
              "<Figure size 432x288 with 1 Axes>"
            ],
            "image/png": "[encoded data removed]"
          },
          "metadata": {
            "needs_background": "light"
          }
        }
      ]
    },
    {
      "cell_type": "code",
      "source": [
        "#removing outlier\n",
        "q1=df[\"Total_Revenue\"].quantile(.25)\n",
        "q3=df[\"Total_Revenue\"].quantile(.75)\n",
        "iqr=q3-q1\n",
        "upper_limit=q3+1.5*iqr\n",
        "lower_limit=q1-1.5*iqr\n",
        "def limit_imputer(value):\n",
        "  if value>upper_limit:\n",
        "    return upper_limit\n",
        "  if value<lower_limit:\n",
        "    return lower_limit\n",
        "  else:\n",
        "    return value\n",
        "df[\"Total_Revenue\"]=df[\"Total_Revenue\"].apply(limit_imputer)"
      ],
      "metadata": {
        "id": "7_OOsMDvvEw7"
      },
      "execution_count": null,
      "outputs": []
    },
    {
      "cell_type": "code",
      "source": [
        "sns.boxplot(df[\"Total_Revenue\"])"
      ],
      "metadata": {
        "colab": {
          "base_uri": "https://localhost:8080/",
          "height": 352
        },
        "id": "njrR49KfvOrF",
        "outputId": "bf1cab67-13ce-4559-9c2a-260825a54c9e"
      },
      "execution_count": null,
      "outputs": [
        {
          "output_type": "stream",
          "name": "stderr",
          "text": [
            "/usr/local/lib/python3.8/dist-packages/seaborn/_decorators.py:36: FutureWarning: Pass the following variable as a keyword arg: x. From version 0.12, the only valid positional argument will be `data`, and passing other arguments without an explicit keyword will result in an error or misinterpretation.\n",
            "  warnings.warn(\n"
          ]
        },
        {
          "output_type": "execute_result",
          "data": {
            "text/plain": [
              "<AxesSubplot:xlabel='Total_Revenue'>"
            ]
          },
          "metadata": {},
          "execution_count": 64
        },
        {
          "output_type": "display_data",
          "data": {
            "text/plain": [
              "<Figure size 432x288 with 1 Axes>"
            ],
            "image/png": "[encoded data removed]"
          },
          "metadata": {
            "needs_background": "light"
          }
        }
      ]
    },
    {
      "cell_type": "code",
      "source": [
        "Gross_Profit"
      ],
      "metadata": {
        "id": "wOD3MXLZvdpN"
      },
      "execution_count": null,
      "outputs": []
    },
    {
      "cell_type": "code",
      "source": [
        "sns.boxplot(df[\"Gross_Profit\"])"
      ],
      "metadata": {
        "colab": {
          "base_uri": "https://localhost:8080/",
          "height": 352
        },
        "id": "gTrBi-vKvjfr",
        "outputId": "62915ced-10dd-4799-91f1-40b1b10f04ea"
      },
      "execution_count": null,
      "outputs": [
        {
          "output_type": "stream",
          "name": "stderr",
          "text": [
            "/usr/local/lib/python3.8/dist-packages/seaborn/_decorators.py:36: FutureWarning: Pass the following variable as a keyword arg: x. From version 0.12, the only valid positional argument will be `data`, and passing other arguments without an explicit keyword will result in an error or misinterpretation.\n",
            "  warnings.warn(\n"
          ]
        },
        {
          "output_type": "execute_result",
          "data": {
            "text/plain": [
              "<AxesSubplot:xlabel='Gross_Profit'>"
            ]
          },
          "metadata": {},
          "execution_count": 66
        },
        {
          "output_type": "display_data",
          "data": {
            "text/plain": [
              "<Figure size 432x288 with 1 Axes>"
            ],
            "image/png": "[encoded data removed]"
          },
          "metadata": {
            "needs_background": "light"
          }
        }
      ]
    },
    {
      "cell_type": "code",
      "source": [
        "#removing outlier\n",
        "q1=df[\"Gross_Profit\"].quantile(.25)\n",
        "q3=df[\"Gross_Profit\"].quantile(.75)\n",
        "iqr=q3-q1\n",
        "upper_limit=q3+1.5*iqr\n",
        "lower_limit=q1-1.5*iqr\n",
        "def limit_imputer(value):\n",
        "  if value>upper_limit:\n",
        "    return upper_limit\n",
        "  if value<lower_limit:\n",
        "    return lower_limit\n",
        "  else:\n",
        "    return value\n",
        "df[\"Gross_Profit\"]=df[\"Gross_Profit\"].apply(limit_imputer)"
      ],
      "metadata": {
        "id": "AVqD7lbYvkib"
      },
      "execution_count": null,
      "outputs": []
    },
    {
      "cell_type": "code",
      "source": [
        "sns.boxplot(df[\"Gross_Profit\"])"
      ],
      "metadata": {
        "colab": {
          "base_uri": "https://localhost:8080/",
          "height": 352
        },
        "id": "yoFEHIe3vnPb",
        "outputId": "5fff67fc-75d1-41c7-c954-1e4e711413f6"
      },
      "execution_count": null,
      "outputs": [
        {
          "output_type": "stream",
          "name": "stderr",
          "text": [
            "/usr/local/lib/python3.8/dist-packages/seaborn/_decorators.py:36: FutureWarning: Pass the following variable as a keyword arg: x. From version 0.12, the only valid positional argument will be `data`, and passing other arguments without an explicit keyword will result in an error or misinterpretation.\n",
            "  warnings.warn(\n"
          ]
        },
        {
          "output_type": "execute_result",
          "data": {
            "text/plain": [
              "<AxesSubplot:xlabel='Gross_Profit'>"
            ]
          },
          "metadata": {},
          "execution_count": 68
        },
        {
          "output_type": "display_data",
          "data": {
            "text/plain": [
              "<Figure size 432x288 with 1 Axes>"
            ],
            "image/png": "[encoded data removed]"
          },
          "metadata": {
            "needs_background": "light"
          }
        }
      ]
    },
    {
      "cell_type": "markdown",
      "source": [
        "Market_Cap"
      ],
      "metadata": {
        "id": "PdDBD76Qv-ln"
      }
    },
    {
      "cell_type": "code",
      "source": [
        "sns.boxplot(df[\"Market_Cap\"])"
      ],
      "metadata": {
        "colab": {
          "base_uri": "https://localhost:8080/",
          "height": 352
        },
        "id": "rMN6_NszwDyf",
        "outputId": "5b69dc93-1e7a-4dc0-adc8-c40a6a7751c6"
      },
      "execution_count": null,
      "outputs": [
        {
          "output_type": "stream",
          "name": "stderr",
          "text": [
            "/usr/local/lib/python3.8/dist-packages/seaborn/_decorators.py:36: FutureWarning: Pass the following variable as a keyword arg: x. From version 0.12, the only valid positional argument will be `data`, and passing other arguments without an explicit keyword will result in an error or misinterpretation.\n",
            "  warnings.warn(\n"
          ]
        },
        {
          "output_type": "execute_result",
          "data": {
            "text/plain": [
              "<AxesSubplot:xlabel='Market_Cap'>"
            ]
          },
          "metadata": {},
          "execution_count": 69
        },
        {
          "output_type": "display_data",
          "data": {
            "text/plain": [
              "<Figure size 432x288 with 1 Axes>"
            ],
            "image/png": "[encoded data removed]"
          },
          "metadata": {
            "needs_background": "light"
          }
        }
      ]
    },
    {
      "cell_type": "code",
      "source": [
        "#removing outlier\n",
        "q1=df[\"Market_Cap\"].quantile(.25)\n",
        "q3=df[\"Market_Cap\"].quantile(.75)\n",
        "iqr=q3-q1\n",
        "upper_limit=q3+1.5*iqr\n",
        "lower_limit=q1-1.5*iqr\n",
        "def limit_imputer(value):\n",
        "  if value>upper_limit:\n",
        "    return upper_limit\n",
        "  if value<lower_limit:\n",
        "    return lower_limit\n",
        "  else:\n",
        "    return value\n",
        "df[\"Market_Cap\"]=df[\"Market_Cap\"].apply(limit_imputer)"
      ],
      "metadata": {
        "id": "kdODNyNZwE4q"
      },
      "execution_count": null,
      "outputs": []
    },
    {
      "cell_type": "code",
      "source": [
        "sns.boxplot(df[\"Market_Cap\"])"
      ],
      "metadata": {
        "colab": {
          "base_uri": "https://localhost:8080/",
          "height": 352
        },
        "id": "FngnMqJEwFQb",
        "outputId": "5154226b-01ce-47bb-a62b-cbeefe18e2fb"
      },
      "execution_count": null,
      "outputs": [
        {
          "output_type": "stream",
          "name": "stderr",
          "text": [
            "/usr/local/lib/python3.8/dist-packages/seaborn/_decorators.py:36: FutureWarning: Pass the following variable as a keyword arg: x. From version 0.12, the only valid positional argument will be `data`, and passing other arguments without an explicit keyword will result in an error or misinterpretation.\n",
            "  warnings.warn(\n"
          ]
        },
        {
          "output_type": "execute_result",
          "data": {
            "text/plain": [
              "<AxesSubplot:xlabel='Market_Cap'>"
            ]
          },
          "metadata": {},
          "execution_count": 71
        },
        {
          "output_type": "display_data",
          "data": {
            "text/plain": [
              "<Figure size 432x288 with 1 Axes>"
            ],
            "image/png": "[encoded data removed]"
          },
          "metadata": {
            "needs_background": "light"
          }
        }
      ]
    },
    {
      "cell_type": "markdown",
      "source": [
        "Net_Company"
      ],
      "metadata": {
        "id": "6kPC-CnIweMG"
      }
    },
    {
      "cell_type": "code",
      "source": [
        "#removing outlier\n",
        "q1=df[\"Net_Company\"].quantile(.25)\n",
        "q3=df[\"Net_Company\"].quantile(.75)\n",
        "iqr=q3-q1\n",
        "upper_limit=q3+1.5*iqr\n",
        "lower_limit=q1-1.5*iqr\n",
        "def limit_imputer(value):\n",
        "  if value>upper_limit:\n",
        "    return upper_limit\n",
        "  if value<lower_limit:\n",
        "    return lower_limit\n",
        "  else:\n",
        "    return value\n",
        "df[\"Net_Company\"]=df[\"Net_Company\"].apply(limit_imputer)"
      ],
      "metadata": {
        "id": "kAiNqKkKwjFM"
      },
      "execution_count": null,
      "outputs": []
    },
    {
      "cell_type": "code",
      "source": [
        "sns.boxplot(df[\"Net_Company\"])"
      ],
      "metadata": {
        "colab": {
          "base_uri": "https://localhost:8080/",
          "height": 352
        },
        "id": "yymFE673wwXC",
        "outputId": "e3c632c8-3d2b-468f-d4eb-4603c21a7c8e"
      },
      "execution_count": null,
      "outputs": [
        {
          "output_type": "stream",
          "name": "stderr",
          "text": [
            "/usr/local/lib/python3.8/dist-packages/seaborn/_decorators.py:36: FutureWarning: Pass the following variable as a keyword arg: x. From version 0.12, the only valid positional argument will be `data`, and passing other arguments without an explicit keyword will result in an error or misinterpretation.\n",
            "  warnings.warn(\n"
          ]
        },
        {
          "output_type": "execute_result",
          "data": {
            "text/plain": [
              "<AxesSubplot:xlabel='Net_Company'>"
            ]
          },
          "metadata": {},
          "execution_count": 73
        },
        {
          "output_type": "display_data",
          "data": {
            "text/plain": [
              "<Figure size 432x288 with 1 Axes>"
            ],
            "image/png": "[encoded data removed]"
          },
          "metadata": {
            "needs_background": "light"
          }
        }
      ]
    },
    {
      "cell_type": "code",
      "source": [
        "df.to_csv(\"Pharmacleaned1.csv\")"
      ],
      "metadata": {
        "id": "aaEXqvWsw-0I"
      },
      "execution_count": null,
      "outputs": []
    }
  ]
}