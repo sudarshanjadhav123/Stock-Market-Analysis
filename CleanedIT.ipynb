{
  "nbformat": 4,
  "nbformat_minor": 0,
  "metadata": {
    "colab": {
      "provenance": []
    },
    "kernelspec": {
      "name": "python3",
      "display_name": "Python 3"
    },
    "language_info": {
      "name": "python"
    }
  },
  "cells": [
    {
      "cell_type": "code",
      "execution_count": null,
      "metadata": {
        "id": "O5PTpDCIi29Q"
      },
      "outputs": [],
      "source": [
        "import pandas as pd\n",
        "import numpy as np\n",
        "import seaborn as sns"
      ]
    },
    {
      "cell_type": "code",
      "source": [
        "df=pd.read_csv(\"/content/IT.csv\")\n",
        "df"
      ],
      "metadata": {
        "colab": {
          "base_uri": "https://localhost:8080/",
          "height": 852
        },
        "id": "GN8WoZIDj06k",
        "outputId": "322f17e8-69f9-4d8e-961b-899b4bff67bc"
      },
      "execution_count": null,
      "outputs": [
        {
          "output_type": "execute_result",
          "data": {
            "text/plain": [
              "       Unnamed: 0 Sector                     Company            BSE  \\\n",
              "0               0     IT  Persistent Systems Limited  PERSISTENT.BO   \n",
              "1               1     IT  Persistent Systems Limited  PERSISTENT.BO   \n",
              "2               2     IT  Persistent Systems Limited  PERSISTENT.BO   \n",
              "3               3     IT  Persistent Systems Limited  PERSISTENT.BO   \n",
              "4               4     IT  Persistent Systems Limited  PERSISTENT.BO   \n",
              "...           ...    ...                         ...            ...   \n",
              "24816       24816     IT              TATA ELXSI LTD   TATAELXSI.BO   \n",
              "24817       24817     IT              TATA ELXSI LTD   TATAELXSI.BO   \n",
              "24818       24818     IT              TATA ELXSI LTD   TATAELXSI.BO   \n",
              "24819       24819     IT              TATA ELXSI LTD   TATAELXSI.BO   \n",
              "24820       24820     IT              TATA ELXSI LTD   TATAELXSI.BO   \n",
              "\n",
              "             Date         Open         High          Low        Close  \\\n",
              "0      2012-01-02   165.000000   165.500000   160.000000   161.225006   \n",
              "1      2012-01-03   162.000000   162.500000   158.175003   158.625000   \n",
              "2      2012-01-04   161.000000   161.000000   158.100006   159.375000   \n",
              "3      2012-01-05   167.500000   167.500000   157.625000   158.350006   \n",
              "4      2012-01-06   162.500000   162.500000   157.449997   159.225006   \n",
              "...           ...          ...          ...          ...          ...   \n",
              "24816  2023-02-28  6380.000000  6392.250000  6080.000000  6127.350098   \n",
              "24817  2023-03-01  6101.299805  6270.149902  6101.299805  6196.950195   \n",
              "24818  2023-03-02  6215.000000  6230.000000  6131.700195  6151.149902   \n",
              "24819  2023-03-03  6160.049805  6220.000000  6160.049805  6179.750000   \n",
              "24820  2023-03-06  6221.000000  6320.750000  6219.899902  6236.250000   \n",
              "\n",
              "         Adj Close   Volume  Low_52  High_52   PE_Ratio  Total_Revenue  \\\n",
              "0       137.954926   3432.0   420.0  4937.45  107.21113   7.733974e+10   \n",
              "1       135.730179    734.0   420.0  4937.45  107.21113   7.733974e+10   \n",
              "2       136.371918    788.0   420.0  4937.45  107.21113   7.733974e+10   \n",
              "3       135.494873    890.0   420.0  4937.45  107.21113   7.733974e+10   \n",
              "4       136.243576   2964.0   420.0  4937.45  107.21113   7.733974e+10   \n",
              "...            ...      ...     ...      ...        ...            ...   \n",
              "24816  6127.350098  27911.0   501.0  6320.75  127.21589   1.609860e+10   \n",
              "24817  6196.950195   7435.0   501.0  6320.75  127.21589   1.609860e+10   \n",
              "24818  6151.149902  11189.0   501.0  6320.75  127.21589   1.609860e+10   \n",
              "24819  6179.750000  13884.0   501.0  6320.75  127.21589   1.609860e+10   \n",
              "24820  6236.250000  14262.0   501.0  6320.75  127.21589   1.609860e+10   \n",
              "\n",
              "       Gross_Profit    Market_Cap   Net_Company  \n",
              "0      3.286125e+10  3.731783e+11  8.705700e+09  \n",
              "1      3.286125e+10  3.731783e+11  8.705700e+09  \n",
              "2      3.286125e+10  3.731783e+11  8.705700e+09  \n",
              "3      3.286125e+10  3.731783e+11  8.705700e+09  \n",
              "4      3.286125e+10  3.731783e+11  8.705700e+09  \n",
              "...             ...           ...           ...  \n",
              "24816  1.528785e+10  3.883712e+11  2.561001e+09  \n",
              "24817  1.528785e+10  3.883712e+11  2.561001e+09  \n",
              "24818  1.528785e+10  3.883712e+11  2.561001e+09  \n",
              "24819  1.528785e+10  3.883712e+11  2.561001e+09  \n",
              "24820  1.528785e+10  3.883712e+11  2.561001e+09  \n",
              "\n",
              "[24821 rows x 18 columns]"
            ],
            "text/html": [
              "\n",
              "  <div id=\"df-9adde046-10cb-44ab-810a-ab370b0e60c9\">\n",
              "    <div class=\"colab-df-container\">\n",
              "      <div>\n",
              "<style scoped>\n",
              "    .dataframe tbody tr th:only-of-type {\n",
              "        vertical-align: middle;\n",
              "    }\n",
              "\n",
              "    .dataframe tbody tr th {\n",
              "        vertical-align: top;\n",
              "    }\n",
              "\n",
              "    .dataframe thead th {\n",
              "        text-align: right;\n",
              "    }\n",
              "</style>\n",
              "<table border=\"1\" class=\"dataframe\">\n",
              "  <thead>\n",
              "    <tr style=\"text-align: right;\">\n",
              "      <th></th>\n",
              "      <th>Unnamed: 0</th>\n",
              "      <th>Sector</th>\n",
              "      <th>Company</th>\n",
              "      <th>BSE</th>\n",
              "      <th>Date</th>\n",
              "      <th>Open</th>\n",
              "      <th>High</th>\n",
              "      <th>Low</th>\n",
              "      <th>Close</th>\n",
              "      <th>Adj Close</th>\n",
              "      <th>Volume</th>\n",
              "      <th>Low_52</th>\n",
              "      <th>High_52</th>\n",
              "      <th>PE_Ratio</th>\n",
              "      <th>Total_Revenue</th>\n",
              "      <th>Gross_Profit</th>\n",
              "      <th>Market_Cap</th>\n",
              "      <th>Net_Company</th>\n",
              "    </tr>\n",
              "  </thead>\n",
              "  <tbody>\n",
              "    <tr>\n",
              "      <th>0</th>\n",
              "      <td>0</td>\n",
              "      <td>IT</td>\n",
              "      <td>Persistent Systems Limited</td>\n",
              "      <td>PERSISTENT.BO</td>\n",
              "      <td>2012-01-02</td>\n",
              "      <td>165.000000</td>\n",
              "      <td>165.500000</td>\n",
              "      <td>160.000000</td>\n",
              "      <td>161.225006</td>\n",
              "      <td>137.954926</td>\n",
              "      <td>3432.0</td>\n",
              "      <td>420.0</td>\n",
              "      <td>4937.45</td>\n",
              "      <td>107.21113</td>\n",
              "      <td>7.733974e+10</td>\n",
              "      <td>3.286125e+10</td>\n",
              "      <td>3.731783e+11</td>\n",
              "      <td>8.705700e+09</td>\n",
              "    </tr>\n",
              "    <tr>\n",
              "      <th>1</th>\n",
              "      <td>1</td>\n",
              "      <td>IT</td>\n",
              "      <td>Persistent Systems Limited</td>\n",
              "      <td>PERSISTENT.BO</td>\n",
              "      <td>2012-01-03</td>\n",
              "      <td>162.000000</td>\n",
              "      <td>162.500000</td>\n",
              "      <td>158.175003</td>\n",
              "      <td>158.625000</td>\n",
              "      <td>135.730179</td>\n",
              "      <td>734.0</td>\n",
              "      <td>420.0</td>\n",
              "      <td>4937.45</td>\n",
              "      <td>107.21113</td>\n",
              "      <td>7.733974e+10</td>\n",
              "      <td>3.286125e+10</td>\n",
              "      <td>3.731783e+11</td>\n",
              "      <td>8.705700e+09</td>\n",
              "    </tr>\n",
              "    <tr>\n",
              "      <th>2</th>\n",
              "      <td>2</td>\n",
              "      <td>IT</td>\n",
              "      <td>Persistent Systems Limited</td>\n",
              "      <td>PERSISTENT.BO</td>\n",
              "      <td>2012-01-04</td>\n",
              "      <td>161.000000</td>\n",
              "      <td>161.000000</td>\n",
              "      <td>158.100006</td>\n",
              "      <td>159.375000</td>\n",
              "      <td>136.371918</td>\n",
              "      <td>788.0</td>\n",
              "      <td>420.0</td>\n",
              "      <td>4937.45</td>\n",
              "      <td>107.21113</td>\n",
              "      <td>7.733974e+10</td>\n",
              "      <td>3.286125e+10</td>\n",
              "      <td>3.731783e+11</td>\n",
              "      <td>8.705700e+09</td>\n",
              "    </tr>\n",
              "    <tr>\n",
              "      <th>3</th>\n",
              "      <td>3</td>\n",
              "      <td>IT</td>\n",
              "      <td>Persistent Systems Limited</td>\n",
              "      <td>PERSISTENT.BO</td>\n",
              "      <td>2012-01-05</td>\n",
              "      <td>167.500000</td>\n",
              "      <td>167.500000</td>\n",
              "      <td>157.625000</td>\n",
              "      <td>158.350006</td>\n",
              "      <td>135.494873</td>\n",
              "      <td>890.0</td>\n",
              "      <td>420.0</td>\n",
              "      <td>4937.45</td>\n",
              "      <td>107.21113</td>\n",
              "      <td>7.733974e+10</td>\n",
              "      <td>3.286125e+10</td>\n",
              "      <td>3.731783e+11</td>\n",
              "      <td>8.705700e+09</td>\n",
              "    </tr>\n",
              "    <tr>\n",
              "      <th>4</th>\n",
              "      <td>4</td>\n",
              "      <td>IT</td>\n",
              "      <td>Persistent Systems Limited</td>\n",
              "      <td>PERSISTENT.BO</td>\n",
              "      <td>2012-01-06</td>\n",
              "      <td>162.500000</td>\n",
              "      <td>162.500000</td>\n",
              "      <td>157.449997</td>\n",
              "      <td>159.225006</td>\n",
              "      <td>136.243576</td>\n",
              "      <td>2964.0</td>\n",
              "      <td>420.0</td>\n",
              "      <td>4937.45</td>\n",
              "      <td>107.21113</td>\n",
              "      <td>7.733974e+10</td>\n",
              "      <td>3.286125e+10</td>\n",
              "      <td>3.731783e+11</td>\n",
              "      <td>8.705700e+09</td>\n",
              "    </tr>\n",
              "    <tr>\n",
              "      <th>...</th>\n",
              "      <td>...</td>\n",
              "      <td>...</td>\n",
              "      <td>...</td>\n",
              "      <td>...</td>\n",
              "      <td>...</td>\n",
              "      <td>...</td>\n",
              "      <td>...</td>\n",
              "      <td>...</td>\n",
              "      <td>...</td>\n",
              "      <td>...</td>\n",
              "      <td>...</td>\n",
              "      <td>...</td>\n",
              "      <td>...</td>\n",
              "      <td>...</td>\n",
              "      <td>...</td>\n",
              "      <td>...</td>\n",
              "      <td>...</td>\n",
              "      <td>...</td>\n",
              "    </tr>\n",
              "    <tr>\n",
              "      <th>24816</th>\n",
              "      <td>24816</td>\n",
              "      <td>IT</td>\n",
              "      <td>TATA ELXSI LTD</td>\n",
              "      <td>TATAELXSI.BO</td>\n",
              "      <td>2023-02-28</td>\n",
              "      <td>6380.000000</td>\n",
              "      <td>6392.250000</td>\n",
              "      <td>6080.000000</td>\n",
              "      <td>6127.350098</td>\n",
              "      <td>6127.350098</td>\n",
              "      <td>27911.0</td>\n",
              "      <td>501.0</td>\n",
              "      <td>6320.75</td>\n",
              "      <td>127.21589</td>\n",
              "      <td>1.609860e+10</td>\n",
              "      <td>1.528785e+10</td>\n",
              "      <td>3.883712e+11</td>\n",
              "      <td>2.561001e+09</td>\n",
              "    </tr>\n",
              "    <tr>\n",
              "      <th>24817</th>\n",
              "      <td>24817</td>\n",
              "      <td>IT</td>\n",
              "      <td>TATA ELXSI LTD</td>\n",
              "      <td>TATAELXSI.BO</td>\n",
              "      <td>2023-03-01</td>\n",
              "      <td>6101.299805</td>\n",
              "      <td>6270.149902</td>\n",
              "      <td>6101.299805</td>\n",
              "      <td>6196.950195</td>\n",
              "      <td>6196.950195</td>\n",
              "      <td>7435.0</td>\n",
              "      <td>501.0</td>\n",
              "      <td>6320.75</td>\n",
              "      <td>127.21589</td>\n",
              "      <td>1.609860e+10</td>\n",
              "      <td>1.528785e+10</td>\n",
              "      <td>3.883712e+11</td>\n",
              "      <td>2.561001e+09</td>\n",
              "    </tr>\n",
              "    <tr>\n",
              "      <th>24818</th>\n",
              "      <td>24818</td>\n",
              "      <td>IT</td>\n",
              "      <td>TATA ELXSI LTD</td>\n",
              "      <td>TATAELXSI.BO</td>\n",
              "      <td>2023-03-02</td>\n",
              "      <td>6215.000000</td>\n",
              "      <td>6230.000000</td>\n",
              "      <td>6131.700195</td>\n",
              "      <td>6151.149902</td>\n",
              "      <td>6151.149902</td>\n",
              "      <td>11189.0</td>\n",
              "      <td>501.0</td>\n",
              "      <td>6320.75</td>\n",
              "      <td>127.21589</td>\n",
              "      <td>1.609860e+10</td>\n",
              "      <td>1.528785e+10</td>\n",
              "      <td>3.883712e+11</td>\n",
              "      <td>2.561001e+09</td>\n",
              "    </tr>\n",
              "    <tr>\n",
              "      <th>24819</th>\n",
              "      <td>24819</td>\n",
              "      <td>IT</td>\n",
              "      <td>TATA ELXSI LTD</td>\n",
              "      <td>TATAELXSI.BO</td>\n",
              "      <td>2023-03-03</td>\n",
              "      <td>6160.049805</td>\n",
              "      <td>6220.000000</td>\n",
              "      <td>6160.049805</td>\n",
              "      <td>6179.750000</td>\n",
              "      <td>6179.750000</td>\n",
              "      <td>13884.0</td>\n",
              "      <td>501.0</td>\n",
              "      <td>6320.75</td>\n",
              "      <td>127.21589</td>\n",
              "      <td>1.609860e+10</td>\n",
              "      <td>1.528785e+10</td>\n",
              "      <td>3.883712e+11</td>\n",
              "      <td>2.561001e+09</td>\n",
              "    </tr>\n",
              "    <tr>\n",
              "      <th>24820</th>\n",
              "      <td>24820</td>\n",
              "      <td>IT</td>\n",
              "      <td>TATA ELXSI LTD</td>\n",
              "      <td>TATAELXSI.BO</td>\n",
              "      <td>2023-03-06</td>\n",
              "      <td>6221.000000</td>\n",
              "      <td>6320.750000</td>\n",
              "      <td>6219.899902</td>\n",
              "      <td>6236.250000</td>\n",
              "      <td>6236.250000</td>\n",
              "      <td>14262.0</td>\n",
              "      <td>501.0</td>\n",
              "      <td>6320.75</td>\n",
              "      <td>127.21589</td>\n",
              "      <td>1.609860e+10</td>\n",
              "      <td>1.528785e+10</td>\n",
              "      <td>3.883712e+11</td>\n",
              "      <td>2.561001e+09</td>\n",
              "    </tr>\n",
              "  </tbody>\n",
              "</table>\n",
              "<p>24821 rows × 18 columns</p>\n",
              "</div>\n",
              "      <button class=\"colab-df-convert\" onclick=\"convertToInteractive('df-9adde046-10cb-44ab-810a-ab370b0e60c9')\"\n",
              "              title=\"Convert this dataframe to an interactive table.\"\n",
              "              style=\"display:none;\">\n",
              "        \n",
              "  <svg xmlns=\"http://www.w3.org/2000/svg\" height=\"24px\"viewBox=\"0 0 24 24\"\n",
              "       width=\"24px\">\n",
              "    <path d=\"M0 0h24v24H0V0z\" fill=\"none\"/>\n",
              "    <path d=\"M18.56 5.44l.94 2.06.94-2.06 2.06-.94-2.06-.94-.94-2.06-.94 2.06-2.06.94zm-11 1L8.5 8.5l.94-2.06 2.06-.94-2.06-.94L8.5 2.5l-.94 2.06-2.06.94zm10 10l.94 2.06.94-2.06 2.06-.94-2.06-.94-.94-2.06-.94 2.06-2.06.94z\"/><path d=\"M17.41 7.96l-1.37-1.37c-.4-.4-.92-.59-1.43-.59-.52 0-1.04.2-1.43.59L10.3 9.45l-7.72 7.72c-.78.78-.78 2.05 0 2.83L4 21.41c.39.39.9.59 1.41.59.51 0 1.02-.2 1.41-.59l7.78-7.78 2.81-2.81c.8-.78.8-2.07 0-2.86zM5.41 20L4 18.59l7.72-7.72 1.47 1.35L5.41 20z\"/>\n",
              "  </svg>\n",
              "      </button>\n",
              "      \n",
              "  <style>\n",
              "    .colab-df-container {\n",
              "      display:flex;\n",
              "      flex-wrap:wrap;\n",
              "      gap: 12px;\n",
              "    }\n",
              "\n",
              "    .colab-df-convert {\n",
              "      background-color: #E8F0FE;\n",
              "      border: none;\n",
              "      border-radius: 50%;\n",
              "      cursor: pointer;\n",
              "      display: none;\n",
              "      fill: #1967D2;\n",
              "      height: 32px;\n",
              "      padding: 0 0 0 0;\n",
              "      width: 32px;\n",
              "    }\n",
              "\n",
              "    .colab-df-convert:hover {\n",
              "      background-color: #E2EBFA;\n",
              "      box-shadow: 0px 1px 2px rgba(60, 64, 67, 0.3), 0px 1px 3px 1px rgba(60, 64, 67, 0.15);\n",
              "      fill: #174EA6;\n",
              "    }\n",
              "\n",
              "    [theme=dark] .colab-df-convert {\n",
              "      background-color: #3B4455;\n",
              "      fill: #D2E3FC;\n",
              "    }\n",
              "\n",
              "    [theme=dark] .colab-df-convert:hover {\n",
              "      background-color: #434B5C;\n",
              "      box-shadow: 0px 1px 3px 1px rgba(0, 0, 0, 0.15);\n",
              "      filter: drop-shadow(0px 1px 2px rgba(0, 0, 0, 0.3));\n",
              "      fill: #FFFFFF;\n",
              "    }\n",
              "  </style>\n",
              "\n",
              "      <script>\n",
              "        const buttonEl =\n",
              "          document.querySelector('#df-9adde046-10cb-44ab-810a-ab370b0e60c9 button.colab-df-convert');\n",
              "        buttonEl.style.display =\n",
              "          google.colab.kernel.accessAllowed ? 'block' : 'none';\n",
              "\n",
              "        async function convertToInteractive(key) {\n",
              "          const element = document.querySelector('#df-9adde046-10cb-44ab-810a-ab370b0e60c9');\n",
              "          const dataTable =\n",
              "            await google.colab.kernel.invokeFunction('convertToInteractive',\n",
              "                                                     [key], {});\n",
              "          if (!dataTable) return;\n",
              "\n",
              "          const docLinkHtml = 'Like what you see? Visit the ' +\n",
              "            '<a target=\"_blank\" href=https://colab.research.google.com/notebooks/data_table.ipynb>data table notebook</a>'\n",
              "            + ' to learn more about interactive tables.';\n",
              "          element.innerHTML = '';\n",
              "          dataTable['output_type'] = 'display_data';\n",
              "          await google.colab.output.renderOutput(dataTable, element);\n",
              "          const docLink = document.createElement('div');\n",
              "          docLink.innerHTML = docLinkHtml;\n",
              "          element.appendChild(docLink);\n",
              "        }\n",
              "      </script>\n",
              "    </div>\n",
              "  </div>\n",
              "  "
            ]
          },
          "metadata": {},
          "execution_count": 12
        }
      ]
    },
    {
      "cell_type": "code",
      "source": [
        "df.round(2)"
      ],
      "metadata": {
        "colab": {
          "base_uri": "https://localhost:8080/",
          "height": 852
        },
        "id": "S6nn5Ntbn4Ef",
        "outputId": "f374eab5-7890-40c4-ded8-5980c9154033"
      },
      "execution_count": null,
      "outputs": [
        {
          "output_type": "execute_result",
          "data": {
            "text/plain": [
              "       Unnamed: 0 Sector                     Company            BSE  \\\n",
              "0               0     IT  Persistent Systems Limited  PERSISTENT.BO   \n",
              "1               1     IT  Persistent Systems Limited  PERSISTENT.BO   \n",
              "2               2     IT  Persistent Systems Limited  PERSISTENT.BO   \n",
              "3               3     IT  Persistent Systems Limited  PERSISTENT.BO   \n",
              "4               4     IT  Persistent Systems Limited  PERSISTENT.BO   \n",
              "...           ...    ...                         ...            ...   \n",
              "24816       24816     IT              TATA ELXSI LTD   TATAELXSI.BO   \n",
              "24817       24817     IT              TATA ELXSI LTD   TATAELXSI.BO   \n",
              "24818       24818     IT              TATA ELXSI LTD   TATAELXSI.BO   \n",
              "24819       24819     IT              TATA ELXSI LTD   TATAELXSI.BO   \n",
              "24820       24820     IT              TATA ELXSI LTD   TATAELXSI.BO   \n",
              "\n",
              "             Date     Open     High      Low    Close  Adj Close   Volume  \\\n",
              "0      2012-01-02   165.00   165.50   160.00   161.23     137.95   3432.0   \n",
              "1      2012-01-03   162.00   162.50   158.18   158.62     135.73    734.0   \n",
              "2      2012-01-04   161.00   161.00   158.10   159.38     136.37    788.0   \n",
              "3      2012-01-05   167.50   167.50   157.62   158.35     135.49    890.0   \n",
              "4      2012-01-06   162.50   162.50   157.45   159.23     136.24   2964.0   \n",
              "...           ...      ...      ...      ...      ...        ...      ...   \n",
              "24816  2023-02-28  6380.00  6392.25  6080.00  6127.35    6127.35  27911.0   \n",
              "24817  2023-03-01  6101.30  6270.15  6101.30  6196.95    6196.95   7435.0   \n",
              "24818  2023-03-02  6215.00  6230.00  6131.70  6151.15    6151.15  11189.0   \n",
              "24819  2023-03-03  6160.05  6220.00  6160.05  6179.75    6179.75  13884.0   \n",
              "24820  2023-03-06  6221.00  6320.75  6219.90  6236.25    6236.25  14262.0   \n",
              "\n",
              "       Low_52  High_52  PE_Ratio  Total_Revenue  Gross_Profit    Market_Cap  \\\n",
              "0       420.0  4937.45    107.21   7.733974e+10  3.286125e+10  3.731783e+11   \n",
              "1       420.0  4937.45    107.21   7.733974e+10  3.286125e+10  3.731783e+11   \n",
              "2       420.0  4937.45    107.21   7.733974e+10  3.286125e+10  3.731783e+11   \n",
              "3       420.0  4937.45    107.21   7.733974e+10  3.286125e+10  3.731783e+11   \n",
              "4       420.0  4937.45    107.21   7.733974e+10  3.286125e+10  3.731783e+11   \n",
              "...       ...      ...       ...            ...           ...           ...   \n",
              "24816   501.0  6320.75    127.22   1.609860e+10  1.528785e+10  3.883712e+11   \n",
              "24817   501.0  6320.75    127.22   1.609860e+10  1.528785e+10  3.883712e+11   \n",
              "24818   501.0  6320.75    127.22   1.609860e+10  1.528785e+10  3.883712e+11   \n",
              "24819   501.0  6320.75    127.22   1.609860e+10  1.528785e+10  3.883712e+11   \n",
              "24820   501.0  6320.75    127.22   1.609860e+10  1.528785e+10  3.883712e+11   \n",
              "\n",
              "        Net_Company  \n",
              "0      8.705700e+09  \n",
              "1      8.705700e+09  \n",
              "2      8.705700e+09  \n",
              "3      8.705700e+09  \n",
              "4      8.705700e+09  \n",
              "...             ...  \n",
              "24816  2.561001e+09  \n",
              "24817  2.561001e+09  \n",
              "24818  2.561001e+09  \n",
              "24819  2.561001e+09  \n",
              "24820  2.561001e+09  \n",
              "\n",
              "[24821 rows x 18 columns]"
            ],
            "text/html": [
              "\n",
              "  <div id=\"df-9fa5fcdc-2d0a-4e97-bea7-01e62fdea8a0\">\n",
              "    <div class=\"colab-df-container\">\n",
              "      <div>\n",
              "<style scoped>\n",
              "    .dataframe tbody tr th:only-of-type {\n",
              "        vertical-align: middle;\n",
              "    }\n",
              "\n",
              "    .dataframe tbody tr th {\n",
              "        vertical-align: top;\n",
              "    }\n",
              "\n",
              "    .dataframe thead th {\n",
              "        text-align: right;\n",
              "    }\n",
              "</style>\n",
              "<table border=\"1\" class=\"dataframe\">\n",
              "  <thead>\n",
              "    <tr style=\"text-align: right;\">\n",
              "      <th></th>\n",
              "      <th>Unnamed: 0</th>\n",
              "      <th>Sector</th>\n",
              "      <th>Company</th>\n",
              "      <th>BSE</th>\n",
              "      <th>Date</th>\n",
              "      <th>Open</th>\n",
              "      <th>High</th>\n",
              "      <th>Low</th>\n",
              "      <th>Close</th>\n",
              "      <th>Adj Close</th>\n",
              "      <th>Volume</th>\n",
              "      <th>Low_52</th>\n",
              "      <th>High_52</th>\n",
              "      <th>PE_Ratio</th>\n",
              "      <th>Total_Revenue</th>\n",
              "      <th>Gross_Profit</th>\n",
              "      <th>Market_Cap</th>\n",
              "      <th>Net_Company</th>\n",
              "    </tr>\n",
              "  </thead>\n",
              "  <tbody>\n",
              "    <tr>\n",
              "      <th>0</th>\n",
              "      <td>0</td>\n",
              "      <td>IT</td>\n",
              "      <td>Persistent Systems Limited</td>\n",
              "      <td>PERSISTENT.BO</td>\n",
              "      <td>2012-01-02</td>\n",
              "      <td>165.00</td>\n",
              "      <td>165.50</td>\n",
              "      <td>160.00</td>\n",
              "      <td>161.23</td>\n",
              "      <td>137.95</td>\n",
              "      <td>3432.0</td>\n",
              "      <td>420.0</td>\n",
              "      <td>4937.45</td>\n",
              "      <td>107.21</td>\n",
              "      <td>7.733974e+10</td>\n",
              "      <td>3.286125e+10</td>\n",
              "      <td>3.731783e+11</td>\n",
              "      <td>8.705700e+09</td>\n",
              "    </tr>\n",
              "    <tr>\n",
              "      <th>1</th>\n",
              "      <td>1</td>\n",
              "      <td>IT</td>\n",
              "      <td>Persistent Systems Limited</td>\n",
              "      <td>PERSISTENT.BO</td>\n",
              "      <td>2012-01-03</td>\n",
              "      <td>162.00</td>\n",
              "      <td>162.50</td>\n",
              "      <td>158.18</td>\n",
              "      <td>158.62</td>\n",
              "      <td>135.73</td>\n",
              "      <td>734.0</td>\n",
              "      <td>420.0</td>\n",
              "      <td>4937.45</td>\n",
              "      <td>107.21</td>\n",
              "      <td>7.733974e+10</td>\n",
              "      <td>3.286125e+10</td>\n",
              "      <td>3.731783e+11</td>\n",
              "      <td>8.705700e+09</td>\n",
              "    </tr>\n",
              "    <tr>\n",
              "      <th>2</th>\n",
              "      <td>2</td>\n",
              "      <td>IT</td>\n",
              "      <td>Persistent Systems Limited</td>\n",
              "      <td>PERSISTENT.BO</td>\n",
              "      <td>2012-01-04</td>\n",
              "      <td>161.00</td>\n",
              "      <td>161.00</td>\n",
              "      <td>158.10</td>\n",
              "      <td>159.38</td>\n",
              "      <td>136.37</td>\n",
              "      <td>788.0</td>\n",
              "      <td>420.0</td>\n",
              "      <td>4937.45</td>\n",
              "      <td>107.21</td>\n",
              "      <td>7.733974e+10</td>\n",
              "      <td>3.286125e+10</td>\n",
              "      <td>3.731783e+11</td>\n",
              "      <td>8.705700e+09</td>\n",
              "    </tr>\n",
              "    <tr>\n",
              "      <th>3</th>\n",
              "      <td>3</td>\n",
              "      <td>IT</td>\n",
              "      <td>Persistent Systems Limited</td>\n",
              "      <td>PERSISTENT.BO</td>\n",
              "      <td>2012-01-05</td>\n",
              "      <td>167.50</td>\n",
              "      <td>167.50</td>\n",
              "      <td>157.62</td>\n",
              "      <td>158.35</td>\n",
              "      <td>135.49</td>\n",
              "      <td>890.0</td>\n",
              "      <td>420.0</td>\n",
              "      <td>4937.45</td>\n",
              "      <td>107.21</td>\n",
              "      <td>7.733974e+10</td>\n",
              "      <td>3.286125e+10</td>\n",
              "      <td>3.731783e+11</td>\n",
              "      <td>8.705700e+09</td>\n",
              "    </tr>\n",
              "    <tr>\n",
              "      <th>4</th>\n",
              "      <td>4</td>\n",
              "      <td>IT</td>\n",
              "      <td>Persistent Systems Limited</td>\n",
              "      <td>PERSISTENT.BO</td>\n",
              "      <td>2012-01-06</td>\n",
              "      <td>162.50</td>\n",
              "      <td>162.50</td>\n",
              "      <td>157.45</td>\n",
              "      <td>159.23</td>\n",
              "      <td>136.24</td>\n",
              "      <td>2964.0</td>\n",
              "      <td>420.0</td>\n",
              "      <td>4937.45</td>\n",
              "      <td>107.21</td>\n",
              "      <td>7.733974e+10</td>\n",
              "      <td>3.286125e+10</td>\n",
              "      <td>3.731783e+11</td>\n",
              "      <td>8.705700e+09</td>\n",
              "    </tr>\n",
              "    <tr>\n",
              "      <th>...</th>\n",
              "      <td>...</td>\n",
              "      <td>...</td>\n",
              "      <td>...</td>\n",
              "      <td>...</td>\n",
              "      <td>...</td>\n",
              "      <td>...</td>\n",
              "      <td>...</td>\n",
              "      <td>...</td>\n",
              "      <td>...</td>\n",
              "      <td>...</td>\n",
              "      <td>...</td>\n",
              "      <td>...</td>\n",
              "      <td>...</td>\n",
              "      <td>...</td>\n",
              "      <td>...</td>\n",
              "      <td>...</td>\n",
              "      <td>...</td>\n",
              "      <td>...</td>\n",
              "    </tr>\n",
              "    <tr>\n",
              "      <th>24816</th>\n",
              "      <td>24816</td>\n",
              "      <td>IT</td>\n",
              "      <td>TATA ELXSI LTD</td>\n",
              "      <td>TATAELXSI.BO</td>\n",
              "      <td>2023-02-28</td>\n",
              "      <td>6380.00</td>\n",
              "      <td>6392.25</td>\n",
              "      <td>6080.00</td>\n",
              "      <td>6127.35</td>\n",
              "      <td>6127.35</td>\n",
              "      <td>27911.0</td>\n",
              "      <td>501.0</td>\n",
              "      <td>6320.75</td>\n",
              "      <td>127.22</td>\n",
              "      <td>1.609860e+10</td>\n",
              "      <td>1.528785e+10</td>\n",
              "      <td>3.883712e+11</td>\n",
              "      <td>2.561001e+09</td>\n",
              "    </tr>\n",
              "    <tr>\n",
              "      <th>24817</th>\n",
              "      <td>24817</td>\n",
              "      <td>IT</td>\n",
              "      <td>TATA ELXSI LTD</td>\n",
              "      <td>TATAELXSI.BO</td>\n",
              "      <td>2023-03-01</td>\n",
              "      <td>6101.30</td>\n",
              "      <td>6270.15</td>\n",
              "      <td>6101.30</td>\n",
              "      <td>6196.95</td>\n",
              "      <td>6196.95</td>\n",
              "      <td>7435.0</td>\n",
              "      <td>501.0</td>\n",
              "      <td>6320.75</td>\n",
              "      <td>127.22</td>\n",
              "      <td>1.609860e+10</td>\n",
              "      <td>1.528785e+10</td>\n",
              "      <td>3.883712e+11</td>\n",
              "      <td>2.561001e+09</td>\n",
              "    </tr>\n",
              "    <tr>\n",
              "      <th>24818</th>\n",
              "      <td>24818</td>\n",
              "      <td>IT</td>\n",
              "      <td>TATA ELXSI LTD</td>\n",
              "      <td>TATAELXSI.BO</td>\n",
              "      <td>2023-03-02</td>\n",
              "      <td>6215.00</td>\n",
              "      <td>6230.00</td>\n",
              "      <td>6131.70</td>\n",
              "      <td>6151.15</td>\n",
              "      <td>6151.15</td>\n",
              "      <td>11189.0</td>\n",
              "      <td>501.0</td>\n",
              "      <td>6320.75</td>\n",
              "      <td>127.22</td>\n",
              "      <td>1.609860e+10</td>\n",
              "      <td>1.528785e+10</td>\n",
              "      <td>3.883712e+11</td>\n",
              "      <td>2.561001e+09</td>\n",
              "    </tr>\n",
              "    <tr>\n",
              "      <th>24819</th>\n",
              "      <td>24819</td>\n",
              "      <td>IT</td>\n",
              "      <td>TATA ELXSI LTD</td>\n",
              "      <td>TATAELXSI.BO</td>\n",
              "      <td>2023-03-03</td>\n",
              "      <td>6160.05</td>\n",
              "      <td>6220.00</td>\n",
              "      <td>6160.05</td>\n",
              "      <td>6179.75</td>\n",
              "      <td>6179.75</td>\n",
              "      <td>13884.0</td>\n",
              "      <td>501.0</td>\n",
              "      <td>6320.75</td>\n",
              "      <td>127.22</td>\n",
              "      <td>1.609860e+10</td>\n",
              "      <td>1.528785e+10</td>\n",
              "      <td>3.883712e+11</td>\n",
              "      <td>2.561001e+09</td>\n",
              "    </tr>\n",
              "    <tr>\n",
              "      <th>24820</th>\n",
              "      <td>24820</td>\n",
              "      <td>IT</td>\n",
              "      <td>TATA ELXSI LTD</td>\n",
              "      <td>TATAELXSI.BO</td>\n",
              "      <td>2023-03-06</td>\n",
              "      <td>6221.00</td>\n",
              "      <td>6320.75</td>\n",
              "      <td>6219.90</td>\n",
              "      <td>6236.25</td>\n",
              "      <td>6236.25</td>\n",
              "      <td>14262.0</td>\n",
              "      <td>501.0</td>\n",
              "      <td>6320.75</td>\n",
              "      <td>127.22</td>\n",
              "      <td>1.609860e+10</td>\n",
              "      <td>1.528785e+10</td>\n",
              "      <td>3.883712e+11</td>\n",
              "      <td>2.561001e+09</td>\n",
              "    </tr>\n",
              "  </tbody>\n",
              "</table>\n",
              "<p>24821 rows × 18 columns</p>\n",
              "</div>\n",
              "      <button class=\"colab-df-convert\" onclick=\"convertToInteractive('df-9fa5fcdc-2d0a-4e97-bea7-01e62fdea8a0')\"\n",
              "              title=\"Convert this dataframe to an interactive table.\"\n",
              "              style=\"display:none;\">\n",
              "        \n",
              "  <svg xmlns=\"http://www.w3.org/2000/svg\" height=\"24px\"viewBox=\"0 0 24 24\"\n",
              "       width=\"24px\">\n",
              "    <path d=\"M0 0h24v24H0V0z\" fill=\"none\"/>\n",
              "    <path d=\"M18.56 5.44l.94 2.06.94-2.06 2.06-.94-2.06-.94-.94-2.06-.94 2.06-2.06.94zm-11 1L8.5 8.5l.94-2.06 2.06-.94-2.06-.94L8.5 2.5l-.94 2.06-2.06.94zm10 10l.94 2.06.94-2.06 2.06-.94-2.06-.94-.94-2.06-.94 2.06-2.06.94z\"/><path d=\"M17.41 7.96l-1.37-1.37c-.4-.4-.92-.59-1.43-.59-.52 0-1.04.2-1.43.59L10.3 9.45l-7.72 7.72c-.78.78-.78 2.05 0 2.83L4 21.41c.39.39.9.59 1.41.59.51 0 1.02-.2 1.41-.59l7.78-7.78 2.81-2.81c.8-.78.8-2.07 0-2.86zM5.41 20L4 18.59l7.72-7.72 1.47 1.35L5.41 20z\"/>\n",
              "  </svg>\n",
              "      </button>\n",
              "      \n",
              "  <style>\n",
              "    .colab-df-container {\n",
              "      display:flex;\n",
              "      flex-wrap:wrap;\n",
              "      gap: 12px;\n",
              "    }\n",
              "\n",
              "    .colab-df-convert {\n",
              "      background-color: #E8F0FE;\n",
              "      border: none;\n",
              "      border-radius: 50%;\n",
              "      cursor: pointer;\n",
              "      display: none;\n",
              "      fill: #1967D2;\n",
              "      height: 32px;\n",
              "      padding: 0 0 0 0;\n",
              "      width: 32px;\n",
              "    }\n",
              "\n",
              "    .colab-df-convert:hover {\n",
              "      background-color: #E2EBFA;\n",
              "      box-shadow: 0px 1px 2px rgba(60, 64, 67, 0.3), 0px 1px 3px 1px rgba(60, 64, 67, 0.15);\n",
              "      fill: #174EA6;\n",
              "    }\n",
              "\n",
              "    [theme=dark] .colab-df-convert {\n",
              "      background-color: #3B4455;\n",
              "      fill: #D2E3FC;\n",
              "    }\n",
              "\n",
              "    [theme=dark] .colab-df-convert:hover {\n",
              "      background-color: #434B5C;\n",
              "      box-shadow: 0px 1px 3px 1px rgba(0, 0, 0, 0.15);\n",
              "      filter: drop-shadow(0px 1px 2px rgba(0, 0, 0, 0.3));\n",
              "      fill: #FFFFFF;\n",
              "    }\n",
              "  </style>\n",
              "\n",
              "      <script>\n",
              "        const buttonEl =\n",
              "          document.querySelector('#df-9fa5fcdc-2d0a-4e97-bea7-01e62fdea8a0 button.colab-df-convert');\n",
              "        buttonEl.style.display =\n",
              "          google.colab.kernel.accessAllowed ? 'block' : 'none';\n",
              "\n",
              "        async function convertToInteractive(key) {\n",
              "          const element = document.querySelector('#df-9fa5fcdc-2d0a-4e97-bea7-01e62fdea8a0');\n",
              "          const dataTable =\n",
              "            await google.colab.kernel.invokeFunction('convertToInteractive',\n",
              "                                                     [key], {});\n",
              "          if (!dataTable) return;\n",
              "\n",
              "          const docLinkHtml = 'Like what you see? Visit the ' +\n",
              "            '<a target=\"_blank\" href=https://colab.research.google.com/notebooks/data_table.ipynb>data table notebook</a>'\n",
              "            + ' to learn more about interactive tables.';\n",
              "          element.innerHTML = '';\n",
              "          dataTable['output_type'] = 'display_data';\n",
              "          await google.colab.output.renderOutput(dataTable, element);\n",
              "          const docLink = document.createElement('div');\n",
              "          docLink.innerHTML = docLinkHtml;\n",
              "          element.appendChild(docLink);\n",
              "        }\n",
              "      </script>\n",
              "    </div>\n",
              "  </div>\n",
              "  "
            ]
          },
          "metadata": {},
          "execution_count": 14
        }
      ]
    },
    {
      "cell_type": "code",
      "source": [
        "df.info()"
      ],
      "metadata": {
        "colab": {
          "base_uri": "https://localhost:8080/"
        },
        "id": "HlG9GLEPlSSX",
        "outputId": "f141910d-3d3c-4cc1-cbad-1572b596a271"
      },
      "execution_count": null,
      "outputs": [
        {
          "output_type": "stream",
          "name": "stdout",
          "text": [
            "<class 'pandas.core.frame.DataFrame'>\n",
            "RangeIndex: 24821 entries, 0 to 24820\n",
            "Data columns (total 18 columns):\n",
            " #   Column         Non-Null Count  Dtype  \n",
            "---  ------         --------------  -----  \n",
            " 0   Unnamed: 0     24821 non-null  int64  \n",
            " 1   Sector         24821 non-null  object \n",
            " 2   Company        24821 non-null  object \n",
            " 3   BSE            24821 non-null  object \n",
            " 4   Date           24820 non-null  object \n",
            " 5   Open           24820 non-null  float64\n",
            " 6   High           24820 non-null  float64\n",
            " 7   Low            24820 non-null  float64\n",
            " 8   Close          24820 non-null  float64\n",
            " 9   Adj Close      24820 non-null  float64\n",
            " 10  Volume         24820 non-null  float64\n",
            " 11  Low_52         24820 non-null  float64\n",
            " 12  High_52        24820 non-null  float64\n",
            " 13  PE_Ratio       24820 non-null  float64\n",
            " 14  Total_Revenue  24820 non-null  float64\n",
            " 15  Gross_Profit   24820 non-null  float64\n",
            " 16  Market_Cap     24820 non-null  float64\n",
            " 17  Net_Company    24820 non-null  float64\n",
            "dtypes: float64(13), int64(1), object(4)\n",
            "memory usage: 3.4+ MB\n"
          ]
        }
      ]
    },
    {
      "cell_type": "code",
      "source": [
        "df.isnull().sum()\n"
      ],
      "metadata": {
        "colab": {
          "base_uri": "https://localhost:8080/"
        },
        "id": "ghK63Q5AldPo",
        "outputId": "7de971bd-df35-4683-938d-6bc2ff1b65a5"
      },
      "execution_count": null,
      "outputs": [
        {
          "output_type": "execute_result",
          "data": {
            "text/plain": [
              "Unnamed: 0       0\n",
              "Sector           0\n",
              "Company          0\n",
              "BSE              0\n",
              "Date             1\n",
              "Open             1\n",
              "High             1\n",
              "Low              1\n",
              "Close            1\n",
              "Adj Close        1\n",
              "Volume           1\n",
              "Low_52           1\n",
              "High_52          1\n",
              "PE_Ratio         1\n",
              "Total_Revenue    1\n",
              "Gross_Profit     1\n",
              "Market_Cap       1\n",
              "Net_Company      1\n",
              "dtype: int64"
            ]
          },
          "metadata": {},
          "execution_count": 16
        }
      ]
    },
    {
      "cell_type": "code",
      "source": [
        "#treating missing value\n",
        "numerical_columns=[\"Open\",\"High\",\"Low\",\"Close\",\"Adj Close\",\"Volume\",\"Low_52\",\n",
        "                   \"High_52\",\"PE_Ratio\",\"Total_Revenue\",\"Gross_Profit\",\"Market_Cap\"]\n",
        "\n",
        "\n",
        "from sklearn.impute import SimpleImputer\n",
        "imputer=SimpleImputer(missing_values=np.nan,strategy=\"mean\")\n",
        "df[numerical_columns]=imputer.fit_transform(df[numerical_columns])"
      ],
      "metadata": {
        "id": "7BpvaFq6lsBF"
      },
      "execution_count": null,
      "outputs": []
    },
    {
      "cell_type": "code",
      "source": [
        "df.isnull().sum()\n"
      ],
      "metadata": {
        "colab": {
          "base_uri": "https://localhost:8080/"
        },
        "id": "AVJn0mJlpE54",
        "outputId": "112dad73-a265-4c67-ce77-da1016352d43"
      },
      "execution_count": null,
      "outputs": [
        {
          "output_type": "execute_result",
          "data": {
            "text/plain": [
              "Sector           0\n",
              "Company          0\n",
              "BSE              0\n",
              "Date             1\n",
              "Open             0\n",
              "High             0\n",
              "Low              0\n",
              "Close            0\n",
              "Adj Close        0\n",
              "Volume           0\n",
              "Low_52           0\n",
              "High_52          0\n",
              "PE_Ratio         0\n",
              "Total_Revenue    0\n",
              "Gross_Profit     0\n",
              "Market_Cap       0\n",
              "Net_Company      1\n",
              "dtype: int64"
            ]
          },
          "metadata": {},
          "execution_count": 27
        }
      ]
    },
    {
      "cell_type": "code",
      "source": [
        "#treating missing value\n",
        "numerical_columns=[\"Net_Company\"]\n",
        "\n",
        "\n",
        "from sklearn.impute import SimpleImputer\n",
        "imputer=SimpleImputer(missing_values=np.nan,strategy=\"mean\")\n",
        "df[numerical_columns]=imputer.fit_transform(df[numerical_columns])"
      ],
      "metadata": {
        "id": "geBYb3VfyGBF"
      },
      "execution_count": null,
      "outputs": []
    },
    {
      "cell_type": "code",
      "source": [
        "df.dropna()"
      ],
      "metadata": {
        "colab": {
          "base_uri": "https://localhost:8080/",
          "height": 835
        },
        "id": "w8tk0KAnxgAC",
        "outputId": "07dc1c62-4771-42e2-964c-2772008249e4"
      },
      "execution_count": null,
      "outputs": [
        {
          "output_type": "execute_result",
          "data": {
            "text/plain": [
              "      Sector                     Company            BSE        Date  \\\n",
              "0         IT  Persistent Systems Limited  PERSISTENT.BO  2012-01-02   \n",
              "1         IT  Persistent Systems Limited  PERSISTENT.BO  2012-01-03   \n",
              "2         IT  Persistent Systems Limited  PERSISTENT.BO  2012-01-04   \n",
              "3         IT  Persistent Systems Limited  PERSISTENT.BO  2012-01-05   \n",
              "4         IT  Persistent Systems Limited  PERSISTENT.BO  2012-01-06   \n",
              "...      ...                         ...            ...         ...   \n",
              "24816     IT              TATA ELXSI LTD   TATAELXSI.BO  2023-02-28   \n",
              "24817     IT              TATA ELXSI LTD   TATAELXSI.BO  2023-03-01   \n",
              "24818     IT              TATA ELXSI LTD   TATAELXSI.BO  2023-03-02   \n",
              "24819     IT              TATA ELXSI LTD   TATAELXSI.BO  2023-03-03   \n",
              "24820     IT              TATA ELXSI LTD   TATAELXSI.BO  2023-03-06   \n",
              "\n",
              "              Open         High         Low        Close    Adj Close  \\\n",
              "0       165.000000   165.500000  160.000000   161.225006   137.954926   \n",
              "1       162.000000   162.500000  158.175003   158.625000   135.730179   \n",
              "2       161.000000   161.000000  158.100006   159.375000   136.371918   \n",
              "3       167.500000   167.500000  157.625000   158.350006   135.494873   \n",
              "4       162.500000   162.500000  157.449997   159.225006   136.243576   \n",
              "...            ...          ...         ...          ...          ...   \n",
              "24816  2214.124878  2241.312378  214.193404  2211.518890  2062.065491   \n",
              "24817  2214.124878  2241.312378  214.193404  2211.518890  2062.065491   \n",
              "24818  2214.124878  2241.312378  214.193404  2211.518890  2062.065491   \n",
              "24819  2214.124878  2241.312378  214.193404  2211.518890  2062.065491   \n",
              "24820  2214.124878  2241.312378  214.193404  2211.518890  2062.065491   \n",
              "\n",
              "        Volume  Low_52  High_52   PE_Ratio  Total_Revenue  Gross_Profit  \\\n",
              "0       3432.0   420.0  4937.45  107.21113   7.733974e+10  3.286125e+10   \n",
              "1        734.0   420.0  4937.45  107.21113   7.733974e+10  3.286125e+10   \n",
              "2        788.0   420.0  4937.45  107.21113   7.733974e+10  3.286125e+10   \n",
              "3        890.0   420.0  4937.45  107.21113   7.733974e+10  3.286125e+10   \n",
              "4       2964.0   420.0  4937.45  107.21113   7.733974e+10  3.286125e+10   \n",
              "...        ...     ...      ...        ...            ...           ...   \n",
              "24816  27911.0   501.0  6320.75  127.21589   1.609860e+10  1.528785e+10   \n",
              "24817   7435.0   501.0  6320.75  127.21589   1.609860e+10  1.528785e+10   \n",
              "24818  11189.0   501.0  6320.75  127.21589   1.609860e+10  1.528785e+10   \n",
              "24819  13884.0   501.0  6320.75  127.21589   1.609860e+10  1.528785e+10   \n",
              "24820  14262.0   501.0  6320.75  127.21589   1.609860e+10  1.528785e+10   \n",
              "\n",
              "         Market_Cap   Net_Company  \n",
              "0      3.731783e+11  8.705700e+09  \n",
              "1      3.731783e+11  8.705700e+09  \n",
              "2      3.731783e+11  8.705700e+09  \n",
              "3      3.731783e+11  8.705700e+09  \n",
              "4      3.731783e+11  8.705700e+09  \n",
              "...             ...           ...  \n",
              "24816  3.883712e+11  2.561001e+09  \n",
              "24817  3.883712e+11  2.561001e+09  \n",
              "24818  3.883712e+11  2.561001e+09  \n",
              "24819  3.883712e+11  2.561001e+09  \n",
              "24820  3.883712e+11  2.561001e+09  \n",
              "\n",
              "[24820 rows x 17 columns]"
            ],
            "text/html": [
              "\n",
              "  <div id=\"df-5d18c4e6-85b2-478e-b070-6e6b18c270c1\">\n",
              "    <div class=\"colab-df-container\">\n",
              "      <div>\n",
              "<style scoped>\n",
              "    .dataframe tbody tr th:only-of-type {\n",
              "        vertical-align: middle;\n",
              "    }\n",
              "\n",
              "    .dataframe tbody tr th {\n",
              "        vertical-align: top;\n",
              "    }\n",
              "\n",
              "    .dataframe thead th {\n",
              "        text-align: right;\n",
              "    }\n",
              "</style>\n",
              "<table border=\"1\" class=\"dataframe\">\n",
              "  <thead>\n",
              "    <tr style=\"text-align: right;\">\n",
              "      <th></th>\n",
              "      <th>Sector</th>\n",
              "      <th>Company</th>\n",
              "      <th>BSE</th>\n",
              "      <th>Date</th>\n",
              "      <th>Open</th>\n",
              "      <th>High</th>\n",
              "      <th>Low</th>\n",
              "      <th>Close</th>\n",
              "      <th>Adj Close</th>\n",
              "      <th>Volume</th>\n",
              "      <th>Low_52</th>\n",
              "      <th>High_52</th>\n",
              "      <th>PE_Ratio</th>\n",
              "      <th>Total_Revenue</th>\n",
              "      <th>Gross_Profit</th>\n",
              "      <th>Market_Cap</th>\n",
              "      <th>Net_Company</th>\n",
              "    </tr>\n",
              "  </thead>\n",
              "  <tbody>\n",
              "    <tr>\n",
              "      <th>0</th>\n",
              "      <td>IT</td>\n",
              "      <td>Persistent Systems Limited</td>\n",
              "      <td>PERSISTENT.BO</td>\n",
              "      <td>2012-01-02</td>\n",
              "      <td>165.000000</td>\n",
              "      <td>165.500000</td>\n",
              "      <td>160.000000</td>\n",
              "      <td>161.225006</td>\n",
              "      <td>137.954926</td>\n",
              "      <td>3432.0</td>\n",
              "      <td>420.0</td>\n",
              "      <td>4937.45</td>\n",
              "      <td>107.21113</td>\n",
              "      <td>7.733974e+10</td>\n",
              "      <td>3.286125e+10</td>\n",
              "      <td>3.731783e+11</td>\n",
              "      <td>8.705700e+09</td>\n",
              "    </tr>\n",
              "    <tr>\n",
              "      <th>1</th>\n",
              "      <td>IT</td>\n",
              "      <td>Persistent Systems Limited</td>\n",
              "      <td>PERSISTENT.BO</td>\n",
              "      <td>2012-01-03</td>\n",
              "      <td>162.000000</td>\n",
              "      <td>162.500000</td>\n",
              "      <td>158.175003</td>\n",
              "      <td>158.625000</td>\n",
              "      <td>135.730179</td>\n",
              "      <td>734.0</td>\n",
              "      <td>420.0</td>\n",
              "      <td>4937.45</td>\n",
              "      <td>107.21113</td>\n",
              "      <td>7.733974e+10</td>\n",
              "      <td>3.286125e+10</td>\n",
              "      <td>3.731783e+11</td>\n",
              "      <td>8.705700e+09</td>\n",
              "    </tr>\n",
              "    <tr>\n",
              "      <th>2</th>\n",
              "      <td>IT</td>\n",
              "      <td>Persistent Systems Limited</td>\n",
              "      <td>PERSISTENT.BO</td>\n",
              "      <td>2012-01-04</td>\n",
              "      <td>161.000000</td>\n",
              "      <td>161.000000</td>\n",
              "      <td>158.100006</td>\n",
              "      <td>159.375000</td>\n",
              "      <td>136.371918</td>\n",
              "      <td>788.0</td>\n",
              "      <td>420.0</td>\n",
              "      <td>4937.45</td>\n",
              "      <td>107.21113</td>\n",
              "      <td>7.733974e+10</td>\n",
              "      <td>3.286125e+10</td>\n",
              "      <td>3.731783e+11</td>\n",
              "      <td>8.705700e+09</td>\n",
              "    </tr>\n",
              "    <tr>\n",
              "      <th>3</th>\n",
              "      <td>IT</td>\n",
              "      <td>Persistent Systems Limited</td>\n",
              "      <td>PERSISTENT.BO</td>\n",
              "      <td>2012-01-05</td>\n",
              "      <td>167.500000</td>\n",
              "      <td>167.500000</td>\n",
              "      <td>157.625000</td>\n",
              "      <td>158.350006</td>\n",
              "      <td>135.494873</td>\n",
              "      <td>890.0</td>\n",
              "      <td>420.0</td>\n",
              "      <td>4937.45</td>\n",
              "      <td>107.21113</td>\n",
              "      <td>7.733974e+10</td>\n",
              "      <td>3.286125e+10</td>\n",
              "      <td>3.731783e+11</td>\n",
              "      <td>8.705700e+09</td>\n",
              "    </tr>\n",
              "    <tr>\n",
              "      <th>4</th>\n",
              "      <td>IT</td>\n",
              "      <td>Persistent Systems Limited</td>\n",
              "      <td>PERSISTENT.BO</td>\n",
              "      <td>2012-01-06</td>\n",
              "      <td>162.500000</td>\n",
              "      <td>162.500000</td>\n",
              "      <td>157.449997</td>\n",
              "      <td>159.225006</td>\n",
              "      <td>136.243576</td>\n",
              "      <td>2964.0</td>\n",
              "      <td>420.0</td>\n",
              "      <td>4937.45</td>\n",
              "      <td>107.21113</td>\n",
              "      <td>7.733974e+10</td>\n",
              "      <td>3.286125e+10</td>\n",
              "      <td>3.731783e+11</td>\n",
              "      <td>8.705700e+09</td>\n",
              "    </tr>\n",
              "    <tr>\n",
              "      <th>...</th>\n",
              "      <td>...</td>\n",
              "      <td>...</td>\n",
              "      <td>...</td>\n",
              "      <td>...</td>\n",
              "      <td>...</td>\n",
              "      <td>...</td>\n",
              "      <td>...</td>\n",
              "      <td>...</td>\n",
              "      <td>...</td>\n",
              "      <td>...</td>\n",
              "      <td>...</td>\n",
              "      <td>...</td>\n",
              "      <td>...</td>\n",
              "      <td>...</td>\n",
              "      <td>...</td>\n",
              "      <td>...</td>\n",
              "      <td>...</td>\n",
              "    </tr>\n",
              "    <tr>\n",
              "      <th>24816</th>\n",
              "      <td>IT</td>\n",
              "      <td>TATA ELXSI LTD</td>\n",
              "      <td>TATAELXSI.BO</td>\n",
              "      <td>2023-02-28</td>\n",
              "      <td>2214.124878</td>\n",
              "      <td>2241.312378</td>\n",
              "      <td>214.193404</td>\n",
              "      <td>2211.518890</td>\n",
              "      <td>2062.065491</td>\n",
              "      <td>27911.0</td>\n",
              "      <td>501.0</td>\n",
              "      <td>6320.75</td>\n",
              "      <td>127.21589</td>\n",
              "      <td>1.609860e+10</td>\n",
              "      <td>1.528785e+10</td>\n",
              "      <td>3.883712e+11</td>\n",
              "      <td>2.561001e+09</td>\n",
              "    </tr>\n",
              "    <tr>\n",
              "      <th>24817</th>\n",
              "      <td>IT</td>\n",
              "      <td>TATA ELXSI LTD</td>\n",
              "      <td>TATAELXSI.BO</td>\n",
              "      <td>2023-03-01</td>\n",
              "      <td>2214.124878</td>\n",
              "      <td>2241.312378</td>\n",
              "      <td>214.193404</td>\n",
              "      <td>2211.518890</td>\n",
              "      <td>2062.065491</td>\n",
              "      <td>7435.0</td>\n",
              "      <td>501.0</td>\n",
              "      <td>6320.75</td>\n",
              "      <td>127.21589</td>\n",
              "      <td>1.609860e+10</td>\n",
              "      <td>1.528785e+10</td>\n",
              "      <td>3.883712e+11</td>\n",
              "      <td>2.561001e+09</td>\n",
              "    </tr>\n",
              "    <tr>\n",
              "      <th>24818</th>\n",
              "      <td>IT</td>\n",
              "      <td>TATA ELXSI LTD</td>\n",
              "      <td>TATAELXSI.BO</td>\n",
              "      <td>2023-03-02</td>\n",
              "      <td>2214.124878</td>\n",
              "      <td>2241.312378</td>\n",
              "      <td>214.193404</td>\n",
              "      <td>2211.518890</td>\n",
              "      <td>2062.065491</td>\n",
              "      <td>11189.0</td>\n",
              "      <td>501.0</td>\n",
              "      <td>6320.75</td>\n",
              "      <td>127.21589</td>\n",
              "      <td>1.609860e+10</td>\n",
              "      <td>1.528785e+10</td>\n",
              "      <td>3.883712e+11</td>\n",
              "      <td>2.561001e+09</td>\n",
              "    </tr>\n",
              "    <tr>\n",
              "      <th>24819</th>\n",
              "      <td>IT</td>\n",
              "      <td>TATA ELXSI LTD</td>\n",
              "      <td>TATAELXSI.BO</td>\n",
              "      <td>2023-03-03</td>\n",
              "      <td>2214.124878</td>\n",
              "      <td>2241.312378</td>\n",
              "      <td>214.193404</td>\n",
              "      <td>2211.518890</td>\n",
              "      <td>2062.065491</td>\n",
              "      <td>13884.0</td>\n",
              "      <td>501.0</td>\n",
              "      <td>6320.75</td>\n",
              "      <td>127.21589</td>\n",
              "      <td>1.609860e+10</td>\n",
              "      <td>1.528785e+10</td>\n",
              "      <td>3.883712e+11</td>\n",
              "      <td>2.561001e+09</td>\n",
              "    </tr>\n",
              "    <tr>\n",
              "      <th>24820</th>\n",
              "      <td>IT</td>\n",
              "      <td>TATA ELXSI LTD</td>\n",
              "      <td>TATAELXSI.BO</td>\n",
              "      <td>2023-03-06</td>\n",
              "      <td>2214.124878</td>\n",
              "      <td>2241.312378</td>\n",
              "      <td>214.193404</td>\n",
              "      <td>2211.518890</td>\n",
              "      <td>2062.065491</td>\n",
              "      <td>14262.0</td>\n",
              "      <td>501.0</td>\n",
              "      <td>6320.75</td>\n",
              "      <td>127.21589</td>\n",
              "      <td>1.609860e+10</td>\n",
              "      <td>1.528785e+10</td>\n",
              "      <td>3.883712e+11</td>\n",
              "      <td>2.561001e+09</td>\n",
              "    </tr>\n",
              "  </tbody>\n",
              "</table>\n",
              "<p>24820 rows × 17 columns</p>\n",
              "</div>\n",
              "      <button class=\"colab-df-convert\" onclick=\"convertToInteractive('df-5d18c4e6-85b2-478e-b070-6e6b18c270c1')\"\n",
              "              title=\"Convert this dataframe to an interactive table.\"\n",
              "              style=\"display:none;\">\n",
              "        \n",
              "  <svg xmlns=\"http://www.w3.org/2000/svg\" height=\"24px\"viewBox=\"0 0 24 24\"\n",
              "       width=\"24px\">\n",
              "    <path d=\"M0 0h24v24H0V0z\" fill=\"none\"/>\n",
              "    <path d=\"M18.56 5.44l.94 2.06.94-2.06 2.06-.94-2.06-.94-.94-2.06-.94 2.06-2.06.94zm-11 1L8.5 8.5l.94-2.06 2.06-.94-2.06-.94L8.5 2.5l-.94 2.06-2.06.94zm10 10l.94 2.06.94-2.06 2.06-.94-2.06-.94-.94-2.06-.94 2.06-2.06.94z\"/><path d=\"M17.41 7.96l-1.37-1.37c-.4-.4-.92-.59-1.43-.59-.52 0-1.04.2-1.43.59L10.3 9.45l-7.72 7.72c-.78.78-.78 2.05 0 2.83L4 21.41c.39.39.9.59 1.41.59.51 0 1.02-.2 1.41-.59l7.78-7.78 2.81-2.81c.8-.78.8-2.07 0-2.86zM5.41 20L4 18.59l7.72-7.72 1.47 1.35L5.41 20z\"/>\n",
              "  </svg>\n",
              "      </button>\n",
              "      \n",
              "  <style>\n",
              "    .colab-df-container {\n",
              "      display:flex;\n",
              "      flex-wrap:wrap;\n",
              "      gap: 12px;\n",
              "    }\n",
              "\n",
              "    .colab-df-convert {\n",
              "      background-color: #E8F0FE;\n",
              "      border: none;\n",
              "      border-radius: 50%;\n",
              "      cursor: pointer;\n",
              "      display: none;\n",
              "      fill: #1967D2;\n",
              "      height: 32px;\n",
              "      padding: 0 0 0 0;\n",
              "      width: 32px;\n",
              "    }\n",
              "\n",
              "    .colab-df-convert:hover {\n",
              "      background-color: #E2EBFA;\n",
              "      box-shadow: 0px 1px 2px rgba(60, 64, 67, 0.3), 0px 1px 3px 1px rgba(60, 64, 67, 0.15);\n",
              "      fill: #174EA6;\n",
              "    }\n",
              "\n",
              "    [theme=dark] .colab-df-convert {\n",
              "      background-color: #3B4455;\n",
              "      fill: #D2E3FC;\n",
              "    }\n",
              "\n",
              "    [theme=dark] .colab-df-convert:hover {\n",
              "      background-color: #434B5C;\n",
              "      box-shadow: 0px 1px 3px 1px rgba(0, 0, 0, 0.15);\n",
              "      filter: drop-shadow(0px 1px 2px rgba(0, 0, 0, 0.3));\n",
              "      fill: #FFFFFF;\n",
              "    }\n",
              "  </style>\n",
              "\n",
              "      <script>\n",
              "        const buttonEl =\n",
              "          document.querySelector('#df-5d18c4e6-85b2-478e-b070-6e6b18c270c1 button.colab-df-convert');\n",
              "        buttonEl.style.display =\n",
              "          google.colab.kernel.accessAllowed ? 'block' : 'none';\n",
              "\n",
              "        async function convertToInteractive(key) {\n",
              "          const element = document.querySelector('#df-5d18c4e6-85b2-478e-b070-6e6b18c270c1');\n",
              "          const dataTable =\n",
              "            await google.colab.kernel.invokeFunction('convertToInteractive',\n",
              "                                                     [key], {});\n",
              "          if (!dataTable) return;\n",
              "\n",
              "          const docLinkHtml = 'Like what you see? Visit the ' +\n",
              "            '<a target=\"_blank\" href=https://colab.research.google.com/notebooks/data_table.ipynb>data table notebook</a>'\n",
              "            + ' to learn more about interactive tables.';\n",
              "          element.innerHTML = '';\n",
              "          dataTable['output_type'] = 'display_data';\n",
              "          await google.colab.output.renderOutput(dataTable, element);\n",
              "          const docLink = document.createElement('div');\n",
              "          docLink.innerHTML = docLinkHtml;\n",
              "          element.appendChild(docLink);\n",
              "        }\n",
              "      </script>\n",
              "    </div>\n",
              "  </div>\n",
              "  "
            ]
          },
          "metadata": {},
          "execution_count": 61
        }
      ]
    },
    {
      "cell_type": "code",
      "source": [
        "df.isnull().sum()"
      ],
      "metadata": {
        "colab": {
          "base_uri": "https://localhost:8080/"
        },
        "id": "ZPB1n8Y-xxIi",
        "outputId": "74072a16-6fe2-4895-9296-54b35f19734e"
      },
      "execution_count": null,
      "outputs": [
        {
          "output_type": "execute_result",
          "data": {
            "text/plain": [
              "Sector           0\n",
              "Company          0\n",
              "BSE              0\n",
              "Date             1\n",
              "Open             0\n",
              "High             0\n",
              "Low              0\n",
              "Close            0\n",
              "Adj Close        0\n",
              "Volume           0\n",
              "Low_52           0\n",
              "High_52          0\n",
              "PE_Ratio         0\n",
              "Total_Revenue    0\n",
              "Gross_Profit     0\n",
              "Market_Cap       0\n",
              "Net_Company      0\n",
              "dtype: int64"
            ]
          },
          "metadata": {},
          "execution_count": 64
        }
      ]
    },
    {
      "cell_type": "code",
      "source": [
        "ncol=list(df.columns)\n",
        "del ncol[0:4]\n",
        "print(ncol)"
      ],
      "metadata": {
        "colab": {
          "base_uri": "https://localhost:8080/"
        },
        "id": "_D-wW8vjq5X_",
        "outputId": "a55a89c2-1731-4188-bcc0-4b63a043667b"
      },
      "execution_count": null,
      "outputs": [
        {
          "output_type": "stream",
          "name": "stdout",
          "text": [
            "['Open', 'High', 'Low', 'Close', 'Adj Close', 'Volume', 'Low_52', 'High_52', 'PE_Ratio', 'Total_Revenue', 'Gross_Profit', 'Market_Cap', 'Net_Company']\n"
          ]
        }
      ]
    },
    {
      "cell_type": "code",
      "source": [
        "#Boxplot for Open column\n",
        "sns.boxplot(df[\"Open\"])"
      ],
      "metadata": {
        "colab": {
          "base_uri": "https://localhost:8080/",
          "height": 351
        },
        "id": "xxrEV4ODpaOM",
        "outputId": "7c87c86a-b54b-47c2-ce68-924d2590c102"
      },
      "execution_count": null,
      "outputs": [
        {
          "output_type": "stream",
          "name": "stderr",
          "text": [
            "/usr/local/lib/python3.8/dist-packages/seaborn/_decorators.py:36: FutureWarning: Pass the following variable as a keyword arg: x. From version 0.12, the only valid positional argument will be `data`, and passing other arguments without an explicit keyword will result in an error or misinterpretation.\n",
            "  warnings.warn(\n"
          ]
        },
        {
          "output_type": "execute_result",
          "data": {
            "text/plain": [
              "<AxesSubplot:xlabel='Open'>"
            ]
          },
          "metadata": {},
          "execution_count": 32
        },
        {
          "output_type": "display_data",
          "data": {
            "text/plain": [
              "<Figure size 432x288 with 1 Axes>"
            ],
            "image/png": "[encoded data removed]"
          },
          "metadata": {
            "needs_background": "light"
          }
        }
      ]
    },
    {
      "cell_type": "code",
      "source": [
        "#removing outlier\n",
        "q1=df[\"Open\"].quantile(.25)\n",
        "q3=df[\"Open\"].quantile(.75)\n",
        "iqr=q3-q1\n",
        "upper_limit=q3+1.5*iqr\n",
        "lower_limit=q1-1.5*iqr\n",
        "def limit_imputer(value):\n",
        "  if value>upper_limit:\n",
        "    return upper_limit\n",
        "  if value<lower_limit:\n",
        "    return lower_limit\n",
        "  else:\n",
        "    return value\n",
        "df[\"Open\"]=df[\"Open\"].apply(limit_imputer)"
      ],
      "metadata": {
        "id": "ArDoMxW1rCxm"
      },
      "execution_count": null,
      "outputs": []
    },
    {
      "cell_type": "code",
      "source": [
        "#Boxplot for High column\n",
        "sns.boxplot(df[\"High\"])"
      ],
      "metadata": {
        "colab": {
          "base_uri": "https://localhost:8080/",
          "height": 351
        },
        "id": "MhdJ4Sx4ribm",
        "outputId": "dda13438-4aa1-4971-8e4e-71ee398eeefd"
      },
      "execution_count": null,
      "outputs": [
        {
          "output_type": "stream",
          "name": "stderr",
          "text": [
            "/usr/local/lib/python3.8/dist-packages/seaborn/_decorators.py:36: FutureWarning: Pass the following variable as a keyword arg: x. From version 0.12, the only valid positional argument will be `data`, and passing other arguments without an explicit keyword will result in an error or misinterpretation.\n",
            "  warnings.warn(\n"
          ]
        },
        {
          "output_type": "execute_result",
          "data": {
            "text/plain": [
              "<AxesSubplot:xlabel='High'>"
            ]
          },
          "metadata": {},
          "execution_count": 36
        },
        {
          "output_type": "display_data",
          "data": {
            "text/plain": [
              "<Figure size 432x288 with 1 Axes>"
            ],
            "image/png": "[encoded data removed]"
          },
          "metadata": {
            "needs_background": "light"
          }
        }
      ]
    },
    {
      "cell_type": "code",
      "source": [
        "#removing outlier\n",
        "q1=df[\"High\"].quantile(.25)\n",
        "q3=df[\"High\"].quantile(.75)\n",
        "iqr=q3-q1\n",
        "upper_limit=q3+1.5*iqr\n",
        "lower_limit=q1-1.5*iqr\n",
        "def limit_imputer(value):\n",
        "  if value>upper_limit:\n",
        "    return upper_limit\n",
        "  if value<lower_limit:\n",
        "    return lower_limit\n",
        "  else:\n",
        "    return value\n",
        "df[\"High\"]=df[\"High\"].apply(limit_imputer)"
      ],
      "metadata": {
        "id": "qWzqGeB6r64n"
      },
      "execution_count": null,
      "outputs": []
    },
    {
      "cell_type": "code",
      "source": [
        "#Boxplot for Low column\n",
        "sns.boxplot(df[\"Low\"])"
      ],
      "metadata": {
        "colab": {
          "base_uri": "https://localhost:8080/",
          "height": 351
        },
        "id": "hkJoHjkRsI0n",
        "outputId": "01b8d9be-bd20-4aed-b786-2ffdd6f31fde"
      },
      "execution_count": null,
      "outputs": [
        {
          "output_type": "stream",
          "name": "stderr",
          "text": [
            "/usr/local/lib/python3.8/dist-packages/seaborn/_decorators.py:36: FutureWarning: Pass the following variable as a keyword arg: x. From version 0.12, the only valid positional argument will be `data`, and passing other arguments without an explicit keyword will result in an error or misinterpretation.\n",
            "  warnings.warn(\n"
          ]
        },
        {
          "output_type": "execute_result",
          "data": {
            "text/plain": [
              "<AxesSubplot:xlabel='Low'>"
            ]
          },
          "metadata": {},
          "execution_count": 38
        },
        {
          "output_type": "display_data",
          "data": {
            "text/plain": [
              "<Figure size 432x288 with 1 Axes>"
            ],
            "image/png": "[encoded data removed]"
          },
          "metadata": {
            "needs_background": "light"
          }
        }
      ]
    },
    {
      "cell_type": "code",
      "source": [
        "#removing outlier\n",
        "q1=df[\"Low\"].quantile(.25)\n",
        "q3=df[\"Low\"].quantile(.75)\n",
        "iqr=q3-q1\n",
        "upper_limit=q3+1.5*iqr\n",
        "lower_limit=q1-1.5*iqr\n",
        "def limit_imputer(value):\n",
        "  if value>upper_limit:\n",
        "    return upper_limit\n",
        "  if value<lower_limit:\n",
        "    return lower_limit\n",
        "  else:\n",
        "    return value\n",
        "df[\"Low\"]=df[\"Low\"].apply(limit_imputer)"
      ],
      "metadata": {
        "id": "a2rSVOyLtuOi"
      },
      "execution_count": null,
      "outputs": []
    },
    {
      "cell_type": "code",
      "source": [
        "#Boxplot for Close column\n",
        "sns.boxplot(df[\"Close\"])"
      ],
      "metadata": {
        "colab": {
          "base_uri": "https://localhost:8080/",
          "height": 351
        },
        "id": "orSigLdWsL7J",
        "outputId": "6aa5543f-54d7-4d98-df9e-24f03b43fc1f"
      },
      "execution_count": null,
      "outputs": [
        {
          "output_type": "stream",
          "name": "stderr",
          "text": [
            "/usr/local/lib/python3.8/dist-packages/seaborn/_decorators.py:36: FutureWarning: Pass the following variable as a keyword arg: x. From version 0.12, the only valid positional argument will be `data`, and passing other arguments without an explicit keyword will result in an error or misinterpretation.\n",
            "  warnings.warn(\n"
          ]
        },
        {
          "output_type": "execute_result",
          "data": {
            "text/plain": [
              "<AxesSubplot:xlabel='Close'>"
            ]
          },
          "metadata": {},
          "execution_count": 40
        },
        {
          "output_type": "display_data",
          "data": {
            "text/plain": [
              "<Figure size 432x288 with 1 Axes>"
            ],
            "image/png": "[encoded data removed]"
          },
          "metadata": {
            "needs_background": "light"
          }
        }
      ]
    },
    {
      "cell_type": "code",
      "source": [
        "#removing outlier\n",
        "q1=df[\"Close\"].quantile(.25)\n",
        "q3=df[\"Close\"].quantile(.75)\n",
        "iqr=q3-q1\n",
        "upper_limit=q3+1.5*iqr\n",
        "lower_limit=q1-1.5*iqr\n",
        "def limit_imputer(value):\n",
        "  if value>upper_limit:\n",
        "    return upper_limit\n",
        "  if value<lower_limit:\n",
        "    return lower_limit\n",
        "  else:\n",
        "    return value\n",
        "df[\"Close\"]=df[\"Close\"].apply(limit_imputer)"
      ],
      "metadata": {
        "id": "N0g2Zsyft_UY"
      },
      "execution_count": null,
      "outputs": []
    },
    {
      "cell_type": "code",
      "source": [
        "#Boxplot for Adj Close column\n",
        "sns.boxplot(df[\"Adj Close\"])"
      ],
      "metadata": {
        "colab": {
          "base_uri": "https://localhost:8080/",
          "height": 351
        },
        "id": "esMLKU2jsT9_",
        "outputId": "c6f2fad8-c326-4b9a-a693-6bd8766b3ca4"
      },
      "execution_count": null,
      "outputs": [
        {
          "output_type": "stream",
          "name": "stderr",
          "text": [
            "/usr/local/lib/python3.8/dist-packages/seaborn/_decorators.py:36: FutureWarning: Pass the following variable as a keyword arg: x. From version 0.12, the only valid positional argument will be `data`, and passing other arguments without an explicit keyword will result in an error or misinterpretation.\n",
            "  warnings.warn(\n"
          ]
        },
        {
          "output_type": "execute_result",
          "data": {
            "text/plain": [
              "<AxesSubplot:xlabel='Adj Close'>"
            ]
          },
          "metadata": {},
          "execution_count": 42
        },
        {
          "output_type": "display_data",
          "data": {
            "text/plain": [
              "<Figure size 432x288 with 1 Axes>"
            ],
            "image/png": "[encoded data removed]"
          },
          "metadata": {
            "needs_background": "light"
          }
        }
      ]
    },
    {
      "cell_type": "code",
      "source": [
        "#removing outlier\n",
        "q1=df[\"Adj Close\"].quantile(.25)\n",
        "q3=df[\"Adj Close\"].quantile(.75)\n",
        "iqr=q3-q1\n",
        "upper_limit=q3+1.5*iqr\n",
        "lower_limit=q1-1.5*iqr\n",
        "def limit_imputer(value):\n",
        "  if value>upper_limit:\n",
        "    return upper_limit\n",
        "  if value<lower_limit:\n",
        "    return lower_limit\n",
        "  else:\n",
        "    return value\n",
        "df[\"Adj Close\"]=df[\"Adj Close\"].apply(limit_imputer)"
      ],
      "metadata": {
        "id": "nlnSLUrGuAmg"
      },
      "execution_count": null,
      "outputs": []
    },
    {
      "cell_type": "code",
      "source": [
        "#Boxplot for Volume column\n",
        "sns.boxplot(df[\"Volume\"])"
      ],
      "metadata": {
        "colab": {
          "base_uri": "https://localhost:8080/",
          "height": 351
        },
        "id": "QlRZXuzPsVLD",
        "outputId": "e7addcf9-b3cc-4da0-b51e-97a40aedd112"
      },
      "execution_count": null,
      "outputs": [
        {
          "output_type": "stream",
          "name": "stderr",
          "text": [
            "/usr/local/lib/python3.8/dist-packages/seaborn/_decorators.py:36: FutureWarning: Pass the following variable as a keyword arg: x. From version 0.12, the only valid positional argument will be `data`, and passing other arguments without an explicit keyword will result in an error or misinterpretation.\n",
            "  warnings.warn(\n"
          ]
        },
        {
          "output_type": "execute_result",
          "data": {
            "text/plain": [
              "<AxesSubplot:xlabel='Volume'>"
            ]
          },
          "metadata": {},
          "execution_count": 44
        },
        {
          "output_type": "display_data",
          "data": {
            "text/plain": [
              "<Figure size 432x288 with 1 Axes>"
            ],
            "image/png": "[encoded data removed]"
          },
          "metadata": {
            "needs_background": "light"
          }
        }
      ]
    },
    {
      "cell_type": "code",
      "source": [
        "#removing outlier\n",
        "q1=df[\"Volume\"].quantile(.25)\n",
        "q3=df[\"Volume\"].quantile(.75)\n",
        "iqr=q3-q1\n",
        "upper_limit=q3+1.5*iqr\n",
        "lower_limit=q1-1.5*iqr\n",
        "def limit_imputer(value):\n",
        "  if value>upper_limit:\n",
        "    return upper_limit\n",
        "  if value<lower_limit:\n",
        "    return lower_limit\n",
        "  else:\n",
        "    return value\n",
        "df[\"Volume\"]=df[\"Volume\"].apply(limit_imputer)"
      ],
      "metadata": {
        "id": "CtMR64RduB-w"
      },
      "execution_count": null,
      "outputs": []
    },
    {
      "cell_type": "code",
      "source": [
        "#Boxplot for Low_52 column\n",
        "sns.boxplot(df[\"Low_52\"])"
      ],
      "metadata": {
        "colab": {
          "base_uri": "https://localhost:8080/",
          "height": 352
        },
        "id": "4PP1GEJUsX8X",
        "outputId": "9908cdfe-4b8f-4117-eadf-e21064fcf0df"
      },
      "execution_count": null,
      "outputs": [
        {
          "output_type": "stream",
          "name": "stderr",
          "text": [
            "/usr/local/lib/python3.8/dist-packages/seaborn/_decorators.py:36: FutureWarning: Pass the following variable as a keyword arg: x. From version 0.12, the only valid positional argument will be `data`, and passing other arguments without an explicit keyword will result in an error or misinterpretation.\n",
            "  warnings.warn(\n"
          ]
        },
        {
          "output_type": "execute_result",
          "data": {
            "text/plain": [
              "<AxesSubplot:xlabel='Low_52'>"
            ]
          },
          "metadata": {},
          "execution_count": 46
        },
        {
          "output_type": "display_data",
          "data": {
            "text/plain": [
              "<Figure size 432x288 with 1 Axes>"
            ],
            "image/png": "[encoded data removed]"
          },
          "metadata": {
            "needs_background": "light"
          }
        }
      ]
    },
    {
      "cell_type": "code",
      "source": [
        "#removing outlier\n",
        "q1=df[\"Low_52\"].quantile(.25)\n",
        "q3=df[\"Low_52\"].quantile(.75)\n",
        "iqr=q3-q1\n",
        "upper_limit=q3+1.5*iqr\n",
        "lower_limit=q1-1.5*iqr\n",
        "def limit_imputer(value):\n",
        "  if value>upper_limit:\n",
        "    return upper_limit\n",
        "  if value<lower_limit:\n",
        "    return lower_limit\n",
        "  else:\n",
        "    return value\n",
        "df[\"Low_52\"]=df[\"Low_52\"].apply(limit_imputer)"
      ],
      "metadata": {
        "id": "fMllcYGCuC-L"
      },
      "execution_count": null,
      "outputs": []
    },
    {
      "cell_type": "code",
      "source": [
        "#Boxplot for High_52 column\n",
        "sns.boxplot(df[\"High_52\"])"
      ],
      "metadata": {
        "colab": {
          "base_uri": "https://localhost:8080/",
          "height": 352
        },
        "id": "47aG-2qPsW4Z",
        "outputId": "eddfec3f-a946-492a-e3f8-a2399d9a3e08"
      },
      "execution_count": null,
      "outputs": [
        {
          "output_type": "stream",
          "name": "stderr",
          "text": [
            "/usr/local/lib/python3.8/dist-packages/seaborn/_decorators.py:36: FutureWarning: Pass the following variable as a keyword arg: x. From version 0.12, the only valid positional argument will be `data`, and passing other arguments without an explicit keyword will result in an error or misinterpretation.\n",
            "  warnings.warn(\n"
          ]
        },
        {
          "output_type": "execute_result",
          "data": {
            "text/plain": [
              "<AxesSubplot:xlabel='High_52'>"
            ]
          },
          "metadata": {},
          "execution_count": 48
        },
        {
          "output_type": "display_data",
          "data": {
            "text/plain": [
              "<Figure size 432x288 with 1 Axes>"
            ],
            "image/png": "[encoded data removed]"
          },
          "metadata": {
            "needs_background": "light"
          }
        }
      ]
    },
    {
      "cell_type": "code",
      "source": [
        "#removing outlier\n",
        "q1=df[\"High_52\"].quantile(.25)\n",
        "q3=df[\"High_52\"].quantile(.75)\n",
        "iqr=q3-q1\n",
        "upper_limit=q3+1.5*iqr\n",
        "lower_limit=q1-1.5*iqr\n",
        "def limit_imputer(value):\n",
        "  if value>upper_limit:\n",
        "    return upper_limit\n",
        "  if value<lower_limit:\n",
        "    return lower_limit\n",
        "  else:\n",
        "    return value\n",
        "df[\"Low\"]=df[\"Low\"].apply(limit_imputer)"
      ],
      "metadata": {
        "id": "AqVP8J3QuD7D"
      },
      "execution_count": null,
      "outputs": []
    },
    {
      "cell_type": "code",
      "source": [
        "#Boxplot for PE_Ratio column\n",
        "sns.boxplot(df[\"PE_Ratio\"])"
      ],
      "metadata": {
        "colab": {
          "base_uri": "https://localhost:8080/",
          "height": 352
        },
        "id": "icJRaqzxsWNl",
        "outputId": "c9f02a5f-370a-4e24-d3ca-a7a115a67667"
      },
      "execution_count": null,
      "outputs": [
        {
          "output_type": "stream",
          "name": "stderr",
          "text": [
            "/usr/local/lib/python3.8/dist-packages/seaborn/_decorators.py:36: FutureWarning: Pass the following variable as a keyword arg: x. From version 0.12, the only valid positional argument will be `data`, and passing other arguments without an explicit keyword will result in an error or misinterpretation.\n",
            "  warnings.warn(\n"
          ]
        },
        {
          "output_type": "execute_result",
          "data": {
            "text/plain": [
              "<AxesSubplot:xlabel='PE_Ratio'>"
            ]
          },
          "metadata": {},
          "execution_count": 50
        },
        {
          "output_type": "display_data",
          "data": {
            "text/plain": [
              "<Figure size 432x288 with 1 Axes>"
            ],
            "image/png": "[encoded data removed]"
          },
          "metadata": {
            "needs_background": "light"
          }
        }
      ]
    },
    {
      "cell_type": "code",
      "source": [
        "#removing outlier\n",
        "q1=df[\"PE_Ratio\"].quantile(.25)\n",
        "q3=df[\"PE_Ratio\"].quantile(.75)\n",
        "iqr=q3-q1\n",
        "upper_limit=q3+1.5*iqr\n",
        "lower_limit=q1-1.5*iqr\n",
        "def limit_imputer(value):\n",
        "  if value>upper_limit:\n",
        "    return upper_limit\n",
        "  if value<lower_limit:\n",
        "    return lower_limit\n",
        "  else:\n",
        "    return value\n",
        "df[\"PE_Ratio\"]=df[\"PE_Ratio\"].apply(limit_imputer)"
      ],
      "metadata": {
        "id": "5yHx6S2iuE59"
      },
      "execution_count": null,
      "outputs": []
    },
    {
      "cell_type": "code",
      "source": [
        "#Boxplot for Gross_Profit column\n",
        "sns.boxplot(df[\"Gross_Profit\"])"
      ],
      "metadata": {
        "colab": {
          "base_uri": "https://localhost:8080/",
          "height": 352
        },
        "id": "17JGQyqcs66a",
        "outputId": "ce846c4a-3805-4899-e9c3-97fa9588f916"
      },
      "execution_count": null,
      "outputs": [
        {
          "output_type": "stream",
          "name": "stderr",
          "text": [
            "/usr/local/lib/python3.8/dist-packages/seaborn/_decorators.py:36: FutureWarning: Pass the following variable as a keyword arg: x. From version 0.12, the only valid positional argument will be `data`, and passing other arguments without an explicit keyword will result in an error or misinterpretation.\n",
            "  warnings.warn(\n"
          ]
        },
        {
          "output_type": "execute_result",
          "data": {
            "text/plain": [
              "<AxesSubplot:xlabel='Gross_Profit'>"
            ]
          },
          "metadata": {},
          "execution_count": 53
        },
        {
          "output_type": "display_data",
          "data": {
            "text/plain": [
              "<Figure size 432x288 with 1 Axes>"
            ],
            "image/png": "[encoded data removed]"
          },
          "metadata": {
            "needs_background": "light"
          }
        }
      ]
    },
    {
      "cell_type": "code",
      "source": [
        "#removing outlier\n",
        "q1=df[\"Gross_Profit\"].quantile(.25)\n",
        "q3=df[\"Gross_Profit\"].quantile(.75)\n",
        "iqr=q3-q1\n",
        "upper_limit=q3+1.5*iqr\n",
        "lower_limit=q1-1.5*iqr\n",
        "def limit_imputer(value):\n",
        "  if value>upper_limit:\n",
        "    return upper_limit\n",
        "  if value<lower_limit:\n",
        "    return lower_limit\n",
        "  else:\n",
        "    return value\n",
        "df[\"Gross_Profit\"]=df[\"Gross_Profit\"].apply(limit_imputer)"
      ],
      "metadata": {
        "id": "UK0NxBw2uGV5"
      },
      "execution_count": null,
      "outputs": []
    },
    {
      "cell_type": "code",
      "source": [
        "#Boxplot for Market_Cap column\n",
        "sns.boxplot(df[\"Market_Cap\"])"
      ],
      "metadata": {
        "colab": {
          "base_uri": "https://localhost:8080/",
          "height": 352
        },
        "id": "eLwtBAuPs50e",
        "outputId": "bd6a4ebc-6d3c-4da3-8c7c-9ed1c5a63767"
      },
      "execution_count": null,
      "outputs": [
        {
          "output_type": "stream",
          "name": "stderr",
          "text": [
            "/usr/local/lib/python3.8/dist-packages/seaborn/_decorators.py:36: FutureWarning: Pass the following variable as a keyword arg: x. From version 0.12, the only valid positional argument will be `data`, and passing other arguments without an explicit keyword will result in an error or misinterpretation.\n",
            "  warnings.warn(\n"
          ]
        },
        {
          "output_type": "execute_result",
          "data": {
            "text/plain": [
              "<AxesSubplot:xlabel='Market_Cap'>"
            ]
          },
          "metadata": {},
          "execution_count": 56
        },
        {
          "output_type": "display_data",
          "data": {
            "text/plain": [
              "<Figure size 432x288 with 1 Axes>"
            ],
            "image/png": "[encoded data removed]"
          },
          "metadata": {
            "needs_background": "light"
          }
        }
      ]
    },
    {
      "cell_type": "code",
      "source": [
        "#removing outlier\n",
        "q1=df[\"Market_Cap\"].quantile(.25)\n",
        "q3=df[\"Market_Cap\"].quantile(.75)\n",
        "iqr=q3-q1\n",
        "upper_limit=q3+1.5*iqr\n",
        "lower_limit=q1-1.5*iqr\n",
        "def limit_imputer(value):\n",
        "  if value>upper_limit:\n",
        "    return upper_limit\n",
        "  if value<lower_limit:\n",
        "    return lower_limit\n",
        "  else:\n",
        "    return value\n",
        "df[\"Market_Cap\"]=df[\"Market_Cap\"].apply(limit_imputer)"
      ],
      "metadata": {
        "id": "f-GGzI2tuHlx"
      },
      "execution_count": null,
      "outputs": []
    },
    {
      "cell_type": "code",
      "source": [
        "#Boxplot for Market_Cap column\n",
        "sns.boxplot(df[\"Net_Company\"])"
      ],
      "metadata": {
        "colab": {
          "base_uri": "https://localhost:8080/",
          "height": 352
        },
        "id": "22InnhATyUuQ",
        "outputId": "959b857a-3cc9-4e45-b307-1e9190eb33b3"
      },
      "execution_count": null,
      "outputs": [
        {
          "output_type": "stream",
          "name": "stderr",
          "text": [
            "/usr/local/lib/python3.8/dist-packages/seaborn/_decorators.py:36: FutureWarning: Pass the following variable as a keyword arg: x. From version 0.12, the only valid positional argument will be `data`, and passing other arguments without an explicit keyword will result in an error or misinterpretation.\n",
            "  warnings.warn(\n"
          ]
        },
        {
          "output_type": "execute_result",
          "data": {
            "text/plain": [
              "<AxesSubplot:xlabel='Net_Company'>"
            ]
          },
          "metadata": {},
          "execution_count": 65
        },
        {
          "output_type": "display_data",
          "data": {
            "text/plain": [
              "<Figure size 432x288 with 1 Axes>"
            ],
            "image/png": "[encoded data removed]"
          },
          "metadata": {
            "needs_background": "light"
          }
        }
      ]
    },
    {
      "cell_type": "code",
      "source": [
        "#removing outlier\n",
        "q1=df[\"Net_Company\"].quantile(.25)\n",
        "q3=df[\"Net_Company\"].quantile(.75)\n",
        "iqr=q3-q1\n",
        "upper_limit=q3+1.5*iqr\n",
        "lower_limit=q1-1.5*iqr\n",
        "def limit_imputer(value):\n",
        "  if value>upper_limit:\n",
        "    return upper_limit\n",
        "  if value<lower_limit:\n",
        "    return lower_limit\n",
        "  else:\n",
        "    return value\n",
        "df[\"Net_Company\"]=df[\"Net_Company\"].apply(limit_imputer)"
      ],
      "metadata": {
        "id": "oEjYBopQyjqJ"
      },
      "execution_count": null,
      "outputs": []
    },
    {
      "cell_type": "code",
      "source": [
        "df.to_csv(\"cleanedIT.csv\")"
      ],
      "metadata": {
        "id": "vdoxOW63wWaz"
      },
      "execution_count": null,
      "outputs": []
    }
  ]
}